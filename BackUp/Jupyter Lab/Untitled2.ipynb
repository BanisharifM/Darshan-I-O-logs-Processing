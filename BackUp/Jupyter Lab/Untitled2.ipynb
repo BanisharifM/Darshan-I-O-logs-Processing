{
 "cells": [
  {
   "cell_type": "code",
   "execution_count": 1,
   "id": "ff6539e7-fd43-4e0f-8f0c-e2f22683e6e5",
   "metadata": {
    "jupyter": {
     "source_hidden": true
    },
    "tags": []
   },
   "outputs": [
    {
     "name": "stdout",
     "output_type": "stream",
     "text": [
      "Node values saved to nodes.csv\n",
      "Edge values saved to edges.csv\n"
     ]
    }
   ],
   "source": [
    "import csv\n",
    "\n",
    "# Define the nodes with their values\n",
    "nodes = {\n",
    "    'C1': {'value': 10},\n",
    "    'C2': {'value': 20},\n",
    "    'C3': {'value': 30},\n",
    "    'C4': {'value': 40}\n",
    "}\n",
    "\n",
    "# Define the adjacency list with edge values\n",
    "adjacency_list = {\n",
    "    'C1': {'C2': 1, 'C3': 2},\n",
    "    'C2': {'C1': 1, 'C4': 3},\n",
    "    'C3': {'C1': 2},\n",
    "    'C4': {'C2': 3}\n",
    "}\n",
    "\n",
    "# Define file paths for the CSV files\n",
    "nodes_file_path = 'nodes.csv'\n",
    "edges_file_path = 'edges.csv'\n",
    "\n",
    "# Save nodes to the CSV file\n",
    "with open(nodes_file_path, 'w', newline='') as file:\n",
    "    writer = csv.writer(file)\n",
    "    writer.writerow(['node', 'value'])\n",
    "    for node, attributes in nodes.items():\n",
    "        writer.writerow([node, attributes['value']])\n",
    "\n",
    "print(f\"Node values saved to {nodes_file_path}\")\n",
    "\n",
    "# Save edges to the CSV file\n",
    "with open(edges_file_path, 'w', newline='') as file:\n",
    "    writer = csv.writer(file)\n",
    "    writer.writerow(['node1', 'node2', 'value'])\n",
    "    for node1, edges in adjacency_list.items():\n",
    "        for node2, value in edges.items():\n",
    "            writer.writerow([node1, node2, value])\n",
    "\n",
    "print(f\"Edge values saved to {edges_file_path}\")\n"
   ]
  },
  {
   "cell_type": "code",
   "execution_count": 2,
   "id": "68ebf789-5579-412b-8d80-d81f166266d9",
   "metadata": {
    "collapsed": true,
    "jupyter": {
     "outputs_hidden": true,
     "source_hidden": true
    },
    "tags": []
   },
   "outputs": [
    {
     "name": "stdout",
     "output_type": "stream",
     "text": [
      "Node values saved to nodes.csv\n",
      "Edge values saved to edges.csv\n"
     ]
    }
   ],
   "source": [
    "import csv\n",
    "\n",
    "# Define the nodes with their values for multiple graphs\n",
    "nodes = {\n",
    "    1: {\n",
    "        'C1': {'value': 10},\n",
    "        'C2': {'value': 20},\n",
    "        'C3': {'value': 30},\n",
    "        'C4': {'value': 40}\n",
    "    },\n",
    "    2: {\n",
    "        'C1': {'value': 15},\n",
    "        'C2': {'value': 25},\n",
    "        'C3': {'value': 35},\n",
    "        'C4': {'value': 45}\n",
    "    }\n",
    "}\n",
    "\n",
    "# Define the adjacency list with edge values for multiple graphs\n",
    "adjacency_list = {\n",
    "    1: {\n",
    "        'C1': {'C2': 1, 'C3': 2},\n",
    "        'C2': {'C1': 1, 'C4': 3},\n",
    "        'C3': {'C1': 2},\n",
    "        'C4': {'C2': 3}\n",
    "    },\n",
    "    2: {\n",
    "        'C1': {'C2': 4, 'C3': 5},\n",
    "        'C2': {'C1': 4, 'C4': 6},\n",
    "        'C3': {'C1': 5},\n",
    "        'C4': {'C2': 6}\n",
    "    }\n",
    "}\n",
    "\n",
    "# Define file paths for the CSV files\n",
    "nodes_file_path = 'nodes.csv'\n",
    "edges_file_path = 'edges.csv'\n",
    "\n",
    "# Save nodes to the CSV file\n",
    "with open(nodes_file_path, 'w', newline='') as file:\n",
    "    writer = csv.writer(file)\n",
    "    writer.writerow(['graph_id', 'node', 'value'])\n",
    "    for graph_id, nodes_data in nodes.items():\n",
    "        for node, attributes in nodes_data.items():\n",
    "            writer.writerow([graph_id, node, attributes['value']])\n",
    "\n",
    "print(f\"Node values saved to {nodes_file_path}\")\n",
    "\n",
    "# Save edges to the CSV file\n",
    "with open(edges_file_path, 'w', newline='') as file:\n",
    "    writer = csv.writer(file)\n",
    "    writer.writerow(['graph_id', 'node1', 'node2', 'value'])\n",
    "    for graph_id, edges_data in adjacency_list.items():\n",
    "        for node1, edges in edges_data.items():\n",
    "            for node2, value in edges.items():\n",
    "                writer.writerow([graph_id, node1, node2, value])\n",
    "\n",
    "print(f\"Edge values saved to {edges_file_path}\")\n"
   ]
  },
  {
   "cell_type": "code",
   "execution_count": 3,
   "id": "266f8c3a-c0e0-4e31-83c4-172ac1675bcb",
   "metadata": {
    "jupyter": {
     "source_hidden": true
    },
    "tags": []
   },
   "outputs": [
    {
     "name": "stdout",
     "output_type": "stream",
     "text": [
      "Node values saved to nodes.csv\n",
      "Edge values saved to edges.csv\n"
     ]
    }
   ],
   "source": [
    "import csv\n",
    "\n",
    "# Define the nodes with their values for multiple graphs\n",
    "nodes = {\n",
    "    1: {\n",
    "        'C1': 10,\n",
    "        'C2': 20,\n",
    "        'C3': 30,\n",
    "        'C4': 40\n",
    "    },\n",
    "    2: {\n",
    "        'C1': 15,\n",
    "        'C2': 25,\n",
    "        'C3': 35,\n",
    "        'C4': 45\n",
    "    }\n",
    "}\n",
    "\n",
    "# Define the adjacency list with edge values for multiple graphs\n",
    "adjacency_list = {\n",
    "    1: {\n",
    "        'C1': {'C2': 1, 'C3': 2},\n",
    "        'C2': {'C1': 1, 'C4': 3},\n",
    "        'C3': {'C1': 2},\n",
    "        'C4': {'C2': 3}\n",
    "    },\n",
    "    2: {\n",
    "        'C1': {'C2': 4, 'C3': 5},\n",
    "        'C2': {'C1': 4, 'C4': 6},\n",
    "        'C3': {'C1': 5},\n",
    "        'C4': {'C2': 6}\n",
    "    }\n",
    "}\n",
    "\n",
    "# Define file paths for the CSV files\n",
    "nodes_file_path = 'nodes.csv'\n",
    "edges_file_path = 'edges.csv'\n",
    "\n",
    "# Save nodes to the CSV file\n",
    "with open(nodes_file_path, 'w', newline='') as file:\n",
    "    writer = csv.writer(file)\n",
    "    # Write header\n",
    "    header = ['graph_id'] + list(nodes[1].keys())\n",
    "    writer.writerow(header)\n",
    "    # Write rows\n",
    "    for graph_id, nodes_data in nodes.items():\n",
    "        row = [graph_id] + [nodes_data[node] for node in header[1:]]\n",
    "        writer.writerow(row)\n",
    "\n",
    "print(f\"Node values saved to {nodes_file_path}\")\n",
    "\n",
    "# Save edges to the CSV file\n",
    "with open(edges_file_path, 'w', newline='') as file:\n",
    "    writer = csv.writer(file)\n",
    "    writer.writerow(['graph_id', 'node1', 'node2', 'value'])\n",
    "    for graph_id, edges_data in adjacency_list.items():\n",
    "        for node1, edges in edges_data.items():\n",
    "            for node2, value in edges.items():\n",
    "                writer.writerow([graph_id, node1, node2, value])\n",
    "\n",
    "print(f\"Edge values saved to {edges_file_path}\")\n"
   ]
  },
  {
   "cell_type": "code",
   "execution_count": 4,
   "id": "b0275019-41fc-492c-b503-9f7812617677",
   "metadata": {
    "collapsed": true,
    "jupyter": {
     "outputs_hidden": true,
     "source_hidden": true
    },
    "tags": []
   },
   "outputs": [
    {
     "name": "stdout",
     "output_type": "stream",
     "text": [
      "Nodes and their values:\n",
      "Graph 1:\n",
      "  C1: 10\n",
      "  C2: 20\n",
      "  C3: 30\n",
      "  C4: 40\n",
      "Graph 2:\n",
      "  C1: 15\n",
      "  C2: 25\n",
      "  C3: 35\n",
      "  C4: 45\n",
      "\n",
      "Adjacency List with edge values:\n",
      "Graph 1:\n",
      "  C1: {'C2': 1, 'C3': 2}\n",
      "  C2: {'C1': 1, 'C4': 3}\n",
      "  C3: {'C1': 2}\n",
      "  C4: {'C2': 3}\n",
      "Graph 2:\n",
      "  C1: {'C2': 4, 'C3': 5}\n",
      "  C2: {'C1': 4, 'C4': 6}\n",
      "  C3: {'C1': 5}\n",
      "  C4: {'C2': 6}\n"
     ]
    }
   ],
   "source": [
    "import csv\n",
    "\n",
    "# Define file paths for the CSV files\n",
    "nodes_file_path = 'nodes.csv'\n",
    "edges_file_path = 'edges.csv'\n",
    "\n",
    "# Read nodes from the CSV file\n",
    "nodes = {}\n",
    "with open(nodes_file_path, 'r') as file:\n",
    "    reader = csv.DictReader(file)\n",
    "    for row in reader:\n",
    "        graph_id = int(row['graph_id'])\n",
    "        if graph_id not in nodes:\n",
    "            nodes[graph_id] = {}\n",
    "        for node, value in row.items():\n",
    "            if node != 'graph_id':\n",
    "                nodes[graph_id][node] = int(value)\n",
    "\n",
    "print(\"Nodes and their values:\")\n",
    "for graph_id, nodes_data in nodes.items():\n",
    "    print(f\"Graph {graph_id}:\")\n",
    "    for node, value in nodes_data.items():\n",
    "        print(f\"  {node}: {value}\")\n",
    "\n",
    "# Read edges from the CSV file\n",
    "adjacency_list = {}\n",
    "with open(edges_file_path, 'r') as file:\n",
    "    reader = csv.DictReader(file)\n",
    "    for row in reader:\n",
    "        graph_id = int(row['graph_id'])\n",
    "        node1 = row['node1']\n",
    "        node2 = row['node2']\n",
    "        value = int(row['value'])\n",
    "        if graph_id not in adjacency_list:\n",
    "            adjacency_list[graph_id] = {}\n",
    "        if node1 not in adjacency_list[graph_id]:\n",
    "            adjacency_list[graph_id][node1] = {}\n",
    "        adjacency_list[graph_id][node1][node2] = value\n",
    "\n",
    "print(\"\\nAdjacency List with edge values:\")\n",
    "for graph_id, edges_data in adjacency_list.items():\n",
    "    print(f\"Graph {graph_id}:\")\n",
    "    for node1, edges in edges_data.items():\n",
    "        print(f\"  {node1}: {edges}\")\n"
   ]
  },
  {
   "cell_type": "code",
   "execution_count": null,
   "id": "5f0adad7-54c6-43bd-8ac4-180bf4df0ff5",
   "metadata": {},
   "outputs": [],
   "source": []
  }
 ],
 "metadata": {
  "kernelspec": {
   "display_name": "Python (env4)",
   "language": "python",
   "name": "env4"
  },
  "language_info": {
   "codemirror_mode": {
    "name": "ipython",
    "version": 3
   },
   "file_extension": ".py",
   "mimetype": "text/x-python",
   "name": "python",
   "nbconvert_exporter": "python",
   "pygments_lexer": "ipython3",
   "version": "3.9.18"
  }
 },
 "nbformat": 4,
 "nbformat_minor": 5
}
