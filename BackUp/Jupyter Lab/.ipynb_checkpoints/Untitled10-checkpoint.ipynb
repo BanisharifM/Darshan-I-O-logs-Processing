{
 "cells": [
  {
   "cell_type": "code",
   "execution_count": 5,
   "id": "1deec179-2d93-413f-a786-d13520934fe9",
   "metadata": {
    "collapsed": true,
    "jupyter": {
     "outputs_hidden": true
    },
    "tags": []
   },
   "outputs": [
    {
     "name": "stdout",
     "output_type": "stream",
     "text": [
      "2024-09-03 02:26:33,370 - INFO - Starting data processing.\n",
      "2024-09-03 02:26:33,370 - INFO - Loading graph structure from Graphs/Graph100/graph_structure.yaml\n",
      "2024-09-03 02:26:33,397 - INFO - Graph structure loaded successfully.\n",
      "2024-09-03 02:26:33,397 - INFO - Loading dataset from CSVs/sample_train.csv\n",
      "2024-09-03 02:27:06,498 - INFO - Dataset loaded successfully.\n",
      "2024-09-03 02:27:06,498 - INFO - Splitting dataset into training and testing sets with test size = 0.25\n",
      "2024-09-03 02:27:08,762 - INFO - Dataset split into 4985414 training rows and 1661805 testing rows.\n",
      "2024-09-03 02:27:08,762 - INFO - Processing training data with 4985414 rows.\n",
      "2024-09-03 02:27:10,412 - INFO - All graphs saved to Graphs/Graph100/train_graphs.csv.\n",
      "2024-09-03 02:27:10,431 - INFO - Processing testing data with 1661805 rows.\n",
      "2024-09-03 02:27:11,945 - INFO - All graphs saved to Graphs/Graph100/test_graphs.csv.\n",
      "2024-09-03 02:27:11,971 - INFO - Data processing completed.\n"
     ]
    }
   ],
   "source": [
    "# total_rows = 1,000\n",
    "!source ~/env4/bin/activate && python /u/mbanisharifdehkordi/Github/GNN_4_IO/generate_graph100.py"
   ]
  },
  {
   "cell_type": "code",
   "execution_count": 9,
   "id": "08970f77-da98-428b-8c05-4c4232f99362",
   "metadata": {
    "collapsed": true,
    "jupyter": {
     "outputs_hidden": true
    },
    "tags": []
   },
   "outputs": [
    {
     "name": "stdout",
     "output_type": "stream",
     "text": [
      "2024-09-03 02:44:52,309 - INFO - Epoch 1, Train Loss: 5.8206, Train RMSE: 5.3394, Test RMSE: 5.3447, Train MAE: 5.3185, Test MAE: 5.3238, Train R²: -196.9958, Test R²: -201.0635\n",
      "2024-09-03 02:44:53,619 - INFO - Epoch 2, Train Loss: 4.2185, Train RMSE: 2.7766, Test RMSE: 2.8060, Train MAE: 2.4082, Test MAE: 2.4420, Train R²: -52.5405, Test R²: -54.6937\n",
      "2024-09-03 02:44:54,904 - INFO - Epoch 3, Train Loss: 1.8691, Train RMSE: 1.6215, Test RMSE: 1.6221, Train MAE: 1.5619, Test MAE: 1.5696, Train R²: -17.2606, Test R²: -17.6118\n",
      "2024-09-03 02:44:56,199 - INFO - Epoch 4, Train Loss: 1.3122, Train RMSE: 1.2307, Test RMSE: 1.2466, Train MAE: 0.9826, Test MAE: 0.9986, Train R²: -9.5185, Test R²: -9.9915\n",
      "2024-09-03 02:44:58,062 - INFO - Epoch 5, Train Loss: 0.8290, Train RMSE: 0.5880, Test RMSE: 0.5889, Train MAE: 0.5429, Test MAE: 0.5354, Train R²: -1.4009, Test R²: -1.4529\n",
      "2024-09-03 02:45:02,448 - INFO - Epoch 6, Train Loss: 0.4389, Train RMSE: 0.4465, Test RMSE: 0.4484, Train MAE: 0.2967, Test MAE: 0.2970, Train R²: -0.3847, Test R²: -0.4221\n",
      "2024-09-03 02:45:04,802 - INFO - Epoch 7, Train Loss: 0.2204, Train RMSE: 0.4170, Test RMSE: 0.4158, Train MAE: 0.2160, Test MAE: 0.2119, Train R²: -0.2074, Test R²: -0.2230\n",
      "2024-09-03 02:45:06,050 - INFO - Epoch 8, Train Loss: 0.1869, Train RMSE: 0.3990, Test RMSE: 0.3982, Train MAE: 0.1861, Test MAE: 0.1823, Train R²: -0.1058, Test R²: -0.1216\n",
      "2024-09-03 02:45:07,315 - INFO - Epoch 9, Train Loss: 0.1716, Train RMSE: 0.3792, Test RMSE: 0.3786, Train MAE: 0.1631, Test MAE: 0.1595, Train R²: 0.0016, Test R²: -0.0139\n",
      "2024-09-03 02:45:08,551 - INFO - Epoch 10, Train Loss: 0.1702, Train RMSE: 0.3954, Test RMSE: 0.3940, Train MAE: 0.1747, Test MAE: 0.1708, Train R²: -0.0856, Test R²: -0.0978\n",
      "2024-09-03 02:45:09,826 - INFO - Epoch 11, Train Loss: 0.1693, Train RMSE: 0.3862, Test RMSE: 0.3847, Train MAE: 0.1707, Test MAE: 0.1673, Train R²: -0.0359, Test R²: -0.0469\n",
      "2024-09-03 02:45:11,155 - INFO - Epoch 12, Train Loss: 0.1699, Train RMSE: 0.4193, Test RMSE: 0.4167, Train MAE: 0.2128, Test MAE: 0.2086, Train R²: -0.2208, Test R²: -0.2285\n",
      "2024-09-03 02:45:12,360 - INFO - Epoch 13, Train Loss: 0.1729, Train RMSE: 0.4096, Test RMSE: 0.4070, Train MAE: 0.1872, Test MAE: 0.1829, Train R²: -0.1654, Test R²: -0.1719\n",
      "2024-09-03 02:45:13,566 - INFO - Epoch 14, Train Loss: 0.1677, Train RMSE: 0.3921, Test RMSE: 0.3898, Train MAE: 0.1603, Test MAE: 0.1565, Train R²: -0.0677, Test R²: -0.0749\n",
      "2024-09-03 02:45:14,788 - INFO - Epoch 15, Train Loss: 0.1728, Train RMSE: 0.3997, Test RMSE: 0.3970, Train MAE: 0.1821, Test MAE: 0.1778, Train R²: -0.1097, Test R²: -0.1150\n",
      "2024-09-03 02:45:16,026 - INFO - Epoch 16, Train Loss: 0.1747, Train RMSE: 0.3902, Test RMSE: 0.3876, Train MAE: 0.1623, Test MAE: 0.1584, Train R²: -0.0574, Test R²: -0.0627\n",
      "2024-09-03 02:45:17,387 - INFO - Epoch 17, Train Loss: 0.1772, Train RMSE: 0.4158, Test RMSE: 0.4125, Train MAE: 0.2011, Test MAE: 0.1966, Train R²: -0.2005, Test R²: -0.2036\n",
      "2024-09-03 02:45:18,578 - INFO - Epoch 18, Train Loss: 0.1831, Train RMSE: 0.3750, Test RMSE: 0.3728, Train MAE: 0.1603, Test MAE: 0.1566, Train R²: 0.0232, Test R²: 0.0169\n",
      "2024-09-03 02:45:21,636 - INFO - Epoch 19, Train Loss: 0.1772, Train RMSE: 0.4319, Test RMSE: 0.4283, Train MAE: 0.2314, Test MAE: 0.2266, Train R²: -0.2955, Test R²: -0.2975\n",
      "2024-09-03 02:45:22,838 - INFO - Epoch 20, Train Loss: 0.1637, Train RMSE: 0.4051, Test RMSE: 0.4017, Train MAE: 0.1809, Test MAE: 0.1765, Train R²: -0.1396, Test R²: -0.1416\n",
      "2024-09-03 02:45:24,039 - INFO - Epoch 21, Train Loss: 0.1654, Train RMSE: 0.4025, Test RMSE: 0.3991, Train MAE: 0.1766, Test MAE: 0.1723, Train R²: -0.1251, Test R²: -0.1265\n",
      "2024-09-03 02:45:25,243 - INFO - Epoch 22, Train Loss: 0.1704, Train RMSE: 0.3892, Test RMSE: 0.3860, Train MAE: 0.1515, Test MAE: 0.1473, Train R²: -0.0522, Test R²: -0.0542\n",
      "2024-09-03 02:45:26,430 - INFO - Epoch 23, Train Loss: 0.1806, Train RMSE: 0.4325, Test RMSE: 0.4282, Train MAE: 0.2287, Test MAE: 0.2236, Train R²: -0.2989, Test R²: -0.2972\n",
      "2024-09-03 02:45:27,595 - INFO - Epoch 24, Train Loss: 0.1718, Train RMSE: 0.3787, Test RMSE: 0.3756, Train MAE: 0.1558, Test MAE: 0.1518, Train R²: 0.0038, Test R²: 0.0020\n",
      "2024-09-03 02:45:28,771 - INFO - Epoch 25, Train Loss: 0.1659, Train RMSE: 0.4087, Test RMSE: 0.4048, Train MAE: 0.1887, Test MAE: 0.1840, Train R²: -0.1600, Test R²: -0.1590\n",
      "2024-09-03 02:45:29,964 - INFO - Epoch 26, Train Loss: 0.1697, Train RMSE: 0.4135, Test RMSE: 0.4094, Train MAE: 0.1977, Test MAE: 0.1930, Train R²: -0.1874, Test R²: -0.1855\n",
      "2024-09-03 02:45:31,136 - INFO - Epoch 27, Train Loss: 0.1713, Train RMSE: 0.4185, Test RMSE: 0.4141, Train MAE: 0.2022, Test MAE: 0.1972, Train R²: -0.2162, Test R²: -0.2129\n",
      "2024-09-03 02:45:34,855 - INFO - Epoch 28, Train Loss: 0.1709, Train RMSE: 0.4073, Test RMSE: 0.4033, Train MAE: 0.1863, Test MAE: 0.1818, Train R²: -0.1523, Test R²: -0.1503\n",
      "2024-09-03 02:45:36,027 - INFO - Epoch 29, Train Loss: 0.1690, Train RMSE: 0.3997, Test RMSE: 0.3956, Train MAE: 0.1676, Test MAE: 0.1628, Train R²: -0.1094, Test R²: -0.1072\n",
      "2024-09-03 02:45:38,841 - INFO - Epoch 30, Train Loss: 0.1694, Train RMSE: 0.4361, Test RMSE: 0.4314, Train MAE: 0.2370, Test MAE: 0.2317, Train R²: -0.3210, Test R²: -0.3162\n",
      "2024-09-03 02:45:40,019 - INFO - Epoch 31, Train Loss: 0.1721, Train RMSE: 0.3981, Test RMSE: 0.3940, Train MAE: 0.1658, Test MAE: 0.1611, Train R²: -0.1005, Test R²: -0.0981\n",
      "2024-09-03 02:45:41,213 - INFO - Epoch 32, Train Loss: 0.1722, Train RMSE: 0.4327, Test RMSE: 0.4280, Train MAE: 0.2349, Test MAE: 0.2300, Train R²: -0.3000, Test R²: -0.2959\n",
      "2024-09-03 02:45:42,415 - INFO - Epoch 33, Train Loss: 0.1722, Train RMSE: 0.3967, Test RMSE: 0.3927, Train MAE: 0.1652, Test MAE: 0.1608, Train R²: -0.0930, Test R²: -0.0908\n",
      "2024-09-03 02:45:44,550 - INFO - Epoch 34, Train Loss: 0.1634, Train RMSE: 0.4049, Test RMSE: 0.4006, Train MAE: 0.1794, Test MAE: 0.1745, Train R²: -0.1386, Test R²: -0.1352\n",
      "2024-09-03 02:45:45,786 - INFO - Epoch 35, Train Loss: 0.1680, Train RMSE: 0.4053, Test RMSE: 0.4010, Train MAE: 0.1805, Test MAE: 0.1755, Train R²: -0.1409, Test R²: -0.1374\n",
      "2024-09-03 02:45:47,013 - INFO - Epoch 36, Train Loss: 0.1671, Train RMSE: 0.3845, Test RMSE: 0.3808, Train MAE: 0.1478, Test MAE: 0.1434, Train R²: -0.0270, Test R²: -0.0255\n",
      "2024-09-03 02:45:48,771 - INFO - Epoch 37, Train Loss: 0.1693, Train RMSE: 0.4062, Test RMSE: 0.4018, Train MAE: 0.1824, Test MAE: 0.1776, Train R²: -0.1459, Test R²: -0.1421\n",
      "2024-09-03 02:45:49,975 - INFO - Epoch 38, Train Loss: 0.1659, Train RMSE: 0.4004, Test RMSE: 0.3960, Train MAE: 0.1667, Test MAE: 0.1618, Train R²: -0.1131, Test R²: -0.1092\n",
      "2024-09-03 02:45:53,030 - INFO - Epoch 39, Train Loss: 0.1608, Train RMSE: 0.3984, Test RMSE: 0.3941, Train MAE: 0.1637, Test MAE: 0.1589, Train R²: -0.1023, Test R²: -0.0987\n",
      "2024-09-03 02:45:54,242 - INFO - Epoch 40, Train Loss: 0.1606, Train RMSE: 0.3859, Test RMSE: 0.3819, Train MAE: 0.1496, Test MAE: 0.1451, Train R²: -0.0345, Test R²: -0.0319\n",
      "2024-09-03 02:45:57,512 - INFO - Epoch 41, Train Loss: 0.1680, Train RMSE: 0.4054, Test RMSE: 0.4008, Train MAE: 0.1763, Test MAE: 0.1713, Train R²: -0.1412, Test R²: -0.1364\n",
      "2024-09-03 02:45:58,696 - INFO - Epoch 42, Train Loss: 0.1666, Train RMSE: 0.4194, Test RMSE: 0.4146, Train MAE: 0.2065, Test MAE: 0.2014, Train R²: -0.2216, Test R²: -0.2160\n",
      "2024-09-03 02:45:59,892 - INFO - Epoch 43, Train Loss: 0.1654, Train RMSE: 0.4014, Test RMSE: 0.3970, Train MAE: 0.1702, Test MAE: 0.1655, Train R²: -0.1191, Test R²: -0.1149\n",
      "2024-09-03 02:46:01,323 - INFO - Epoch 44, Train Loss: 0.1640, Train RMSE: 0.4013, Test RMSE: 0.3968, Train MAE: 0.1680, Test MAE: 0.1630, Train R²: -0.1182, Test R²: -0.1136\n",
      "2024-09-03 02:46:02,520 - INFO - Epoch 45, Train Loss: 0.1682, Train RMSE: 0.3804, Test RMSE: 0.3765, Train MAE: 0.1525, Test MAE: 0.1481, Train R²: -0.0048, Test R²: -0.0025\n",
      "2024-09-03 02:46:03,714 - INFO - Epoch 46, Train Loss: 0.1678, Train RMSE: 0.4038, Test RMSE: 0.3992, Train MAE: 0.1749, Test MAE: 0.1700, Train R²: -0.1322, Test R²: -0.1275\n",
      "2024-09-03 02:46:04,901 - INFO - Epoch 47, Train Loss: 0.1647, Train RMSE: 0.3926, Test RMSE: 0.3883, Train MAE: 0.1498, Test MAE: 0.1450, Train R²: -0.0703, Test R²: -0.0666\n",
      "2024-09-03 02:46:06,139 - INFO - Epoch 48, Train Loss: 0.1633, Train RMSE: 0.3949, Test RMSE: 0.3906, Train MAE: 0.1556, Test MAE: 0.1507, Train R²: -0.0831, Test R²: -0.0790\n",
      "2024-09-03 02:46:07,373 - INFO - Epoch 49, Train Loss: 0.1632, Train RMSE: 0.4015, Test RMSE: 0.3969, Train MAE: 0.1688, Test MAE: 0.1637, Train R²: -0.1194, Test R²: -0.1143\n",
      "2024-09-03 02:46:08,612 - INFO - Epoch 50, Train Loss: 0.1644, Train RMSE: 0.4185, Test RMSE: 0.4136, Train MAE: 0.2046, Test MAE: 0.1993, Train R²: -0.2163, Test R²: -0.2099\n",
      "2024-09-03 02:46:09,841 - INFO - Epoch 51, Train Loss: 0.1707, Train RMSE: 0.3899, Test RMSE: 0.3856, Train MAE: 0.1489, Test MAE: 0.1440, Train R²: -0.0559, Test R²: -0.0520\n",
      "2024-09-03 02:46:11,041 - INFO - Epoch 52, Train Loss: 0.1615, Train RMSE: 0.4130, Test RMSE: 0.4082, Train MAE: 0.1940, Test MAE: 0.1887, Train R²: -0.1847, Test R²: -0.1785\n",
      "2024-09-03 02:46:12,262 - INFO - Epoch 53, Train Loss: 0.1644, Train RMSE: 0.4053, Test RMSE: 0.4007, Train MAE: 0.1792, Test MAE: 0.1741, Train R²: -0.1409, Test R²: -0.1356\n",
      "2024-09-03 02:46:13,493 - INFO - Epoch 54, Train Loss: 0.1647, Train RMSE: 0.4051, Test RMSE: 0.4004, Train MAE: 0.1773, Test MAE: 0.1722, Train R²: -0.1397, Test R²: -0.1341\n",
      "2024-09-03 02:46:17,039 - INFO - Epoch 55, Train Loss: 0.1620, Train RMSE: 0.3973, Test RMSE: 0.3927, Train MAE: 0.1592, Test MAE: 0.1542, Train R²: -0.0960, Test R²: -0.0910\n",
      "2024-09-03 02:46:18,227 - INFO - Epoch 56, Train Loss: 0.1633, Train RMSE: 0.4045, Test RMSE: 0.3997, Train MAE: 0.1743, Test MAE: 0.1690, Train R²: -0.1362, Test R²: -0.1301\n",
      "2024-09-03 02:46:21,667 - INFO - Epoch 57, Train Loss: 0.1627, Train RMSE: 0.4107, Test RMSE: 0.4058, Train MAE: 0.1878, Test MAE: 0.1825, Train R²: -0.1712, Test R²: -0.1647\n",
      "2024-09-03 02:46:22,840 - INFO - Epoch 58, Train Loss: 0.1639, Train RMSE: 0.4035, Test RMSE: 0.3988, Train MAE: 0.1728, Test MAE: 0.1676, Train R²: -0.1306, Test R²: -0.1248\n",
      "2024-09-03 02:46:24,027 - INFO - Epoch 59, Train Loss: 0.1609, Train RMSE: 0.4100, Test RMSE: 0.4052, Train MAE: 0.1872, Test MAE: 0.1819, Train R²: -0.1677, Test R²: -0.1613\n",
      "2024-09-03 02:46:25,216 - INFO - Epoch 60, Train Loss: 0.1647, Train RMSE: 0.4110, Test RMSE: 0.4061, Train MAE: 0.1893, Test MAE: 0.1840, Train R²: -0.1733, Test R²: -0.1668\n",
      "2024-09-03 02:46:32,152 - INFO - Epoch 61, Train Loss: 0.1637, Train RMSE: 0.4108, Test RMSE: 0.4060, Train MAE: 0.1904, Test MAE: 0.1852, Train R²: -0.1719, Test R²: -0.1658\n",
      "2024-09-03 02:46:33,296 - INFO - Epoch 62, Train Loss: 0.1614, Train RMSE: 0.3895, Test RMSE: 0.3852, Train MAE: 0.1459, Test MAE: 0.1409, Train R²: -0.0537, Test R²: -0.0494\n",
      "2024-09-03 02:46:34,483 - INFO - Epoch 63, Train Loss: 0.1614, Train RMSE: 0.3926, Test RMSE: 0.3882, Train MAE: 0.1491, Test MAE: 0.1440, Train R²: -0.0705, Test R²: -0.0658\n",
      "2024-09-03 02:46:35,678 - INFO - Epoch 64, Train Loss: 0.1605, Train RMSE: 0.4018, Test RMSE: 0.3970, Train MAE: 0.1694, Test MAE: 0.1642, Train R²: -0.1209, Test R²: -0.1151\n",
      "2024-09-03 02:46:36,842 - INFO - Epoch 65, Train Loss: 0.1651, Train RMSE: 0.3967, Test RMSE: 0.3921, Train MAE: 0.1586, Test MAE: 0.1535, Train R²: -0.0929, Test R²: -0.0877\n",
      "2024-09-03 02:46:38,018 - INFO - Epoch 66, Train Loss: 0.1596, Train RMSE: 0.3992, Test RMSE: 0.3946, Train MAE: 0.1643, Test MAE: 0.1592, Train R²: -0.1068, Test R²: -0.1014\n",
      "2024-09-03 02:46:39,175 - INFO - Epoch 67, Train Loss: 0.1634, Train RMSE: 0.4059, Test RMSE: 0.4012, Train MAE: 0.1792, Test MAE: 0.1740, Train R²: -0.1445, Test R²: -0.1384\n",
      "2024-09-03 02:46:40,345 - INFO - Epoch 68, Train Loss: 0.1618, Train RMSE: 0.4052, Test RMSE: 0.4005, Train MAE: 0.1776, Test MAE: 0.1724, Train R²: -0.1403, Test R²: -0.1344\n",
      "2024-09-03 02:46:41,534 - INFO - Epoch 69, Train Loss: 0.1595, Train RMSE: 0.4022, Test RMSE: 0.3975, Train MAE: 0.1706, Test MAE: 0.1654, Train R²: -0.1235, Test R²: -0.1177\n",
      "2024-09-03 02:46:42,733 - INFO - Epoch 70, Train Loss: 0.1610, Train RMSE: 0.3977, Test RMSE: 0.3932, Train MAE: 0.1605, Test MAE: 0.1554, Train R²: -0.0987, Test R²: -0.0933\n",
      "2024-09-03 02:46:43,925 - INFO - Epoch 71, Train Loss: 0.1607, Train RMSE: 0.4078, Test RMSE: 0.4029, Train MAE: 0.1814, Test MAE: 0.1761, Train R²: -0.1548, Test R²: -0.1481\n",
      "2024-09-03 02:46:45,096 - INFO - Epoch 72, Train Loss: 0.1629, Train RMSE: 0.4086, Test RMSE: 0.4037, Train MAE: 0.1824, Test MAE: 0.1770, Train R²: -0.1595, Test R²: -0.1525\n",
      "2024-09-03 02:46:46,287 - INFO - Epoch 73, Train Loss: 0.1587, Train RMSE: 0.3953, Test RMSE: 0.3908, Train MAE: 0.1538, Test MAE: 0.1487, Train R²: -0.0855, Test R²: -0.0801\n",
      "2024-09-03 02:46:47,465 - INFO - Epoch 74, Train Loss: 0.1655, Train RMSE: 0.3959, Test RMSE: 0.3913, Train MAE: 0.1555, Test MAE: 0.1504, Train R²: -0.0883, Test R²: -0.0829\n",
      "2024-09-03 02:46:48,638 - INFO - Epoch 75, Train Loss: 0.1634, Train RMSE: 0.4017, Test RMSE: 0.3969, Train MAE: 0.1679, Test MAE: 0.1626, Train R²: -0.1206, Test R²: -0.1144\n",
      "2024-09-03 02:46:49,814 - INFO - Epoch 76, Train Loss: 0.1673, Train RMSE: 0.4043, Test RMSE: 0.3994, Train MAE: 0.1737, Test MAE: 0.1684, Train R²: -0.1350, Test R²: -0.1285\n",
      "2024-09-03 02:46:51,003 - INFO - Epoch 77, Train Loss: 0.1631, Train RMSE: 0.3956, Test RMSE: 0.3910, Train MAE: 0.1541, Test MAE: 0.1489, Train R²: -0.0868, Test R²: -0.0812\n",
      "2024-09-03 02:46:52,162 - INFO - Epoch 78, Train Loss: 0.1655, Train RMSE: 0.4064, Test RMSE: 0.4016, Train MAE: 0.1790, Test MAE: 0.1737, Train R²: -0.1472, Test R²: -0.1406\n",
      "2024-09-03 02:46:53,361 - INFO - Epoch 79, Train Loss: 0.1582, Train RMSE: 0.4025, Test RMSE: 0.3977, Train MAE: 0.1703, Test MAE: 0.1650, Train R²: -0.1248, Test R²: -0.1186\n",
      "2024-09-03 02:46:54,542 - INFO - Epoch 80, Train Loss: 0.1602, Train RMSE: 0.4031, Test RMSE: 0.3983, Train MAE: 0.1714, Test MAE: 0.1662, Train R²: -0.1287, Test R²: -0.1223\n",
      "2024-09-03 02:46:55,750 - INFO - Epoch 81, Train Loss: 0.1590, Train RMSE: 0.3986, Test RMSE: 0.3940, Train MAE: 0.1627, Test MAE: 0.1576, Train R²: -0.1035, Test R²: -0.0979\n",
      "2024-09-03 02:46:56,912 - INFO - Epoch 82, Train Loss: 0.1631, Train RMSE: 0.3903, Test RMSE: 0.3858, Train MAE: 0.1430, Test MAE: 0.1380, Train R²: -0.0578, Test R²: -0.0530\n",
      "2024-09-03 02:46:58,103 - INFO - Epoch 83, Train Loss: 0.1605, Train RMSE: 0.4028, Test RMSE: 0.3980, Train MAE: 0.1713, Test MAE: 0.1660, Train R²: -0.1267, Test R²: -0.1203\n",
      "2024-09-03 02:46:59,476 - INFO - Epoch 84, Train Loss: 0.1593, Train RMSE: 0.3976, Test RMSE: 0.3929, Train MAE: 0.1591, Test MAE: 0.1539, Train R²: -0.0979, Test R²: -0.0919\n",
      "2024-09-03 02:47:00,656 - INFO - Epoch 85, Train Loss: 0.1595, Train RMSE: 0.4061, Test RMSE: 0.4011, Train MAE: 0.1768, Test MAE: 0.1714, Train R²: -0.1455, Test R²: -0.1382\n",
      "2024-09-03 02:47:01,832 - INFO - Epoch 86, Train Loss: 0.1615, Train RMSE: 0.4103, Test RMSE: 0.4052, Train MAE: 0.1857, Test MAE: 0.1802, Train R²: -0.1690, Test R²: -0.1614\n",
      "2024-09-03 02:47:03,011 - INFO - Epoch 87, Train Loss: 0.1607, Train RMSE: 0.4045, Test RMSE: 0.3996, Train MAE: 0.1732, Test MAE: 0.1678, Train R²: -0.1365, Test R²: -0.1293\n",
      "2024-09-03 02:47:04,221 - INFO - Epoch 88, Train Loss: 0.1629, Train RMSE: 0.4033, Test RMSE: 0.3984, Train MAE: 0.1704, Test MAE: 0.1650, Train R²: -0.1296, Test R²: -0.1226\n",
      "2024-09-03 02:47:10,021 - INFO - Epoch 89, Train Loss: 0.1614, Train RMSE: 0.4038, Test RMSE: 0.3989, Train MAE: 0.1726, Test MAE: 0.1673, Train R²: -0.1325, Test R²: -0.1257\n",
      "2024-09-03 02:47:11,189 - INFO - Epoch 90, Train Loss: 0.1622, Train RMSE: 0.3987, Test RMSE: 0.3940, Train MAE: 0.1607, Test MAE: 0.1555, Train R²: -0.1042, Test R²: -0.0978\n",
      "2024-09-03 02:47:12,368 - INFO - Epoch 91, Train Loss: 0.1620, Train RMSE: 0.4001, Test RMSE: 0.3952, Train MAE: 0.1635, Test MAE: 0.1582, Train R²: -0.1115, Test R²: -0.1050\n",
      "2024-09-03 02:47:13,527 - INFO - Epoch 92, Train Loss: 0.1587, Train RMSE: 0.4009, Test RMSE: 0.3961, Train MAE: 0.1652, Test MAE: 0.1599, Train R²: -0.1163, Test R²: -0.1096\n",
      "2024-09-03 02:47:14,713 - INFO - Epoch 93, Train Loss: 0.1598, Train RMSE: 0.4041, Test RMSE: 0.3992, Train MAE: 0.1727, Test MAE: 0.1674, Train R²: -0.1339, Test R²: -0.1271\n",
      "2024-09-03 02:47:15,895 - INFO - Epoch 94, Train Loss: 0.1602, Train RMSE: 0.4033, Test RMSE: 0.3984, Train MAE: 0.1714, Test MAE: 0.1661, Train R²: -0.1296, Test R²: -0.1229\n",
      "2024-09-03 02:47:17,062 - INFO - Epoch 95, Train Loss: 0.1624, Train RMSE: 0.4022, Test RMSE: 0.3974, Train MAE: 0.1692, Test MAE: 0.1640, Train R²: -0.1234, Test R²: -0.1168\n",
      "2024-09-03 02:47:18,219 - INFO - Epoch 96, Train Loss: 0.1597, Train RMSE: 0.4037, Test RMSE: 0.3988, Train MAE: 0.1718, Test MAE: 0.1665, Train R²: -0.1316, Test R²: -0.1247\n",
      "2024-09-03 02:47:19,397 - INFO - Epoch 97, Train Loss: 0.1604, Train RMSE: 0.3975, Test RMSE: 0.3927, Train MAE: 0.1574, Test MAE: 0.1521, Train R²: -0.0975, Test R²: -0.0911\n",
      "2024-09-03 02:47:20,575 - INFO - Epoch 98, Train Loss: 0.1618, Train RMSE: 0.3973, Test RMSE: 0.3925, Train MAE: 0.1565, Test MAE: 0.1512, Train R²: -0.0960, Test R²: -0.0895\n",
      "2024-09-03 02:47:21,769 - INFO - Epoch 99, Train Loss: 0.1636, Train RMSE: 0.4035, Test RMSE: 0.3985, Train MAE: 0.1708, Test MAE: 0.1654, Train R²: -0.1305, Test R²: -0.1233\n",
      "2024-09-03 02:47:22,954 - INFO - Epoch 100, Train Loss: 0.1598, Train RMSE: 0.4027, Test RMSE: 0.3978, Train MAE: 0.1697, Test MAE: 0.1643, Train R²: -0.1262, Test R²: -0.1193\n",
      "2024-09-03 02:47:24,132 - INFO - Epoch 101, Train Loss: 0.1629, Train RMSE: 0.3963, Test RMSE: 0.3916, Train MAE: 0.1559, Test MAE: 0.1506, Train R²: -0.0906, Test R²: -0.0845\n",
      "2024-09-03 02:47:25,613 - INFO - Epoch 102, Train Loss: 0.1618, Train RMSE: 0.4018, Test RMSE: 0.3969, Train MAE: 0.1686, Test MAE: 0.1633, Train R²: -0.1211, Test R²: -0.1145\n",
      "2024-09-03 02:47:26,781 - INFO - Epoch 103, Train Loss: 0.1601, Train RMSE: 0.4007, Test RMSE: 0.3959, Train MAE: 0.1665, Test MAE: 0.1612, Train R²: -0.1151, Test R²: -0.1086\n",
      "2024-09-03 02:47:27,953 - INFO - Epoch 104, Train Loss: 0.1640, Train RMSE: 0.4018, Test RMSE: 0.3970, Train MAE: 0.1691, Test MAE: 0.1638, Train R²: -0.1211, Test R²: -0.1146\n",
      "2024-09-03 02:47:29,130 - INFO - Epoch 105, Train Loss: 0.1614, Train RMSE: 0.3989, Test RMSE: 0.3942, Train MAE: 0.1626, Test MAE: 0.1574, Train R²: -0.1052, Test R²: -0.0989\n",
      "2024-09-03 02:47:30,298 - INFO - Epoch 106, Train Loss: 0.1622, Train RMSE: 0.4001, Test RMSE: 0.3953, Train MAE: 0.1651, Test MAE: 0.1598, Train R²: -0.1119, Test R²: -0.1054\n",
      "2024-09-03 02:47:31,505 - INFO - Epoch 107, Train Loss: 0.1607, Train RMSE: 0.3994, Test RMSE: 0.3946, Train MAE: 0.1633, Test MAE: 0.1580, Train R²: -0.1077, Test R²: -0.1013\n",
      "2024-09-03 02:47:33,081 - INFO - Epoch 108, Train Loss: 0.1577, Train RMSE: 0.4054, Test RMSE: 0.4005, Train MAE: 0.1763, Test MAE: 0.1710, Train R²: -0.1414, Test R²: -0.1343\n",
      "2024-09-03 02:47:34,967 - INFO - Epoch 109, Train Loss: 0.1600, Train RMSE: 0.4011, Test RMSE: 0.3962, Train MAE: 0.1665, Test MAE: 0.1611, Train R²: -0.1173, Test R²: -0.1106\n",
      "2024-09-03 02:47:36,129 - INFO - Epoch 110, Train Loss: 0.1618, Train RMSE: 0.3986, Test RMSE: 0.3938, Train MAE: 0.1606, Test MAE: 0.1553, Train R²: -0.1032, Test R²: -0.0967\n",
      "2024-09-03 02:47:37,326 - INFO - Epoch 111, Train Loss: 0.1596, Train RMSE: 0.4004, Test RMSE: 0.3955, Train MAE: 0.1647, Test MAE: 0.1593, Train R²: -0.1134, Test R²: -0.1066\n",
      "2024-09-03 02:47:41,927 - INFO - Epoch 112, Train Loss: 0.1593, Train RMSE: 0.4039, Test RMSE: 0.3989, Train MAE: 0.1724, Test MAE: 0.1670, Train R²: -0.1328, Test R²: -0.1256\n",
      "2024-09-03 02:47:43,108 - INFO - Epoch 113, Train Loss: 0.1612, Train RMSE: 0.4031, Test RMSE: 0.3981, Train MAE: 0.1708, Test MAE: 0.1654, Train R²: -0.1283, Test R²: -0.1212\n",
      "2024-09-03 02:47:44,273 - INFO - Epoch 114, Train Loss: 0.1626, Train RMSE: 0.4022, Test RMSE: 0.3973, Train MAE: 0.1691, Test MAE: 0.1637, Train R²: -0.1237, Test R²: -0.1167\n",
      "2024-09-03 02:47:45,451 - INFO - Epoch 115, Train Loss: 0.1585, Train RMSE: 0.4009, Test RMSE: 0.3960, Train MAE: 0.1662, Test MAE: 0.1609, Train R²: -0.1159, Test R²: -0.1091\n",
      "2024-09-03 02:47:46,638 - INFO - Epoch 116, Train Loss: 0.1601, Train RMSE: 0.4032, Test RMSE: 0.3982, Train MAE: 0.1713, Test MAE: 0.1659, Train R²: -0.1288, Test R²: -0.1217\n",
      "2024-09-03 02:47:47,837 - INFO - Epoch 117, Train Loss: 0.1606, Train RMSE: 0.3988, Test RMSE: 0.3940, Train MAE: 0.1617, Test MAE: 0.1564, Train R²: -0.1047, Test R²: -0.0981\n",
      "2024-09-03 02:47:49,036 - INFO - Epoch 118, Train Loss: 0.1619, Train RMSE: 0.4034, Test RMSE: 0.3985, Train MAE: 0.1720, Test MAE: 0.1667, Train R²: -0.1302, Test R²: -0.1231\n",
      "2024-09-03 02:47:50,248 - INFO - Epoch 119, Train Loss: 0.1596, Train RMSE: 0.3958, Test RMSE: 0.3911, Train MAE: 0.1548, Test MAE: 0.1495, Train R²: -0.0882, Test R²: -0.0820\n",
      "2024-09-03 02:47:51,423 - INFO - Epoch 120, Train Loss: 0.1628, Train RMSE: 0.3996, Test RMSE: 0.3948, Train MAE: 0.1634, Test MAE: 0.1581, Train R²: -0.1092, Test R²: -0.1025\n",
      "2024-09-03 02:47:52,614 - INFO - Epoch 121, Train Loss: 0.1565, Train RMSE: 0.4031, Test RMSE: 0.3982, Train MAE: 0.1712, Test MAE: 0.1659, Train R²: -0.1286, Test R²: -0.1216\n",
      "2024-09-03 02:47:53,790 - INFO - Epoch 122, Train Loss: 0.1623, Train RMSE: 0.4025, Test RMSE: 0.3976, Train MAE: 0.1700, Test MAE: 0.1646, Train R²: -0.1254, Test R²: -0.1184\n",
      "2024-09-03 02:47:54,959 - INFO - Epoch 123, Train Loss: 0.1554, Train RMSE: 0.4038, Test RMSE: 0.3989, Train MAE: 0.1728, Test MAE: 0.1674, Train R²: -0.1326, Test R²: -0.1255\n",
      "2024-09-03 02:47:56,162 - INFO - Epoch 124, Train Loss: 0.1613, Train RMSE: 0.3999, Test RMSE: 0.3950, Train MAE: 0.1639, Test MAE: 0.1585, Train R²: -0.1106, Test R²: -0.1039\n",
      "2024-09-03 02:47:57,331 - INFO - Epoch 125, Train Loss: 0.1596, Train RMSE: 0.4084, Test RMSE: 0.4034, Train MAE: 0.1825, Test MAE: 0.1771, Train R²: -0.1584, Test R²: -0.1508\n",
      "2024-09-03 02:47:58,502 - INFO - Epoch 126, Train Loss: 0.1602, Train RMSE: 0.4014, Test RMSE: 0.3965, Train MAE: 0.1673, Test MAE: 0.1619, Train R²: -0.1192, Test R²: -0.1123\n",
      "2024-09-03 02:47:59,691 - INFO - Epoch 127, Train Loss: 0.1647, Train RMSE: 0.3998, Test RMSE: 0.3950, Train MAE: 0.1636, Test MAE: 0.1582, Train R²: -0.1103, Test R²: -0.1035\n",
      "2024-09-03 02:48:01,325 - INFO - Epoch 128, Train Loss: 0.1595, Train RMSE: 0.4032, Test RMSE: 0.3983, Train MAE: 0.1710, Test MAE: 0.1656, Train R²: -0.1293, Test R²: -0.1221\n",
      "2024-09-03 02:48:02,493 - INFO - Epoch 129, Train Loss: 0.1603, Train RMSE: 0.3979, Test RMSE: 0.3931, Train MAE: 0.1591, Test MAE: 0.1538, Train R²: -0.0994, Test R²: -0.0929\n",
      "2024-09-03 02:48:06,231 - INFO - Epoch 130, Train Loss: 0.1607, Train RMSE: 0.4056, Test RMSE: 0.4006, Train MAE: 0.1766, Test MAE: 0.1712, Train R²: -0.1425, Test R²: -0.1352\n",
      "2024-09-03 02:48:07,412 - INFO - Epoch 131, Train Loss: 0.1630, Train RMSE: 0.4014, Test RMSE: 0.3965, Train MAE: 0.1675, Test MAE: 0.1622, Train R²: -0.1192, Test R²: -0.1123\n",
      "2024-09-03 02:48:08,593 - INFO - Epoch 132, Train Loss: 0.1612, Train RMSE: 0.4027, Test RMSE: 0.3978, Train MAE: 0.1705, Test MAE: 0.1651, Train R²: -0.1265, Test R²: -0.1195\n",
      "2024-09-03 02:48:09,776 - INFO - Epoch 133, Train Loss: 0.1577, Train RMSE: 0.4014, Test RMSE: 0.3966, Train MAE: 0.1675, Test MAE: 0.1621, Train R²: -0.1192, Test R²: -0.1124\n",
      "2024-09-03 02:48:10,949 - INFO - Epoch 134, Train Loss: 0.1594, Train RMSE: 0.4036, Test RMSE: 0.3986, Train MAE: 0.1724, Test MAE: 0.1670, Train R²: -0.1311, Test R²: -0.1241\n",
      "2024-09-03 02:48:18,982 - INFO - Epoch 135, Train Loss: 0.1596, Train RMSE: 0.4027, Test RMSE: 0.3978, Train MAE: 0.1704, Test MAE: 0.1651, Train R²: -0.1261, Test R²: -0.1192\n",
      "2024-09-03 02:48:20,157 - INFO - Epoch 136, Train Loss: 0.1611, Train RMSE: 0.3988, Test RMSE: 0.3940, Train MAE: 0.1618, Test MAE: 0.1565, Train R²: -0.1047, Test R²: -0.0982\n",
      "2024-09-03 02:48:21,801 - INFO - Epoch 137, Train Loss: 0.1596, Train RMSE: 0.3997, Test RMSE: 0.3949, Train MAE: 0.1638, Test MAE: 0.1585, Train R²: -0.1096, Test R²: -0.1030\n",
      "2024-09-03 02:48:23,235 - INFO - Epoch 138, Train Loss: 0.1608, Train RMSE: 0.4014, Test RMSE: 0.3965, Train MAE: 0.1676, Test MAE: 0.1623, Train R²: -0.1191, Test R²: -0.1123\n",
      "2024-09-03 02:48:24,538 - INFO - Epoch 139, Train Loss: 0.1602, Train RMSE: 0.4037, Test RMSE: 0.3987, Train MAE: 0.1725, Test MAE: 0.1672, Train R²: -0.1318, Test R²: -0.1247\n",
      "2024-09-03 02:48:25,776 - INFO - Epoch 140, Train Loss: 0.1612, Train RMSE: 0.4016, Test RMSE: 0.3967, Train MAE: 0.1679, Test MAE: 0.1625, Train R²: -0.1199, Test R²: -0.1130\n",
      "2024-09-03 02:48:26,980 - INFO - Epoch 141, Train Loss: 0.1621, Train RMSE: 0.4009, Test RMSE: 0.3960, Train MAE: 0.1662, Test MAE: 0.1609, Train R²: -0.1162, Test R²: -0.1093\n",
      "2024-09-03 02:48:44,745 - INFO - Epoch 142, Train Loss: 0.1611, Train RMSE: 0.4017, Test RMSE: 0.3968, Train MAE: 0.1680, Test MAE: 0.1626, Train R²: -0.1207, Test R²: -0.1138\n",
      "2024-09-03 02:48:46,429 - INFO - Epoch 143, Train Loss: 0.1590, Train RMSE: 0.4041, Test RMSE: 0.3991, Train MAE: 0.1731, Test MAE: 0.1677, Train R²: -0.1339, Test R²: -0.1267\n",
      "2024-09-03 02:48:47,628 - INFO - Epoch 144, Train Loss: 0.1614, Train RMSE: 0.4038, Test RMSE: 0.3989, Train MAE: 0.1727, Test MAE: 0.1673, Train R²: -0.1327, Test R²: -0.1255\n",
      "2024-09-03 02:48:49,206 - INFO - Epoch 145, Train Loss: 0.1595, Train RMSE: 0.4036, Test RMSE: 0.3986, Train MAE: 0.1721, Test MAE: 0.1667, Train R²: -0.1311, Test R²: -0.1240\n",
      "2024-09-03 02:48:52,997 - INFO - Epoch 146, Train Loss: 0.1570, Train RMSE: 0.4008, Test RMSE: 0.3960, Train MAE: 0.1660, Test MAE: 0.1607, Train R²: -0.1159, Test R²: -0.1090\n",
      "2024-09-03 02:48:55,565 - INFO - Epoch 147, Train Loss: 0.1601, Train RMSE: 0.4017, Test RMSE: 0.3968, Train MAE: 0.1680, Test MAE: 0.1626, Train R²: -0.1208, Test R²: -0.1138\n",
      "2024-09-03 02:48:56,764 - INFO - Epoch 148, Train Loss: 0.1591, Train RMSE: 0.4011, Test RMSE: 0.3963, Train MAE: 0.1667, Test MAE: 0.1614, Train R²: -0.1175, Test R²: -0.1107\n",
      "2024-09-03 02:48:57,939 - INFO - Epoch 149, Train Loss: 0.1601, Train RMSE: 0.3998, Test RMSE: 0.3949, Train MAE: 0.1637, Test MAE: 0.1584, Train R²: -0.1101, Test R²: -0.1034\n",
      "2024-09-03 02:48:59,112 - INFO - Epoch 150, Train Loss: 0.1606, Train RMSE: 0.3994, Test RMSE: 0.3946, Train MAE: 0.1629, Test MAE: 0.1575, Train R²: -0.1080, Test R²: -0.1014\n",
      "2024-09-03 02:49:01,126 - INFO - Epoch 151, Train Loss: 0.1580, Train RMSE: 0.3996, Test RMSE: 0.3948, Train MAE: 0.1633, Test MAE: 0.1579, Train R²: -0.1091, Test R²: -0.1024\n",
      "2024-09-03 02:49:02,316 - INFO - Epoch 152, Train Loss: 0.1610, Train RMSE: 0.4019, Test RMSE: 0.3970, Train MAE: 0.1684, Test MAE: 0.1630, Train R²: -0.1217, Test R²: -0.1147\n",
      "2024-09-03 02:49:03,516 - INFO - Epoch 153, Train Loss: 0.1625, Train RMSE: 0.4021, Test RMSE: 0.3972, Train MAE: 0.1688, Test MAE: 0.1634, Train R²: -0.1227, Test R²: -0.1157\n",
      "2024-09-03 02:49:04,687 - INFO - Epoch 154, Train Loss: 0.1610, Train RMSE: 0.4031, Test RMSE: 0.3981, Train MAE: 0.1710, Test MAE: 0.1656, Train R²: -0.1283, Test R²: -0.1212\n",
      "2024-09-03 02:49:05,868 - INFO - Epoch 155, Train Loss: 0.1606, Train RMSE: 0.4013, Test RMSE: 0.3964, Train MAE: 0.1672, Test MAE: 0.1618, Train R²: -0.1186, Test R²: -0.1117\n",
      "2024-09-03 02:49:07,152 - INFO - Epoch 156, Train Loss: 0.1637, Train RMSE: 0.4010, Test RMSE: 0.3961, Train MAE: 0.1665, Test MAE: 0.1611, Train R²: -0.1169, Test R²: -0.1101\n",
      "2024-09-03 02:49:08,357 - INFO - Epoch 157, Train Loss: 0.1590, Train RMSE: 0.4006, Test RMSE: 0.3957, Train MAE: 0.1655, Test MAE: 0.1601, Train R²: -0.1144, Test R²: -0.1076\n",
      "2024-09-03 02:49:09,510 - INFO - Epoch 158, Train Loss: 0.1594, Train RMSE: 0.4011, Test RMSE: 0.3963, Train MAE: 0.1667, Test MAE: 0.1614, Train R²: -0.1175, Test R²: -0.1107\n",
      "2024-09-03 02:49:10,754 - INFO - Epoch 159, Train Loss: 0.1567, Train RMSE: 0.4020, Test RMSE: 0.3971, Train MAE: 0.1686, Test MAE: 0.1632, Train R²: -0.1221, Test R²: -0.1152\n",
      "2024-09-03 02:49:11,905 - INFO - Epoch 160, Train Loss: 0.1595, Train RMSE: 0.4022, Test RMSE: 0.3973, Train MAE: 0.1691, Test MAE: 0.1638, Train R²: -0.1237, Test R²: -0.1166\n",
      "2024-09-03 02:49:13,104 - INFO - Epoch 161, Train Loss: 0.1582, Train RMSE: 0.4016, Test RMSE: 0.3967, Train MAE: 0.1677, Test MAE: 0.1624, Train R²: -0.1200, Test R²: -0.1131\n",
      "2024-09-03 02:49:14,252 - INFO - Epoch 162, Train Loss: 0.1600, Train RMSE: 0.4011, Test RMSE: 0.3962, Train MAE: 0.1666, Test MAE: 0.1613, Train R²: -0.1173, Test R²: -0.1104\n",
      "2024-09-03 02:49:15,433 - INFO - Epoch 163, Train Loss: 0.1590, Train RMSE: 0.4017, Test RMSE: 0.3968, Train MAE: 0.1680, Test MAE: 0.1626, Train R²: -0.1207, Test R²: -0.1137\n",
      "2024-09-03 02:49:16,616 - INFO - Epoch 164, Train Loss: 0.1581, Train RMSE: 0.4020, Test RMSE: 0.3971, Train MAE: 0.1686, Test MAE: 0.1632, Train R²: -0.1222, Test R²: -0.1152\n",
      "2024-09-03 02:49:17,787 - INFO - Epoch 165, Train Loss: 0.1599, Train RMSE: 0.4018, Test RMSE: 0.3969, Train MAE: 0.1682, Test MAE: 0.1629, Train R²: -0.1214, Test R²: -0.1144\n",
      "2024-09-03 02:49:18,968 - INFO - Epoch 166, Train Loss: 0.1598, Train RMSE: 0.4015, Test RMSE: 0.3966, Train MAE: 0.1676, Test MAE: 0.1622, Train R²: -0.1198, Test R²: -0.1128\n",
      "2024-09-03 02:49:20,163 - INFO - Epoch 167, Train Loss: 0.1612, Train RMSE: 0.4015, Test RMSE: 0.3966, Train MAE: 0.1674, Test MAE: 0.1621, Train R²: -0.1194, Test R²: -0.1125\n",
      "2024-09-03 02:49:21,366 - INFO - Epoch 168, Train Loss: 0.1590, Train RMSE: 0.4012, Test RMSE: 0.3963, Train MAE: 0.1669, Test MAE: 0.1615, Train R²: -0.1180, Test R²: -0.1111\n",
      "2024-09-03 02:49:22,553 - INFO - Epoch 169, Train Loss: 0.1584, Train RMSE: 0.4013, Test RMSE: 0.3964, Train MAE: 0.1670, Test MAE: 0.1616, Train R²: -0.1183, Test R²: -0.1113\n",
      "2024-09-03 02:49:23,759 - INFO - Epoch 170, Train Loss: 0.1571, Train RMSE: 0.4013, Test RMSE: 0.3964, Train MAE: 0.1671, Test MAE: 0.1617, Train R²: -0.1186, Test R²: -0.1117\n",
      "2024-09-03 02:49:24,958 - INFO - Epoch 171, Train Loss: 0.1611, Train RMSE: 0.4012, Test RMSE: 0.3963, Train MAE: 0.1668, Test MAE: 0.1615, Train R²: -0.1179, Test R²: -0.1110\n",
      "2024-09-03 02:49:26,149 - INFO - Epoch 172, Train Loss: 0.1612, Train RMSE: 0.4007, Test RMSE: 0.3958, Train MAE: 0.1657, Test MAE: 0.1603, Train R²: -0.1151, Test R²: -0.1082\n",
      "2024-09-03 02:49:27,338 - INFO - Epoch 173, Train Loss: 0.1593, Train RMSE: 0.4009, Test RMSE: 0.3960, Train MAE: 0.1661, Test MAE: 0.1607, Train R²: -0.1160, Test R²: -0.1091\n",
      "2024-09-03 02:49:28,507 - INFO - Epoch 174, Train Loss: 0.1595, Train RMSE: 0.4014, Test RMSE: 0.3965, Train MAE: 0.1672, Test MAE: 0.1619, Train R²: -0.1189, Test R²: -0.1120\n",
      "2024-09-03 02:49:29,697 - INFO - Epoch 175, Train Loss: 0.1614, Train RMSE: 0.4016, Test RMSE: 0.3967, Train MAE: 0.1677, Test MAE: 0.1623, Train R²: -0.1200, Test R²: -0.1130\n",
      "2024-09-03 02:49:30,924 - INFO - Epoch 176, Train Loss: 0.1619, Train RMSE: 0.4018, Test RMSE: 0.3969, Train MAE: 0.1682, Test MAE: 0.1628, Train R²: -0.1211, Test R²: -0.1142\n",
      "2024-09-03 02:49:32,132 - INFO - Epoch 177, Train Loss: 0.1601, Train RMSE: 0.4018, Test RMSE: 0.3969, Train MAE: 0.1682, Test MAE: 0.1628, Train R²: -0.1212, Test R²: -0.1143\n",
      "2024-09-03 02:49:33,307 - INFO - Epoch 178, Train Loss: 0.1631, Train RMSE: 0.4023, Test RMSE: 0.3974, Train MAE: 0.1692, Test MAE: 0.1639, Train R²: -0.1239, Test R²: -0.1169\n",
      "2024-09-03 02:49:34,533 - INFO - Epoch 179, Train Loss: 0.1629, Train RMSE: 0.4024, Test RMSE: 0.3975, Train MAE: 0.1695, Test MAE: 0.1641, Train R²: -0.1245, Test R²: -0.1175\n",
      "2024-09-03 02:49:35,747 - INFO - Epoch 180, Train Loss: 0.1571, Train RMSE: 0.4023, Test RMSE: 0.3974, Train MAE: 0.1693, Test MAE: 0.1640, Train R²: -0.1242, Test R²: -0.1171\n",
      "2024-09-03 02:49:36,944 - INFO - Epoch 181, Train Loss: 0.1601, Train RMSE: 0.4021, Test RMSE: 0.3972, Train MAE: 0.1688, Test MAE: 0.1634, Train R²: -0.1228, Test R²: -0.1158\n",
      "2024-09-03 02:49:38,139 - INFO - Epoch 182, Train Loss: 0.1594, Train RMSE: 0.4017, Test RMSE: 0.3968, Train MAE: 0.1679, Test MAE: 0.1626, Train R²: -0.1206, Test R²: -0.1136\n",
      "2024-09-03 02:49:46,593 - INFO - Epoch 183, Train Loss: 0.1595, Train RMSE: 0.4010, Test RMSE: 0.3961, Train MAE: 0.1664, Test MAE: 0.1611, Train R²: -0.1169, Test R²: -0.1100\n",
      "2024-09-03 02:49:47,868 - INFO - Epoch 184, Train Loss: 0.1611, Train RMSE: 0.4010, Test RMSE: 0.3961, Train MAE: 0.1663, Test MAE: 0.1610, Train R²: -0.1166, Test R²: -0.1097\n",
      "2024-09-03 02:49:49,305 - INFO - Epoch 185, Train Loss: 0.1585, Train RMSE: 0.4014, Test RMSE: 0.3965, Train MAE: 0.1673, Test MAE: 0.1619, Train R²: -0.1189, Test R²: -0.1120\n",
      "2024-09-03 02:49:50,585 - INFO - Epoch 186, Train Loss: 0.1598, Train RMSE: 0.4014, Test RMSE: 0.3965, Train MAE: 0.1674, Test MAE: 0.1620, Train R²: -0.1191, Test R²: -0.1122\n",
      "2024-09-03 02:49:51,798 - INFO - Epoch 187, Train Loss: 0.1597, Train RMSE: 0.4010, Test RMSE: 0.3961, Train MAE: 0.1664, Test MAE: 0.1610, Train R²: -0.1167, Test R²: -0.1098\n",
      "2024-09-03 02:49:53,021 - INFO - Epoch 188, Train Loss: 0.1605, Train RMSE: 0.4007, Test RMSE: 0.3959, Train MAE: 0.1658, Test MAE: 0.1605, Train R²: -0.1152, Test R²: -0.1084\n",
      "2024-09-03 02:49:54,237 - INFO - Epoch 189, Train Loss: 0.1604, Train RMSE: 0.4007, Test RMSE: 0.3958, Train MAE: 0.1657, Test MAE: 0.1604, Train R²: -0.1150, Test R²: -0.1082\n",
      "2024-09-03 02:49:55,468 - INFO - Epoch 190, Train Loss: 0.1616, Train RMSE: 0.4012, Test RMSE: 0.3963, Train MAE: 0.1669, Test MAE: 0.1615, Train R²: -0.1178, Test R²: -0.1110\n",
      "2024-09-03 02:49:56,699 - INFO - Epoch 191, Train Loss: 0.1603, Train RMSE: 0.4010, Test RMSE: 0.3961, Train MAE: 0.1664, Test MAE: 0.1610, Train R²: -0.1166, Test R²: -0.1098\n",
      "2024-09-03 02:49:57,908 - INFO - Epoch 192, Train Loss: 0.1614, Train RMSE: 0.4010, Test RMSE: 0.3961, Train MAE: 0.1664, Test MAE: 0.1610, Train R²: -0.1165, Test R²: -0.1096\n",
      "2024-09-03 02:49:59,118 - INFO - Epoch 193, Train Loss: 0.1602, Train RMSE: 0.4011, Test RMSE: 0.3962, Train MAE: 0.1667, Test MAE: 0.1613, Train R²: -0.1173, Test R²: -0.1104\n",
      "2024-09-03 02:50:00,357 - INFO - Epoch 194, Train Loss: 0.1567, Train RMSE: 0.4012, Test RMSE: 0.3963, Train MAE: 0.1670, Test MAE: 0.1616, Train R²: -0.1180, Test R²: -0.1111\n",
      "2024-09-03 02:50:01,580 - INFO - Epoch 195, Train Loss: 0.1583, Train RMSE: 0.4010, Test RMSE: 0.3962, Train MAE: 0.1666, Test MAE: 0.1612, Train R²: -0.1170, Test R²: -0.1101\n",
      "2024-09-03 02:50:02,813 - INFO - Epoch 196, Train Loss: 0.1600, Train RMSE: 0.4010, Test RMSE: 0.3961, Train MAE: 0.1665, Test MAE: 0.1611, Train R²: -0.1168, Test R²: -0.1099\n",
      "2024-09-03 02:50:04,046 - INFO - Epoch 197, Train Loss: 0.1570, Train RMSE: 0.4016, Test RMSE: 0.3967, Train MAE: 0.1677, Test MAE: 0.1624, Train R²: -0.1198, Test R²: -0.1129\n",
      "2024-09-03 02:50:05,367 - INFO - Epoch 198, Train Loss: 0.1576, Train RMSE: 0.4014, Test RMSE: 0.3965, Train MAE: 0.1674, Test MAE: 0.1621, Train R²: -0.1191, Test R²: -0.1122\n",
      "2024-09-03 02:50:06,673 - INFO - Epoch 199, Train Loss: 0.1589, Train RMSE: 0.4012, Test RMSE: 0.3963, Train MAE: 0.1669, Test MAE: 0.1615, Train R²: -0.1178, Test R²: -0.1109\n",
      "2024-09-03 02:50:08,007 - INFO - Epoch 200, Train Loss: 0.1609, Train RMSE: 0.4008, Test RMSE: 0.3959, Train MAE: 0.1660, Test MAE: 0.1606, Train R²: -0.1155, Test R²: -0.1087\n"
     ]
    }
   ],
   "source": [
    "!source ~/env4/bin/activate && python /u/mbanisharifdehkordi/Github/GNN_4_IO/gnn_training100.py"
   ]
  },
  {
   "cell_type": "code",
   "execution_count": 10,
   "id": "11ff7606-cc39-4d78-a55f-7938db3507a5",
   "metadata": {
    "collapsed": true,
    "jupyter": {
     "outputs_hidden": true
    },
    "tags": []
   },
   "outputs": [
    {
     "name": "stdout",
     "output_type": "stream",
     "text": [
      "2024-09-03 02:52:14,730 - INFO - Starting data processing.\n",
      "2024-09-03 02:52:14,730 - INFO - Loading graph structure from Graphs/Graph101/graph_structure.yaml\n",
      "2024-09-03 02:52:14,758 - INFO - Graph structure loaded successfully.\n",
      "2024-09-03 02:52:14,758 - INFO - Loading dataset from CSVs/sample_train.csv\n",
      "2024-09-03 02:52:42,078 - INFO - Dataset loaded successfully.\n",
      "2024-09-03 02:52:42,078 - INFO - Splitting dataset into training and testing sets with test size = 0.25\n",
      "2024-09-03 02:52:44,329 - INFO - Dataset split into 4985414 training rows and 1661805 testing rows.\n",
      "2024-09-03 02:52:44,329 - INFO - Processing training data with 4985414 rows.\n",
      "2024-09-03 02:52:58,885 - INFO - All graphs saved to Graphs/Graph101/train_graphs.csv.\n",
      "2024-09-03 02:52:59,060 - INFO - Processing testing data with 1661805 rows.\n",
      "2024-09-03 02:53:13,432 - INFO - All graphs saved to Graphs/Graph101/test_graphs.csv.\n",
      "2024-09-03 02:53:13,605 - INFO - Data processing completed.\n"
     ]
    }
   ],
   "source": [
    "# total_rows = 10,000\n",
    "!source ~/env4/bin/activate && python /u/mbanisharifdehkordi/Github/GNN_4_IO/generate_graph100.py"
   ]
  },
  {
   "cell_type": "code",
   "execution_count": 12,
   "id": "19b489d5-1ae5-4471-b28b-71b381a2eee2",
   "metadata": {
    "collapsed": true,
    "jupyter": {
     "outputs_hidden": true
    },
    "tags": []
   },
   "outputs": [
    {
     "name": "stdout",
     "output_type": "stream",
     "text": [
      "2024-09-03 02:57:14,263 - INFO - Epoch 1, Train Loss: 1.6376, Train RMSE: 0.3963, Test RMSE: 0.3975, Train MAE: 0.1643, Test MAE: 0.1635, Train R²: -0.0488, Test R²: -0.0490\n",
      "2024-09-03 02:57:47,494 - INFO - Epoch 2, Train Loss: 0.1762, Train RMSE: 0.3720, Test RMSE: 0.3733, Train MAE: 0.1562, Test MAE: 0.1546, Train R²: 0.0761, Test R²: 0.0752\n",
      "2024-09-03 02:58:10,502 - INFO - Epoch 3, Train Loss: 0.1762, Train RMSE: 0.3709, Test RMSE: 0.3721, Train MAE: 0.1434, Test MAE: 0.1417, Train R²: 0.0811, Test R²: 0.0808\n",
      "2024-09-03 02:58:33,477 - INFO - Epoch 4, Train Loss: 0.1736, Train RMSE: 0.3807, Test RMSE: 0.3818, Train MAE: 0.1338, Test MAE: 0.1326, Train R²: 0.0319, Test R²: 0.0324\n",
      "2024-09-03 02:58:46,316 - INFO - Epoch 5, Train Loss: 0.1719, Train RMSE: 0.3696, Test RMSE: 0.3707, Train MAE: 0.1412, Test MAE: 0.1395, Train R²: 0.0877, Test R²: 0.0878\n",
      "2024-09-03 02:59:04,998 - INFO - Epoch 6, Train Loss: 0.1727, Train RMSE: 0.3806, Test RMSE: 0.3816, Train MAE: 0.1346, Test MAE: 0.1334, Train R²: 0.0327, Test R²: 0.0337\n",
      "2024-09-03 02:59:19,350 - INFO - Epoch 7, Train Loss: 0.1696, Train RMSE: 0.3745, Test RMSE: 0.3754, Train MAE: 0.1279, Test MAE: 0.1264, Train R²: 0.0635, Test R²: 0.0644\n",
      "2024-09-03 02:59:32,591 - INFO - Epoch 8, Train Loss: 0.1685, Train RMSE: 0.3689, Test RMSE: 0.3699, Train MAE: 0.1280, Test MAE: 0.1263, Train R²: 0.0911, Test R²: 0.0919\n",
      "2024-09-03 02:59:47,589 - INFO - Epoch 9, Train Loss: 0.1689, Train RMSE: 0.3611, Test RMSE: 0.3621, Train MAE: 0.1306, Test MAE: 0.1289, Train R²: 0.1291, Test R²: 0.1296\n",
      "2024-09-03 03:00:16,320 - INFO - Epoch 10, Train Loss: 0.1675, Train RMSE: 0.3669, Test RMSE: 0.3679, Train MAE: 0.1304, Test MAE: 0.1286, Train R²: 0.1009, Test R²: 0.1018\n",
      "2024-09-03 03:00:35,092 - INFO - Epoch 11, Train Loss: 0.1702, Train RMSE: 0.4314, Test RMSE: 0.4319, Train MAE: 0.2470, Test MAE: 0.2461, Train R²: -0.2427, Test R²: -0.2382\n",
      "2024-09-03 03:00:52,251 - INFO - Epoch 12, Train Loss: 0.1721, Train RMSE: 0.3772, Test RMSE: 0.3780, Train MAE: 0.1503, Test MAE: 0.1486, Train R²: 0.0498, Test R²: 0.0516\n",
      "2024-09-03 03:01:16,953 - INFO - Epoch 13, Train Loss: 0.1651, Train RMSE: 0.3817, Test RMSE: 0.3824, Train MAE: 0.1545, Test MAE: 0.1531, Train R²: 0.0272, Test R²: 0.0292\n",
      "2024-09-03 03:01:39,178 - INFO - Epoch 14, Train Loss: 0.1661, Train RMSE: 0.3588, Test RMSE: 0.3598, Train MAE: 0.1299, Test MAE: 0.1281, Train R²: 0.1401, Test R²: 0.1408\n",
      "2024-09-03 03:01:56,299 - INFO - Epoch 15, Train Loss: 0.1649, Train RMSE: 0.3848, Test RMSE: 0.3855, Train MAE: 0.1652, Test MAE: 0.1637, Train R²: 0.0111, Test R²: 0.0134\n",
      "2024-09-03 03:02:08,413 - INFO - Epoch 16, Train Loss: 0.1636, Train RMSE: 0.3847, Test RMSE: 0.3854, Train MAE: 0.1657, Test MAE: 0.1643, Train R²: 0.0116, Test R²: 0.0139\n",
      "2024-09-03 03:02:20,633 - INFO - Epoch 17, Train Loss: 0.1650, Train RMSE: 0.3999, Test RMSE: 0.4005, Train MAE: 0.1981, Test MAE: 0.1969, Train R²: -0.0681, Test R²: -0.0649\n",
      "2024-09-03 03:02:40,899 - INFO - Epoch 18, Train Loss: 0.1665, Train RMSE: 0.3512, Test RMSE: 0.3522, Train MAE: 0.1409, Test MAE: 0.1393, Train R²: 0.1761, Test R²: 0.1765\n",
      "2024-09-03 03:03:13,433 - INFO - Epoch 19, Train Loss: 0.1634, Train RMSE: 0.3627, Test RMSE: 0.3635, Train MAE: 0.1344, Test MAE: 0.1325, Train R²: 0.1217, Test R²: 0.1231\n",
      "2024-09-03 03:03:29,484 - INFO - Epoch 20, Train Loss: 0.1624, Train RMSE: 0.3625, Test RMSE: 0.3633, Train MAE: 0.1342, Test MAE: 0.1324, Train R²: 0.1224, Test R²: 0.1239\n",
      "2024-09-03 03:03:44,592 - INFO - Epoch 21, Train Loss: 0.1610, Train RMSE: 0.3853, Test RMSE: 0.3859, Train MAE: 0.1767, Test MAE: 0.1753, Train R²: 0.0087, Test R²: 0.0113\n",
      "2024-09-03 03:03:56,520 - INFO - Epoch 22, Train Loss: 0.1626, Train RMSE: 0.3628, Test RMSE: 0.3636, Train MAE: 0.1319, Test MAE: 0.1301, Train R²: 0.1210, Test R²: 0.1225\n",
      "2024-09-03 03:04:09,719 - INFO - Epoch 23, Train Loss: 0.1607, Train RMSE: 0.3671, Test RMSE: 0.3678, Train MAE: 0.1382, Test MAE: 0.1365, Train R²: 0.1002, Test R²: 0.1020\n",
      "2024-09-03 03:04:23,968 - INFO - Epoch 24, Train Loss: 0.1599, Train RMSE: 0.3642, Test RMSE: 0.3650, Train MAE: 0.1351, Test MAE: 0.1333, Train R²: 0.1140, Test R²: 0.1157\n",
      "2024-09-03 03:04:38,146 - INFO - Epoch 25, Train Loss: 0.1612, Train RMSE: 0.3651, Test RMSE: 0.3658, Train MAE: 0.1406, Test MAE: 0.1388, Train R²: 0.1100, Test R²: 0.1118\n",
      "2024-09-03 03:05:02,658 - INFO - Epoch 26, Train Loss: 0.1601, Train RMSE: 0.3756, Test RMSE: 0.3763, Train MAE: 0.1562, Test MAE: 0.1545, Train R²: 0.0580, Test R²: 0.0603\n",
      "2024-09-03 03:05:22,945 - INFO - Epoch 27, Train Loss: 0.1593, Train RMSE: 0.3683, Test RMSE: 0.3691, Train MAE: 0.1450, Test MAE: 0.1433, Train R²: 0.0940, Test R²: 0.0959\n",
      "2024-09-03 03:05:35,343 - INFO - Epoch 28, Train Loss: 0.1622, Train RMSE: 0.3677, Test RMSE: 0.3684, Train MAE: 0.1371, Test MAE: 0.1354, Train R²: 0.0973, Test R²: 0.0991\n",
      "2024-09-03 03:05:47,937 - INFO - Epoch 29, Train Loss: 0.1623, Train RMSE: 0.3758, Test RMSE: 0.3765, Train MAE: 0.1607, Test MAE: 0.1591, Train R²: 0.0567, Test R²: 0.0591\n",
      "2024-09-03 03:06:00,329 - INFO - Epoch 30, Train Loss: 0.1595, Train RMSE: 0.3507, Test RMSE: 0.3515, Train MAE: 0.1277, Test MAE: 0.1258, Train R²: 0.1789, Test R²: 0.1798\n",
      "2024-09-03 03:06:12,724 - INFO - Epoch 31, Train Loss: 0.1592, Train RMSE: 0.3551, Test RMSE: 0.3559, Train MAE: 0.1236, Test MAE: 0.1218, Train R²: 0.1580, Test R²: 0.1592\n",
      "2024-09-03 03:06:25,175 - INFO - Epoch 32, Train Loss: 0.1585, Train RMSE: 0.3586, Test RMSE: 0.3594, Train MAE: 0.1296, Test MAE: 0.1277, Train R²: 0.1412, Test R²: 0.1428\n",
      "2024-09-03 03:06:42,066 - INFO - Epoch 33, Train Loss: 0.1575, Train RMSE: 0.3678, Test RMSE: 0.3685, Train MAE: 0.1458, Test MAE: 0.1440, Train R²: 0.0966, Test R²: 0.0986\n",
      "2024-09-03 03:07:09,658 - INFO - Epoch 34, Train Loss: 0.1585, Train RMSE: 0.3786, Test RMSE: 0.3792, Train MAE: 0.1632, Test MAE: 0.1617, Train R²: 0.0427, Test R²: 0.0453\n",
      "2024-09-03 03:07:22,896 - INFO - Epoch 35, Train Loss: 0.1587, Train RMSE: 0.3831, Test RMSE: 0.3837, Train MAE: 0.1807, Test MAE: 0.1792, Train R²: 0.0198, Test R²: 0.0228\n",
      "2024-09-03 03:07:37,485 - INFO - Epoch 36, Train Loss: 0.1587, Train RMSE: 0.3602, Test RMSE: 0.3610, Train MAE: 0.1294, Test MAE: 0.1276, Train R²: 0.1333, Test R²: 0.1350\n",
      "2024-09-03 03:07:51,708 - INFO - Epoch 37, Train Loss: 0.1571, Train RMSE: 0.3466, Test RMSE: 0.3475, Train MAE: 0.1373, Test MAE: 0.1359, Train R²: 0.1978, Test R²: 0.1985\n",
      "2024-09-03 03:08:07,555 - INFO - Epoch 38, Train Loss: 0.1567, Train RMSE: 0.3723, Test RMSE: 0.3730, Train MAE: 0.1595, Test MAE: 0.1579, Train R²: 0.0743, Test R²: 0.0767\n",
      "2024-09-03 03:08:27,676 - INFO - Epoch 39, Train Loss: 0.1577, Train RMSE: 0.3570, Test RMSE: 0.3578, Train MAE: 0.1296, Test MAE: 0.1277, Train R²: 0.1488, Test R²: 0.1504\n",
      "2024-09-03 03:08:41,856 - INFO - Epoch 40, Train Loss: 0.1585, Train RMSE: 0.3544, Test RMSE: 0.3552, Train MAE: 0.1173, Test MAE: 0.1155, Train R²: 0.1613, Test R²: 0.1627\n",
      "2024-09-03 03:09:07,955 - INFO - Epoch 41, Train Loss: 0.1578, Train RMSE: 0.3702, Test RMSE: 0.3708, Train MAE: 0.1535, Test MAE: 0.1518, Train R²: 0.0848, Test R²: 0.0872\n",
      "2024-09-03 03:09:20,736 - INFO - Epoch 42, Train Loss: 0.1553, Train RMSE: 0.3590, Test RMSE: 0.3598, Train MAE: 0.1305, Test MAE: 0.1287, Train R²: 0.1392, Test R²: 0.1409\n",
      "2024-09-03 03:09:33,326 - INFO - Epoch 43, Train Loss: 0.1562, Train RMSE: 0.3573, Test RMSE: 0.3580, Train MAE: 0.1253, Test MAE: 0.1234, Train R²: 0.1475, Test R²: 0.1491\n",
      "2024-09-03 03:09:55,218 - INFO - Epoch 44, Train Loss: 0.1576, Train RMSE: 0.3456, Test RMSE: 0.3465, Train MAE: 0.1337, Test MAE: 0.1322, Train R²: 0.2024, Test R²: 0.2032\n",
      "2024-09-03 03:10:08,470 - INFO - Epoch 45, Train Loss: 0.1579, Train RMSE: 0.3700, Test RMSE: 0.3706, Train MAE: 0.1565, Test MAE: 0.1549, Train R²: 0.0858, Test R²: 0.0882\n",
      "2024-09-03 03:10:21,093 - INFO - Epoch 46, Train Loss: 0.1547, Train RMSE: 0.3726, Test RMSE: 0.3733, Train MAE: 0.1582, Test MAE: 0.1567, Train R²: 0.0727, Test R²: 0.0751\n",
      "2024-09-03 03:10:34,143 - INFO - Epoch 47, Train Loss: 0.1552, Train RMSE: 0.3551, Test RMSE: 0.3559, Train MAE: 0.1235, Test MAE: 0.1216, Train R²: 0.1577, Test R²: 0.1594\n",
      "2024-09-03 03:10:46,414 - INFO - Epoch 48, Train Loss: 0.1547, Train RMSE: 0.3605, Test RMSE: 0.3612, Train MAE: 0.1282, Test MAE: 0.1263, Train R²: 0.1323, Test R²: 0.1341\n",
      "2024-09-03 03:11:03,264 - INFO - Epoch 49, Train Loss: 0.1563, Train RMSE: 0.3632, Test RMSE: 0.3640, Train MAE: 0.1310, Test MAE: 0.1292, Train R²: 0.1189, Test R²: 0.1207\n",
      "2024-09-03 03:12:07,126 - INFO - Epoch 50, Train Loss: 0.1552, Train RMSE: 0.3540, Test RMSE: 0.3547, Train MAE: 0.1209, Test MAE: 0.1190, Train R²: 0.1633, Test R²: 0.1649\n",
      "2024-09-03 03:12:30,912 - INFO - Epoch 51, Train Loss: 0.1550, Train RMSE: 0.3628, Test RMSE: 0.3636, Train MAE: 0.1271, Test MAE: 0.1253, Train R²: 0.1208, Test R²: 0.1226\n",
      "2024-09-03 03:12:47,644 - INFO - Epoch 52, Train Loss: 0.1566, Train RMSE: 0.3560, Test RMSE: 0.3567, Train MAE: 0.1255, Test MAE: 0.1235, Train R²: 0.1535, Test R²: 0.1553\n",
      "2024-09-03 03:13:02,560 - INFO - Epoch 53, Train Loss: 0.1551, Train RMSE: 0.3660, Test RMSE: 0.3666, Train MAE: 0.1443, Test MAE: 0.1427, Train R²: 0.1055, Test R²: 0.1079\n",
      "2024-09-03 03:13:15,805 - INFO - Epoch 54, Train Loss: 0.1544, Train RMSE: 0.3516, Test RMSE: 0.3523, Train MAE: 0.1257, Test MAE: 0.1237, Train R²: 0.1745, Test R²: 0.1762\n",
      "2024-09-03 03:13:35,176 - INFO - Epoch 55, Train Loss: 0.1537, Train RMSE: 0.3512, Test RMSE: 0.3520, Train MAE: 0.1256, Test MAE: 0.1238, Train R²: 0.1763, Test R²: 0.1775\n",
      "2024-09-03 03:13:47,709 - INFO - Epoch 56, Train Loss: 0.1547, Train RMSE: 0.3527, Test RMSE: 0.3534, Train MAE: 0.1236, Test MAE: 0.1215, Train R²: 0.1693, Test R²: 0.1711\n",
      "2024-09-03 03:14:00,276 - INFO - Epoch 57, Train Loss: 0.1531, Train RMSE: 0.3517, Test RMSE: 0.3523, Train MAE: 0.1238, Test MAE: 0.1217, Train R²: 0.1741, Test R²: 0.1760\n",
      "2024-09-03 03:14:12,914 - INFO - Epoch 58, Train Loss: 0.1540, Train RMSE: 0.3401, Test RMSE: 0.3409, Train MAE: 0.1365, Test MAE: 0.1347, Train R²: 0.2274, Test R²: 0.2285\n",
      "2024-09-03 03:14:36,520 - INFO - Epoch 59, Train Loss: 0.1558, Train RMSE: 0.3465, Test RMSE: 0.3473, Train MAE: 0.1329, Test MAE: 0.1311, Train R²: 0.1983, Test R²: 0.1996\n",
      "2024-09-03 03:14:49,383 - INFO - Epoch 60, Train Loss: 0.1558, Train RMSE: 0.3696, Test RMSE: 0.3702, Train MAE: 0.1624, Test MAE: 0.1607, Train R²: 0.0876, Test R²: 0.0905\n",
      "2024-09-03 03:15:18,531 - INFO - Epoch 61, Train Loss: 0.1537, Train RMSE: 0.3467, Test RMSE: 0.3474, Train MAE: 0.1248, Test MAE: 0.1227, Train R²: 0.1974, Test R²: 0.1991\n",
      "2024-09-03 03:15:53,075 - INFO - Epoch 62, Train Loss: 0.1528, Train RMSE: 0.3589, Test RMSE: 0.3594, Train MAE: 0.1552, Test MAE: 0.1533, Train R²: 0.1399, Test R²: 0.1425\n",
      "2024-09-03 03:16:18,759 - INFO - Epoch 63, Train Loss: 0.1524, Train RMSE: 0.3501, Test RMSE: 0.3508, Train MAE: 0.1267, Test MAE: 0.1246, Train R²: 0.1814, Test R²: 0.1834\n",
      "2024-09-03 03:16:32,525 - INFO - Epoch 64, Train Loss: 0.1517, Train RMSE: 0.3404, Test RMSE: 0.3413, Train MAE: 0.1545, Test MAE: 0.1530, Train R²: 0.2261, Test R²: 0.2269\n",
      "2024-09-03 03:16:50,305 - INFO - Epoch 65, Train Loss: 0.1549, Train RMSE: 0.3855, Test RMSE: 0.3859, Train MAE: 0.1855, Test MAE: 0.1840, Train R²: 0.0076, Test R²: 0.0113\n",
      "2024-09-03 03:17:06,477 - INFO - Epoch 66, Train Loss: 0.1551, Train RMSE: 0.3610, Test RMSE: 0.3615, Train MAE: 0.1601, Test MAE: 0.1583, Train R²: 0.1296, Test R²: 0.1324\n",
      "2024-09-03 03:17:18,661 - INFO - Epoch 67, Train Loss: 0.1536, Train RMSE: 0.3744, Test RMSE: 0.3749, Train MAE: 0.1600, Test MAE: 0.1585, Train R²: 0.0638, Test R²: 0.0669\n",
      "2024-09-03 03:17:31,130 - INFO - Epoch 68, Train Loss: 0.1532, Train RMSE: 0.3674, Test RMSE: 0.3679, Train MAE: 0.1466, Test MAE: 0.1450, Train R²: 0.0988, Test R²: 0.1016\n",
      "2024-09-03 03:17:47,729 - INFO - Epoch 69, Train Loss: 0.1532, Train RMSE: 0.3859, Test RMSE: 0.3863, Train MAE: 0.1962, Test MAE: 0.1946, Train R²: 0.0053, Test R²: 0.0093\n",
      "2024-09-03 03:18:11,568 - INFO - Epoch 70, Train Loss: 0.1568, Train RMSE: 0.3414, Test RMSE: 0.3420, Train MAE: 0.1208, Test MAE: 0.1187, Train R²: 0.2215, Test R²: 0.2235\n",
      "2024-09-03 03:18:26,291 - INFO - Epoch 71, Train Loss: 0.1524, Train RMSE: 0.3559, Test RMSE: 0.3563, Train MAE: 0.1442, Test MAE: 0.1423, Train R²: 0.1544, Test R²: 0.1572\n",
      "2024-09-03 03:18:38,896 - INFO - Epoch 72, Train Loss: 0.1510, Train RMSE: 0.3476, Test RMSE: 0.3482, Train MAE: 0.1215, Test MAE: 0.1194, Train R²: 0.1930, Test R²: 0.1954\n",
      "2024-09-03 03:19:27,623 - INFO - Epoch 73, Train Loss: 0.1502, Train RMSE: 0.3632, Test RMSE: 0.3637, Train MAE: 0.1524, Test MAE: 0.1507, Train R²: 0.1189, Test R²: 0.1221\n",
      "2024-09-03 03:20:19,015 - INFO - Epoch 74, Train Loss: 0.1505, Train RMSE: 0.3524, Test RMSE: 0.3528, Train MAE: 0.1430, Test MAE: 0.1410, Train R²: 0.1707, Test R²: 0.1738\n",
      "2024-09-03 03:20:33,716 - INFO - Epoch 75, Train Loss: 0.1537, Train RMSE: 0.3719, Test RMSE: 0.3722, Train MAE: 0.1845, Test MAE: 0.1828, Train R²: 0.0766, Test R²: 0.0805\n",
      "2024-09-03 03:20:55,108 - INFO - Epoch 76, Train Loss: 0.1530, Train RMSE: 0.3649, Test RMSE: 0.3653, Train MAE: 0.1622, Test MAE: 0.1605, Train R²: 0.1106, Test R²: 0.1143\n",
      "2024-09-03 03:21:14,414 - INFO - Epoch 77, Train Loss: 0.1521, Train RMSE: 0.3522, Test RMSE: 0.3526, Train MAE: 0.1392, Test MAE: 0.1372, Train R²: 0.1716, Test R²: 0.1747\n",
      "2024-09-03 03:21:30,883 - INFO - Epoch 78, Train Loss: 0.1513, Train RMSE: 0.3407, Test RMSE: 0.3412, Train MAE: 0.1204, Test MAE: 0.1183, Train R²: 0.2246, Test R²: 0.2273\n",
      "2024-09-03 03:22:00,854 - INFO - Epoch 79, Train Loss: 0.1527, Train RMSE: 0.3580, Test RMSE: 0.3584, Train MAE: 0.1531, Test MAE: 0.1513, Train R²: 0.1439, Test R²: 0.1476\n",
      "2024-09-03 03:22:15,977 - INFO - Epoch 80, Train Loss: 0.1494, Train RMSE: 0.3726, Test RMSE: 0.3729, Train MAE: 0.1713, Test MAE: 0.1698, Train R²: 0.0728, Test R²: 0.0768\n",
      "2024-09-03 03:22:30,068 - INFO - Epoch 81, Train Loss: 0.1512, Train RMSE: 0.3447, Test RMSE: 0.3451, Train MAE: 0.1200, Test MAE: 0.1180, Train R²: 0.2063, Test R²: 0.2093\n",
      "2024-09-03 03:22:42,740 - INFO - Epoch 82, Train Loss: 0.1508, Train RMSE: 0.3460, Test RMSE: 0.3464, Train MAE: 0.1249, Test MAE: 0.1229, Train R²: 0.2007, Test R²: 0.2037\n",
      "2024-09-03 03:22:55,419 - INFO - Epoch 83, Train Loss: 0.1505, Train RMSE: 0.3287, Test RMSE: 0.3290, Train MAE: 0.1314, Test MAE: 0.1295, Train R²: 0.2786, Test R²: 0.2815\n",
      "2024-09-03 03:23:14,076 - INFO - Epoch 84, Train Loss: 0.1522, Train RMSE: 0.3438, Test RMSE: 0.3442, Train MAE: 0.1215, Test MAE: 0.1196, Train R²: 0.2106, Test R²: 0.2136\n",
      "2024-09-03 03:23:29,959 - INFO - Epoch 85, Train Loss: 0.1504, Train RMSE: 0.3610, Test RMSE: 0.3612, Train MAE: 0.1492, Test MAE: 0.1474, Train R²: 0.1298, Test R²: 0.1338\n",
      "2024-09-03 03:23:50,172 - INFO - Epoch 86, Train Loss: 0.1514, Train RMSE: 0.3576, Test RMSE: 0.3578, Train MAE: 0.1623, Test MAE: 0.1604, Train R²: 0.1460, Test R²: 0.1504\n",
      "2024-09-03 03:24:05,843 - INFO - Epoch 87, Train Loss: 0.1478, Train RMSE: 0.3574, Test RMSE: 0.3576, Train MAE: 0.1337, Test MAE: 0.1318, Train R²: 0.1472, Test R²: 0.1511\n",
      "2024-09-03 03:24:20,604 - INFO - Epoch 88, Train Loss: 0.1491, Train RMSE: 0.3527, Test RMSE: 0.3531, Train MAE: 0.1177, Test MAE: 0.1159, Train R²: 0.1695, Test R²: 0.1726\n",
      "2024-09-03 03:24:35,198 - INFO - Epoch 89, Train Loss: 0.1486, Train RMSE: 0.3365, Test RMSE: 0.3367, Train MAE: 0.1174, Test MAE: 0.1154, Train R²: 0.2437, Test R²: 0.2475\n",
      "2024-09-03 03:24:47,872 - INFO - Epoch 90, Train Loss: 0.1503, Train RMSE: 0.3442, Test RMSE: 0.3443, Train MAE: 0.1434, Test MAE: 0.1414, Train R²: 0.2088, Test R²: 0.2130\n",
      "2024-09-03 03:25:00,671 - INFO - Epoch 91, Train Loss: 0.1496, Train RMSE: 0.3360, Test RMSE: 0.3361, Train MAE: 0.1163, Test MAE: 0.1143, Train R²: 0.2461, Test R²: 0.2501\n",
      "2024-09-03 03:25:26,088 - INFO - Epoch 92, Train Loss: 0.1486, Train RMSE: 0.3526, Test RMSE: 0.3528, Train MAE: 0.1430, Test MAE: 0.1411, Train R²: 0.1699, Test R²: 0.1741\n",
      "2024-09-03 03:26:23,992 - INFO - Epoch 93, Train Loss: 0.1492, Train RMSE: 0.3335, Test RMSE: 0.3337, Train MAE: 0.1245, Test MAE: 0.1225, Train R²: 0.2575, Test R²: 0.2610\n",
      "2024-09-03 03:26:45,802 - INFO - Epoch 94, Train Loss: 0.1507, Train RMSE: 0.3534, Test RMSE: 0.3536, Train MAE: 0.1542, Test MAE: 0.1523, Train R²: 0.1658, Test R²: 0.1703\n",
      "2024-09-03 03:27:17,627 - INFO - Epoch 95, Train Loss: 0.1491, Train RMSE: 0.3652, Test RMSE: 0.3655, Train MAE: 0.1633, Test MAE: 0.1616, Train R²: 0.1091, Test R²: 0.1134\n",
      "2024-09-03 03:27:32,740 - INFO - Epoch 96, Train Loss: 0.1511, Train RMSE: 0.3609, Test RMSE: 0.3612, Train MAE: 0.1466, Test MAE: 0.1449, Train R²: 0.1300, Test R²: 0.1340\n",
      "2024-09-03 03:27:46,053 - INFO - Epoch 97, Train Loss: 0.1466, Train RMSE: 0.3407, Test RMSE: 0.3408, Train MAE: 0.1295, Test MAE: 0.1274, Train R²: 0.2249, Test R²: 0.2289\n",
      "2024-09-03 03:28:03,282 - INFO - Epoch 98, Train Loss: 0.1477, Train RMSE: 0.3475, Test RMSE: 0.3478, Train MAE: 0.1261, Test MAE: 0.1243, Train R²: 0.1936, Test R²: 0.1971\n",
      "2024-09-03 03:28:16,726 - INFO - Epoch 99, Train Loss: 0.1459, Train RMSE: 0.3500, Test RMSE: 0.3502, Train MAE: 0.1321, Test MAE: 0.1302, Train R²: 0.1820, Test R²: 0.1861\n",
      "2024-09-03 03:28:29,246 - INFO - Epoch 100, Train Loss: 0.1467, Train RMSE: 0.3597, Test RMSE: 0.3598, Train MAE: 0.1550, Test MAE: 0.1533, Train R²: 0.1362, Test R²: 0.1406\n"
     ]
    }
   ],
   "source": [
    "!source ~/env4/bin/activate && python /u/mbanisharifdehkordi/Github/GNN_4_IO/gnn_training100.py"
   ]
  },
  {
   "cell_type": "code",
   "execution_count": 2,
   "id": "0e2d8ea2-d493-4acc-8ae4-5478d5e73953",
   "metadata": {
    "collapsed": true,
    "jupyter": {
     "outputs_hidden": true
    },
    "tags": []
   },
   "outputs": [
    {
     "name": "stdout",
     "output_type": "stream",
     "text": [
      "2024-09-03 03:47:25,617 - INFO - Starting data processing.\n",
      "2024-09-03 03:47:25,617 - INFO - Loading graph structure from Graphs/Graph102/graph_structure.yaml\n",
      "2024-09-03 03:47:25,645 - INFO - Graph structure loaded successfully.\n",
      "2024-09-03 03:47:25,645 - INFO - Loading dataset from CSVs/sample_train.csv\n",
      "2024-09-03 03:47:28,899 - INFO - Dataset loaded successfully.\n",
      "2024-09-03 03:47:28,899 - INFO - Splitting dataset into training and testing sets with test size = 0.25\n",
      "2024-09-03 03:47:29,146 - INFO - Dataset split into 786431 training rows and 262144 testing rows.\n",
      "2024-09-03 03:47:29,146 - INFO - Processing training data with 786431 rows.\n",
      "2024-09-03 03:49:46,032 - INFO - All graphs saved to Graphs/Graph102/train_graphs.csv.\n",
      "2024-09-03 03:49:49,860 - INFO - Processing testing data with 262144 rows.\n",
      "2024-09-03 03:52:06,524 - INFO - All graphs saved to Graphs/Graph102/test_graphs.csv.\n",
      "2024-09-03 03:52:10,399 - INFO - Data processing completed.\n"
     ]
    }
   ],
   "source": [
    "# total_rows = 100,000\n",
    "!source ~/env4/bin/activate && python /u/mbanisharifdehkordi/Github/GNN_4_IO/generate_graph100.py"
   ]
  },
  {
   "cell_type": "code",
   "execution_count": 3,
   "id": "f9ceda13-32e1-440c-8618-929073d84124",
   "metadata": {},
   "outputs": [
    {
     "name": "stdout",
     "output_type": "stream",
     "text": [
      "\n",
      "libgomp: Thread creation failed: Resource temporarily unavailable\n"
     ]
    }
   ],
   "source": [
    "!source ~/env4/bin/activate && python /u/mbanisharifdehkordi/Github/GNN_4_IO/gnn_training100.py"
   ]
  },
  {
   "cell_type": "code",
   "execution_count": null,
   "id": "47bcae5e-9980-45f5-b529-e933f7249414",
   "metadata": {},
   "outputs": [],
   "source": [
    "!source ~/env4/bin/activate && python /u/mbanisharifdehkordi/Github/GNN_4_IO/gnn_training103.py"
   ]
  },
  {
   "cell_type": "code",
   "execution_count": 1,
   "id": "7f48efe5-a5ad-46bd-9cb4-0f14529d9101",
   "metadata": {
    "collapsed": true,
    "jupyter": {
     "outputs_hidden": true
    },
    "tags": []
   },
   "outputs": [
    {
     "name": "stdout",
     "output_type": "stream",
     "text": [
      "2024-09-11 12:18:05,504 - INFO - Starting data processing.\n",
      "2024-09-11 12:18:05,504 - INFO - Loading graph structure from Graphs/Graph104/graph_structure.yaml\n",
      "2024-09-11 12:18:05,533 - INFO - Graph structure loaded successfully.\n",
      "2024-09-11 12:18:05,533 - INFO - Loading dataset from CSVs/sample_train.csv\n",
      "2024-09-11 12:18:09,807 - INFO - Dataset loaded successfully.\n",
      "2024-09-11 12:18:09,807 - INFO - Splitting dataset into training and testing sets with test size = 0.25\n",
      "2024-09-11 12:18:10,061 - INFO - Dataset split into 786431 training rows and 262144 testing rows.\n",
      "2024-09-11 12:18:10,061 - INFO - Processing training data with 786431 rows.\n",
      "2024-09-11 12:18:23,683 - INFO - All graphs saved to Graphs/Graph104/train_graphs.csv.\n",
      "2024-09-11 12:18:23,998 - INFO - Processing testing data with 262144 rows.\n",
      "2024-09-11 12:18:37,643 - INFO - All graphs saved to Graphs/Graph104/test_graphs.csv.\n",
      "2024-09-11 12:18:37,901 - INFO - Data processing completed.\n"
     ]
    }
   ],
   "source": [
    "# total_rows = 10,000\n",
    "!source ~/env4/bin/activate && python /u/mbanisharifdehkordi/Github/GNN_4_IO/generate_graph100.py"
   ]
  },
  {
   "cell_type": "code",
   "execution_count": 1,
   "id": "68e0e0a7-9e07-4339-9015-e3afe3aa9c9b",
   "metadata": {
    "collapsed": true,
    "jupyter": {
     "outputs_hidden": true
    },
    "tags": []
   },
   "outputs": [
    {
     "name": "stdout",
     "output_type": "stream",
     "text": [
      "2024-09-18 00:22:51,390 - INFO - Epoch 1, Train Loss: 0.9260, Train RMSE: 0.3700, Test RMSE: 0.3690, Train MAE: 0.3142, Test MAE: 0.3149, Train R²: -301.2636, Test R²: -312.0467\n",
      "2024-09-18 00:23:04,434 - INFO - Epoch 2, Train Loss: 0.1446, Train RMSE: 0.3547, Test RMSE: 0.3534, Train MAE: 0.3226, Test MAE: 0.3224, Train R²: -276.7478, Test R²: -286.1780\n",
      "2024-09-18 00:23:17,549 - INFO - Epoch 3, Train Loss: 0.1217, Train RMSE: 0.2590, Test RMSE: 0.2576, Train MAE: 0.2374, Test MAE: 0.2370, Train R²: -147.0453, Test R²: -151.5633\n",
      "2024-09-18 00:23:31,580 - INFO - Epoch 4, Train Loss: 0.0986, Train RMSE: 0.2358, Test RMSE: 0.2346, Train MAE: 0.2262, Test MAE: 0.2256, Train R²: -121.7698, Test R²: -125.5668\n",
      "2024-09-18 00:23:44,510 - INFO - Epoch 5, Train Loss: 0.0817, Train RMSE: 0.3301, Test RMSE: 0.3291, Train MAE: 0.3277, Test MAE: 0.3269, Train R²: -239.4978, Test R²: -248.0057\n",
      "2024-09-18 00:23:58,516 - INFO - Epoch 6, Train Loss: 0.0733, Train RMSE: 0.1780, Test RMSE: 0.1770, Train MAE: 0.1753, Test MAE: 0.1745, Train R²: -68.9068, Test R²: -71.0195\n",
      "2024-09-18 00:24:11,730 - INFO - Epoch 7, Train Loss: 0.0685, Train RMSE: 0.2242, Test RMSE: 0.2234, Train MAE: 0.2223, Test MAE: 0.2216, Train R²: -109.9567, Test R²: -113.7602\n",
      "2024-09-18 00:24:25,118 - INFO - Epoch 8, Train Loss: 0.0686, Train RMSE: 0.2494, Test RMSE: 0.2487, Train MAE: 0.2478, Test MAE: 0.2472, Train R²: -136.2602, Test R²: -141.2368\n",
      "2024-09-18 00:24:38,064 - INFO - Epoch 9, Train Loss: 0.0657, Train RMSE: 0.2102, Test RMSE: 0.2097, Train MAE: 0.2085, Test MAE: 0.2080, Train R²: -96.5636, Test R²: -100.0884\n",
      "2024-09-18 00:24:51,137 - INFO - Epoch 10, Train Loss: 0.0638, Train RMSE: 0.2196, Test RMSE: 0.2191, Train MAE: 0.2180, Test MAE: 0.2176, Train R²: -105.4177, Test R²: -109.4179\n",
      "2024-09-18 00:25:04,646 - INFO - Epoch 11, Train Loss: 0.0655, Train RMSE: 0.1977, Test RMSE: 0.1973, Train MAE: 0.1961, Test MAE: 0.1957, Train R²: -85.2612, Test R²: -88.5157\n",
      "2024-09-18 00:25:17,697 - INFO - Epoch 12, Train Loss: 0.0644, Train RMSE: 0.2574, Test RMSE: 0.2570, Train MAE: 0.2560, Test MAE: 0.2557, Train R²: -145.2286, Test R²: -150.9419\n",
      "2024-09-18 00:25:31,147 - INFO - Epoch 13, Train Loss: 0.0586, Train RMSE: 0.1738, Test RMSE: 0.1735, Train MAE: 0.1719, Test MAE: 0.1716, Train R²: -65.6458, Test R²: -68.1867\n",
      "2024-09-18 00:25:44,303 - INFO - Epoch 14, Train Loss: 0.0613, Train RMSE: 0.2342, Test RMSE: 0.2339, Train MAE: 0.2327, Test MAE: 0.2325, Train R²: -120.0872, Test R²: -124.7987\n",
      "2024-09-18 00:25:57,455 - INFO - Epoch 15, Train Loss: 0.0586, Train RMSE: 0.2431, Test RMSE: 0.2428, Train MAE: 0.2416, Test MAE: 0.2413, Train R²: -129.4886, Test R²: -134.5667\n",
      "2024-09-18 00:26:10,755 - INFO - Epoch 16, Train Loss: 0.0574, Train RMSE: 0.1664, Test RMSE: 0.1661, Train MAE: 0.1644, Test MAE: 0.1641, Train R²: -60.1145, Test R²: -62.4413\n",
      "2024-09-18 00:26:24,037 - INFO - Epoch 17, Train Loss: 0.0572, Train RMSE: 0.2264, Test RMSE: 0.2261, Train MAE: 0.2249, Test MAE: 0.2246, Train R²: -112.1496, Test R²: -116.5827\n",
      "2024-09-18 00:26:37,921 - INFO - Epoch 18, Train Loss: 0.0595, Train RMSE: 0.1700, Test RMSE: 0.1697, Train MAE: 0.1681, Test MAE: 0.1679, Train R²: -62.7634, Test R²: -65.2408\n",
      "2024-09-18 00:26:52,017 - INFO - Epoch 19, Train Loss: 0.0554, Train RMSE: 0.1786, Test RMSE: 0.1784, Train MAE: 0.1767, Test MAE: 0.1765, Train R²: -69.4244, Test R²: -72.1538\n",
      "2024-09-18 00:27:05,433 - INFO - Epoch 20, Train Loss: 0.0541, Train RMSE: 0.1553, Test RMSE: 0.1551, Train MAE: 0.1532, Test MAE: 0.1530, Train R²: -52.2672, Test R²: -54.3216\n",
      "2024-09-18 00:27:19,107 - INFO - Epoch 21, Train Loss: 0.0522, Train RMSE: 0.1521, Test RMSE: 0.1519, Train MAE: 0.1499, Test MAE: 0.1497, Train R²: -50.0703, Test R²: -52.0398\n",
      "2024-09-18 00:27:32,548 - INFO - Epoch 22, Train Loss: 0.0540, Train RMSE: 0.1736, Test RMSE: 0.1734, Train MAE: 0.1717, Test MAE: 0.1715, Train R²: -65.5428, Test R²: -68.1532\n",
      "2024-09-18 00:27:45,925 - INFO - Epoch 23, Train Loss: 0.0564, Train RMSE: 0.1363, Test RMSE: 0.1361, Train MAE: 0.1340, Test MAE: 0.1338, Train R²: -39.9883, Test R²: -41.5927\n",
      "2024-09-18 00:27:59,184 - INFO - Epoch 24, Train Loss: 0.0523, Train RMSE: 0.0835, Test RMSE: 0.0833, Train MAE: 0.0795, Test MAE: 0.0793, Train R²: -14.3903, Test R²: -14.9563\n",
      "2024-09-18 00:28:12,662 - INFO - Epoch 25, Train Loss: 0.0583, Train RMSE: 0.1389, Test RMSE: 0.1388, Train MAE: 0.1368, Test MAE: 0.1366, Train R²: -41.6130, Test R²: -43.2966\n",
      "2024-09-18 00:28:26,639 - INFO - Epoch 26, Train Loss: 0.0553, Train RMSE: 0.1193, Test RMSE: 0.1192, Train MAE: 0.1169, Test MAE: 0.1168, Train R²: -30.4424, Test R²: -31.6770\n",
      "2024-09-18 00:28:39,918 - INFO - Epoch 27, Train Loss: 0.0527, Train RMSE: 0.1826, Test RMSE: 0.1825, Train MAE: 0.1810, Test MAE: 0.1808, Train R²: -72.6184, Test R²: -75.5578\n",
      "2024-09-18 00:28:54,133 - INFO - Epoch 28, Train Loss: 0.0523, Train RMSE: 0.0790, Test RMSE: 0.0789, Train MAE: 0.0753, Test MAE: 0.0752, Train R²: -12.7903, Test R²: -13.3116\n",
      "2024-09-18 00:29:07,173 - INFO - Epoch 29, Train Loss: 0.0523, Train RMSE: 0.1488, Test RMSE: 0.1487, Train MAE: 0.1469, Test MAE: 0.1468, Train R²: -47.9088, Test R²: -49.8618\n",
      "2024-09-18 00:29:20,283 - INFO - Epoch 30, Train Loss: 0.0508, Train RMSE: 0.1292, Test RMSE: 0.1291, Train MAE: 0.1271, Test MAE: 0.1271, Train R²: -35.8340, Test R²: -37.3212\n",
      "2024-09-18 00:29:33,374 - INFO - Epoch 31, Train Loss: 0.0516, Train RMSE: 0.0602, Test RMSE: 0.0601, Train MAE: 0.0559, Test MAE: 0.0558, Train R²: -7.0004, Test R²: -7.3155\n",
      "2024-09-18 00:29:46,608 - INFO - Epoch 32, Train Loss: 0.0488, Train RMSE: 0.0638, Test RMSE: 0.0638, Train MAE: 0.0598, Test MAE: 0.0598, Train R²: -7.9928, Test R²: -8.3505\n",
      "2024-09-18 00:30:01,197 - INFO - Epoch 33, Train Loss: 0.0524, Train RMSE: 0.1083, Test RMSE: 0.1083, Train MAE: 0.1060, Test MAE: 0.1060, Train R²: -24.9069, Test R²: -25.9657\n",
      "2024-09-18 00:30:14,606 - INFO - Epoch 34, Train Loss: 0.0496, Train RMSE: 0.0392, Test RMSE: 0.0391, Train MAE: 0.0323, Test MAE: 0.0322, Train R²: -2.3974, Test R²: -2.5214\n",
      "2024-09-18 00:30:27,702 - INFO - Epoch 35, Train Loss: 0.0476, Train RMSE: 0.1235, Test RMSE: 0.1235, Train MAE: 0.1215, Test MAE: 0.1215, Train R²: -32.6872, Test R²: -34.0601\n",
      "2024-09-18 00:30:40,730 - INFO - Epoch 36, Train Loss: 0.0490, Train RMSE: 0.0555, Test RMSE: 0.0554, Train MAE: 0.0510, Test MAE: 0.0510, Train R²: -5.8031, Test R²: -6.0671\n",
      "2024-09-18 00:30:54,084 - INFO - Epoch 37, Train Loss: 0.0485, Train RMSE: 0.0803, Test RMSE: 0.0803, Train MAE: 0.0773, Test MAE: 0.0773, Train R²: -13.2394, Test R²: -13.8191\n",
      "2024-09-18 00:31:07,527 - INFO - Epoch 38, Train Loss: 0.0468, Train RMSE: 0.0640, Test RMSE: 0.0640, Train MAE: 0.0602, Test MAE: 0.0603, Train R²: -8.0525, Test R²: -8.4227\n",
      "2024-09-18 00:31:20,778 - INFO - Epoch 39, Train Loss: 0.0483, Train RMSE: 0.0840, Test RMSE: 0.0840, Train MAE: 0.0812, Test MAE: 0.0812, Train R²: -14.5917, Test R²: -15.2235\n",
      "2024-09-18 00:31:34,226 - INFO - Epoch 40, Train Loss: 0.0508, Train RMSE: 0.0222, Test RMSE: 0.0220, Train MAE: 0.0060, Test MAE: 0.0060, Train R²: -0.0843, Test R²: -0.1127\n",
      "2024-09-18 00:31:47,715 - INFO - Epoch 41, Train Loss: 0.0513, Train RMSE: 0.0433, Test RMSE: 0.0432, Train MAE: 0.0375, Test MAE: 0.0375, Train R²: -3.1355, Test R²: -3.2947\n",
      "2024-09-18 00:32:01,976 - INFO - Epoch 42, Train Loss: 0.0472, Train RMSE: 0.0254, Test RMSE: 0.0252, Train MAE: 0.0141, Test MAE: 0.0142, Train R²: -0.4272, Test R²: -0.4623\n",
      "2024-09-18 00:32:14,998 - INFO - Epoch 43, Train Loss: 0.0457, Train RMSE: 0.1036, Test RMSE: 0.1036, Train MAE: 0.1013, Test MAE: 0.1013, Train R²: -22.6795, Test R²: -23.6603\n",
      "2024-09-18 00:32:27,801 - INFO - Epoch 44, Train Loss: 0.0485, Train RMSE: 0.0398, Test RMSE: 0.0397, Train MAE: 0.0334, Test MAE: 0.0334, Train R²: -2.4946, Test R²: -2.6296\n",
      "2024-09-18 00:32:40,554 - INFO - Epoch 45, Train Loss: 0.0469, Train RMSE: 0.0789, Test RMSE: 0.0789, Train MAE: 0.0759, Test MAE: 0.0760, Train R²: -12.7335, Test R²: -13.3139\n",
      "2024-09-18 00:32:53,199 - INFO - Epoch 46, Train Loss: 0.0466, Train RMSE: 0.0481, Test RMSE: 0.0480, Train MAE: 0.0430, Test MAE: 0.0430, Train R²: -4.0990, Test R²: -4.3026\n",
      "2024-09-18 00:33:06,747 - INFO - Epoch 47, Train Loss: 0.0444, Train RMSE: 0.0233, Test RMSE: 0.0231, Train MAE: 0.0078, Test MAE: 0.0080, Train R²: -0.1993, Test R²: -0.2286\n",
      "2024-09-18 00:33:19,331 - INFO - Epoch 48, Train Loss: 0.0467, Train RMSE: 0.0226, Test RMSE: 0.0223, Train MAE: 0.0077, Test MAE: 0.0077, Train R²: -0.1232, Test R²: -0.1438\n",
      "2024-09-18 00:33:32,879 - INFO - Epoch 49, Train Loss: 0.0458, Train RMSE: 0.0270, Test RMSE: 0.0268, Train MAE: 0.0171, Test MAE: 0.0171, Train R²: -0.6143, Test R²: -0.6512\n",
      "2024-09-18 00:33:46,186 - INFO - Epoch 50, Train Loss: 0.0455, Train RMSE: 0.0233, Test RMSE: 0.0231, Train MAE: 0.0096, Test MAE: 0.0096, Train R²: -0.2010, Test R²: -0.2222\n",
      "2024-09-18 00:33:59,351 - INFO - Epoch 51, Train Loss: 0.0468, Train RMSE: 0.0526, Test RMSE: 0.0526, Train MAE: 0.0479, Test MAE: 0.0480, Train R²: -5.1105, Test R²: -5.3633\n",
      "2024-09-18 00:34:12,652 - INFO - Epoch 52, Train Loss: 0.0442, Train RMSE: 0.0262, Test RMSE: 0.0260, Train MAE: 0.0146, Test MAE: 0.0147, Train R²: -0.5096, Test R²: -0.5509\n",
      "2024-09-18 00:34:25,709 - INFO - Epoch 53, Train Loss: 0.0447, Train RMSE: 0.0217, Test RMSE: 0.0214, Train MAE: 0.0024, Test MAE: 0.0025, Train R²: -0.0359, Test R²: -0.0534\n",
      "2024-09-18 00:34:38,963 - INFO - Epoch 54, Train Loss: 0.0471, Train RMSE: 0.0400, Test RMSE: 0.0400, Train MAE: 0.0335, Test MAE: 0.0336, Train R²: -2.5361, Test R²: -2.6762\n",
      "2024-09-18 00:34:52,149 - INFO - Epoch 55, Train Loss: 0.0442, Train RMSE: 0.0230, Test RMSE: 0.0227, Train MAE: 0.0087, Test MAE: 0.0087, Train R²: -0.1676, Test R²: -0.1825\n",
      "2024-09-18 00:35:05,543 - INFO - Epoch 56, Train Loss: 0.0438, Train RMSE: 0.0262, Test RMSE: 0.0259, Train MAE: 0.0153, Test MAE: 0.0153, Train R²: -0.5123, Test R²: -0.5370\n",
      "2024-09-18 00:35:19,622 - INFO - Epoch 57, Train Loss: 0.0430, Train RMSE: 0.0397, Test RMSE: 0.0396, Train MAE: 0.0331, Test MAE: 0.0332, Train R²: -2.4715, Test R²: -2.6028\n",
      "2024-09-18 00:35:32,618 - INFO - Epoch 58, Train Loss: 0.0467, Train RMSE: 0.0277, Test RMSE: 0.0275, Train MAE: 0.0173, Test MAE: 0.0174, Train R²: -0.6959, Test R²: -0.7429\n",
      "2024-09-18 00:35:45,922 - INFO - Epoch 59, Train Loss: 0.0425, Train RMSE: 0.0400, Test RMSE: 0.0399, Train MAE: 0.0337, Test MAE: 0.0338, Train R²: -2.5382, Test R²: -2.6676\n",
      "2024-09-18 00:35:59,089 - INFO - Epoch 60, Train Loss: 0.0448, Train RMSE: 0.0242, Test RMSE: 0.0238, Train MAE: 0.0117, Test MAE: 0.0117, Train R²: -0.2963, Test R²: -0.3073\n",
      "2024-09-18 00:36:12,353 - INFO - Epoch 61, Train Loss: 0.0431, Train RMSE: 0.0247, Test RMSE: 0.0243, Train MAE: 0.0125, Test MAE: 0.0125, Train R²: -0.3452, Test R²: -0.3594\n",
      "2024-09-18 00:36:26,380 - INFO - Epoch 62, Train Loss: 0.0428, Train RMSE: 0.0313, Test RMSE: 0.0311, Train MAE: 0.0228, Test MAE: 0.0229, Train R²: -1.1608, Test R²: -1.2238\n",
      "2024-09-18 00:36:39,372 - INFO - Epoch 63, Train Loss: 0.0432, Train RMSE: 0.0391, Test RMSE: 0.0389, Train MAE: 0.0327, Test MAE: 0.0328, Train R²: -2.3725, Test R²: -2.4886\n",
      "2024-09-18 00:36:52,449 - INFO - Epoch 64, Train Loss: 0.0422, Train RMSE: 0.0298, Test RMSE: 0.0294, Train MAE: 0.0214, Test MAE: 0.0214, Train R²: -0.9555, Test R²: -0.9913\n",
      "2024-09-18 00:37:06,023 - INFO - Epoch 65, Train Loss: 0.0441, Train RMSE: 0.0238, Test RMSE: 0.0235, Train MAE: 0.0101, Test MAE: 0.0102, Train R²: -0.2510, Test R²: -0.2717\n",
      "2024-09-18 00:37:18,986 - INFO - Epoch 66, Train Loss: 0.0425, Train RMSE: 0.0225, Test RMSE: 0.0221, Train MAE: 0.0072, Test MAE: 0.0073, Train R²: -0.1177, Test R²: -0.1272\n",
      "2024-09-18 00:37:33,132 - INFO - Epoch 67, Train Loss: 0.0425, Train RMSE: 0.0246, Test RMSE: 0.0242, Train MAE: 0.0129, Test MAE: 0.0130, Train R²: -0.3400, Test R²: -0.3520\n",
      "2024-09-18 00:37:46,100 - INFO - Epoch 68, Train Loss: 0.0432, Train RMSE: 0.0214, Test RMSE: 0.0210, Train MAE: 0.0014, Test MAE: 0.0015, Train R²: -0.0105, Test R²: -0.0131\n",
      "2024-09-18 00:37:59,081 - INFO - Epoch 69, Train Loss: 0.0439, Train RMSE: 0.0246, Test RMSE: 0.0242, Train MAE: 0.0129, Test MAE: 0.0130, Train R²: -0.3360, Test R²: -0.3473\n",
      "2024-09-18 00:38:12,240 - INFO - Epoch 70, Train Loss: 0.0416, Train RMSE: 0.0262, Test RMSE: 0.0259, Train MAE: 0.0152, Test MAE: 0.0153, Train R²: -0.5178, Test R²: -0.5484\n",
      "2024-09-18 00:38:25,598 - INFO - Epoch 71, Train Loss: 0.0414, Train RMSE: 0.0226, Test RMSE: 0.0223, Train MAE: 0.0077, Test MAE: 0.0077, Train R²: -0.1306, Test R²: -0.1397\n",
      "2024-09-18 00:38:39,843 - INFO - Epoch 72, Train Loss: 0.0414, Train RMSE: 0.0249, Test RMSE: 0.0245, Train MAE: 0.0134, Test MAE: 0.0135, Train R²: -0.3634, Test R²: -0.3750\n",
      "2024-09-18 00:38:53,146 - INFO - Epoch 73, Train Loss: 0.0415, Train RMSE: 0.0298, Test RMSE: 0.0295, Train MAE: 0.0214, Test MAE: 0.0215, Train R²: -0.9621, Test R²: -0.9967\n",
      "2024-09-18 00:39:06,273 - INFO - Epoch 74, Train Loss: 0.0427, Train RMSE: 0.0295, Test RMSE: 0.0292, Train MAE: 0.0204, Test MAE: 0.0205, Train R²: -0.9206, Test R²: -0.9650\n",
      "2024-09-18 00:39:19,020 - INFO - Epoch 75, Train Loss: 0.0425, Train RMSE: 0.0255, Test RMSE: 0.0252, Train MAE: 0.0140, Test MAE: 0.0141, Train R²: -0.4341, Test R²: -0.4570\n",
      "2024-09-18 00:39:33,263 - INFO - Epoch 76, Train Loss: 0.0416, Train RMSE: 0.0412, Test RMSE: 0.0410, Train MAE: 0.0353, Test MAE: 0.0353, Train R²: -2.7455, Test R²: -2.8658\n",
      "2024-09-18 00:39:46,164 - INFO - Epoch 77, Train Loss: 0.0424, Train RMSE: 0.0301, Test RMSE: 0.0298, Train MAE: 0.0219, Test MAE: 0.0220, Train R²: -1.0045, Test R²: -1.0398\n",
      "2024-09-18 00:39:59,511 - INFO - Epoch 78, Train Loss: 0.0413, Train RMSE: 0.0240, Test RMSE: 0.0236, Train MAE: 0.0117, Test MAE: 0.0117, Train R²: -0.2706, Test R²: -0.2785\n",
      "2024-09-18 00:40:12,513 - INFO - Epoch 79, Train Loss: 0.0417, Train RMSE: 0.0486, Test RMSE: 0.0485, Train MAE: 0.0436, Test MAE: 0.0437, Train R²: -4.2146, Test R²: -4.4141\n",
      "2024-09-18 00:40:25,080 - INFO - Epoch 80, Train Loss: 0.0421, Train RMSE: 0.0240, Test RMSE: 0.0236, Train MAE: 0.0110, Test MAE: 0.0111, Train R²: -0.2679, Test R²: -0.2829\n",
      "2024-09-18 00:40:38,893 - INFO - Epoch 81, Train Loss: 0.0403, Train RMSE: 0.0405, Test RMSE: 0.0403, Train MAE: 0.0344, Test MAE: 0.0345, Train R²: -2.6144, Test R²: -2.7382\n",
      "2024-09-18 00:40:51,813 - INFO - Epoch 82, Train Loss: 0.0411, Train RMSE: 0.0282, Test RMSE: 0.0279, Train MAE: 0.0185, Test MAE: 0.0185, Train R²: -0.7522, Test R²: -0.7868\n",
      "2024-09-18 00:41:04,708 - INFO - Epoch 83, Train Loss: 0.0405, Train RMSE: 0.0360, Test RMSE: 0.0358, Train MAE: 0.0291, Test MAE: 0.0291, Train R²: -1.8654, Test R²: -1.9500\n",
      "2024-09-18 00:41:17,569 - INFO - Epoch 84, Train Loss: 0.0430, Train RMSE: 0.0243, Test RMSE: 0.0239, Train MAE: 0.0123, Test MAE: 0.0124, Train R²: -0.3037, Test R²: -0.3135\n",
      "2024-09-18 00:41:30,441 - INFO - Epoch 85, Train Loss: 0.0403, Train RMSE: 0.0269, Test RMSE: 0.0266, Train MAE: 0.0165, Test MAE: 0.0165, Train R²: -0.5965, Test R²: -0.6228\n",
      "2024-09-18 00:41:43,190 - INFO - Epoch 86, Train Loss: 0.0399, Train RMSE: 0.0215, Test RMSE: 0.0210, Train MAE: 0.0029, Test MAE: 0.0029, Train R²: -0.0168, Test R²: -0.0160\n",
      "2024-09-18 00:41:56,128 - INFO - Epoch 87, Train Loss: 0.0408, Train RMSE: 0.0397, Test RMSE: 0.0395, Train MAE: 0.0335, Test MAE: 0.0336, Train R²: -2.4764, Test R²: -2.5875\n",
      "2024-09-18 00:42:09,049 - INFO - Epoch 88, Train Loss: 0.0405, Train RMSE: 0.0221, Test RMSE: 0.0216, Train MAE: 0.0063, Test MAE: 0.0064, Train R²: -0.0756, Test R²: -0.0778\n",
      "2024-09-18 00:42:22,032 - INFO - Epoch 89, Train Loss: 0.0398, Train RMSE: 0.0245, Test RMSE: 0.0242, Train MAE: 0.0122, Test MAE: 0.0122, Train R²: -0.3267, Test R²: -0.3428\n",
      "2024-09-18 00:42:35,152 - INFO - Epoch 90, Train Loss: 0.0403, Train RMSE: 0.0270, Test RMSE: 0.0267, Train MAE: 0.0166, Test MAE: 0.0167, Train R²: -0.6106, Test R²: -0.6391\n",
      "2024-09-18 00:42:48,105 - INFO - Epoch 91, Train Loss: 0.0421, Train RMSE: 0.0235, Test RMSE: 0.0231, Train MAE: 0.0106, Test MAE: 0.0107, Train R²: -0.2225, Test R²: -0.2287\n",
      "2024-09-18 00:43:01,184 - INFO - Epoch 92, Train Loss: 0.0427, Train RMSE: 0.0223, Test RMSE: 0.0219, Train MAE: 0.0065, Test MAE: 0.0066, Train R²: -0.0932, Test R²: -0.0985\n",
      "2024-09-18 00:43:14,241 - INFO - Epoch 93, Train Loss: 0.0393, Train RMSE: 0.0248, Test RMSE: 0.0245, Train MAE: 0.0127, Test MAE: 0.0128, Train R²: -0.3580, Test R²: -0.3765\n",
      "2024-09-18 00:43:27,505 - INFO - Epoch 94, Train Loss: 0.0398, Train RMSE: 0.0406, Test RMSE: 0.0403, Train MAE: 0.0352, Test MAE: 0.0352, Train R²: -2.6388, Test R²: -2.7400\n",
      "2024-09-18 00:43:40,676 - INFO - Epoch 95, Train Loss: 0.0405, Train RMSE: 0.0213, Test RMSE: 0.0208, Train MAE: 0.0006, Test MAE: 0.0006, Train R²: 0.0007, Test R²: 0.0008\n",
      "2024-09-18 00:43:53,729 - INFO - Epoch 96, Train Loss: 0.0389, Train RMSE: 0.0317, Test RMSE: 0.0314, Train MAE: 0.0242, Test MAE: 0.0242, Train R²: -1.2245, Test R²: -1.2696\n",
      "2024-09-18 00:44:06,662 - INFO - Epoch 97, Train Loss: 0.0397, Train RMSE: 0.0269, Test RMSE: 0.0266, Train MAE: 0.0165, Test MAE: 0.0166, Train R²: -0.6016, Test R²: -0.6312\n",
      "2024-09-18 00:44:19,727 - INFO - Epoch 98, Train Loss: 0.0398, Train RMSE: 0.0483, Test RMSE: 0.0481, Train MAE: 0.0440, Test MAE: 0.0440, Train R²: -4.1578, Test R²: -4.3199\n",
      "2024-09-18 00:44:32,593 - INFO - Epoch 99, Train Loss: 0.0407, Train RMSE: 0.0296, Test RMSE: 0.0293, Train MAE: 0.0205, Test MAE: 0.0206, Train R²: -0.9294, Test R²: -0.9734\n",
      "2024-09-18 00:44:45,643 - INFO - Epoch 100, Train Loss: 0.0395, Train RMSE: 0.0216, Test RMSE: 0.0212, Train MAE: 0.0039, Test MAE: 0.0040, Train R²: -0.0333, Test R²: -0.0357\n"
     ]
    }
   ],
   "source": [
    "# Save on Graph 105\n",
    "!source ~/env4/bin/activate && python /u/mbanisharifdehkordi/Github/GNN_4_IO/gnn_training100.py"
   ]
  },
  {
   "cell_type": "code",
   "execution_count": 2,
   "id": "a7ad9803-ebe8-4615-92ca-6d89dcbc05d2",
   "metadata": {
    "collapsed": true,
    "jupyter": {
     "outputs_hidden": true
    },
    "tags": []
   },
   "outputs": [
    {
     "name": "stdout",
     "output_type": "stream",
     "text": [
      "2024-09-18 02:03:17,562 - INFO - Starting data processing.\n",
      "2024-09-18 02:03:17,562 - INFO - Loading graph structure from Graphs/Graph110/graph_structure.yaml\n",
      "2024-09-18 02:03:17,586 - INFO - Graph structure loaded successfully.\n",
      "2024-09-18 02:03:17,586 - INFO - Loading dataset from CSVs/sample_train.csv\n",
      "2024-09-18 02:03:21,004 - INFO - Dataset loaded successfully.\n",
      "2024-09-18 02:03:21,004 - INFO - Splitting dataset into training and testing sets with test size = 0.25\n",
      "2024-09-18 02:03:21,249 - INFO - Dataset split into 786431 training rows and 262144 testing rows.\n",
      "2024-09-18 02:03:21,249 - INFO - Processing training data with 786431 rows.\n",
      "2024-09-18 02:03:33,306 - INFO - All graphs saved to Graphs/Graph110/train_graphs.csv.\n",
      "2024-09-18 02:03:33,604 - INFO - Processing testing data with 262144 rows.\n",
      "2024-09-18 02:03:45,642 - INFO - All graphs saved to Graphs/Graph110/test_graphs.csv.\n",
      "2024-09-18 02:03:45,880 - INFO - Data processing completed.\n"
     ]
    }
   ],
   "source": [
    "# total_rows = 10,000\n",
    "# New Graph Structure -> With no Tag, connect the single nodes at least one edge\n",
    "!source ~/env4/bin/activate && python /u/mbanisharifdehkordi/Github/GNN_4_IO/generate_graph100.py"
   ]
  },
  {
   "cell_type": "code",
   "execution_count": 4,
   "id": "dee45f0e-d26f-4b05-ac1f-49cdb7615db1",
   "metadata": {
    "collapsed": true,
    "jupyter": {
     "outputs_hidden": true
    },
    "tags": []
   },
   "outputs": [
    {
     "name": "stdout",
     "output_type": "stream",
     "text": [
      "Traceback (most recent call last):\n",
      "  File \"/u/mbanisharifdehkordi/Github/GNN_4_IO/gnn_training110.py\", line 117, in <module>\n",
      "    train_data = load_data(train_file_path)\n",
      "  File \"/u/mbanisharifdehkordi/Github/GNN_4_IO/gnn_training110.py\", line 56, in load_data\n",
      "    feature_columns = df.columns.drop(['graph_index', 'tag'])  # Adjust 'graph_index' to your actual index column if needed\n",
      "  File \"/u/mbanisharifdehkordi/env4/lib/python3.9/site-packages/pandas/core/indexes/base.py\", line 7070, in drop\n",
      "    raise KeyError(f\"{labels[mask].tolist()} not found in axis\")\n",
      "KeyError: \"['tag'] not found in axis\"\n"
     ]
    }
   ],
   "source": [
    "# total_rows = 10,000\n",
    "# New Graph Structure -> With no Tag, connect the single nodes at least one edge\n",
    "!source ~/env4/bin/activate && python /u/mbanisharifdehkordi/Github/GNN_4_IO/gnn_training110.py"
   ]
  },
  {
   "cell_type": "code",
   "execution_count": 5,
   "id": "f918092c-cf90-48c4-9109-185a52fdc318",
   "metadata": {
    "collapsed": true,
    "jupyter": {
     "outputs_hidden": true
    },
    "tags": []
   },
   "outputs": [
    {
     "name": "stdout",
     "output_type": "stream",
     "text": [
      "2024-09-18 03:05:26,287 - INFO - Starting data processing.\n",
      "2024-09-18 03:05:26,287 - INFO - Loading graph structure from Graphs/Graph110/graph_structure.yaml\n",
      "2024-09-18 03:05:26,311 - INFO - Graph structure loaded successfully.\n",
      "2024-09-18 03:05:26,311 - INFO - Loading dataset from CSVs/sample_train.csv\n",
      "2024-09-18 03:05:29,719 - INFO - Dataset loaded successfully.\n",
      "2024-09-18 03:05:29,719 - INFO - Splitting dataset into training and testing sets with test size = 0.25\n",
      "2024-09-18 03:05:29,959 - INFO - Dataset split into 786431 training rows and 262144 testing rows.\n",
      "2024-09-18 03:05:29,960 - INFO - Processing training data with 786431 rows.\n",
      "2024-09-18 03:05:41,819 - INFO - All graphs and tags saved to Graphs/Graph110.\n",
      "2024-09-18 03:05:42,017 - INFO - Processing testing data with 262144 rows.\n",
      "2024-09-18 03:05:53,819 - INFO - All graphs and tags saved to Graphs/Graph110.\n",
      "2024-09-18 03:05:54,149 - INFO - Data processing completed.\n"
     ]
    }
   ],
   "source": [
    "# total_rows = 10,000\n",
    "# New Graph Structure -> With no Tag, connect the single nodes at least one edge\n",
    "# Including saving tag in seprate file\n",
    "!source ~/env4/bin/activate && python /u/mbanisharifdehkordi/Github/GNN_4_IO/generate_graph110.py"
   ]
  },
  {
   "cell_type": "code",
   "execution_count": 2,
   "id": "487c6813-1673-499a-82ff-7b4a6d80bcbc",
   "metadata": {
    "collapsed": true,
    "jupyter": {
     "outputs_hidden": true
    },
    "tags": []
   },
   "outputs": [
    {
     "name": "stdout",
     "output_type": "stream",
     "text": [
      "Traceback (most recent call last):\n",
      "  File \"/u/mbanisharifdehkordi/Github/GNN_4_IO/gnn_training110.py\", line 157, in <module>\n",
      "    tags_train = load_tags(train_tags_file)\n",
      "  File \"/u/mbanisharifdehkordi/Github/GNN_4_IO/gnn_training110.py\", line 144, in load_tags\n",
      "    tags_df = pd.read_csv(tags_file)\n",
      "  File \"/u/mbanisharifdehkordi/env4/lib/python3.9/site-packages/pandas/io/parsers/readers.py\", line 1026, in read_csv\n",
      "    return _read(filepath_or_buffer, kwds)\n",
      "  File \"/u/mbanisharifdehkordi/env4/lib/python3.9/site-packages/pandas/io/parsers/readers.py\", line 620, in _read\n",
      "    parser = TextFileReader(filepath_or_buffer, **kwds)\n",
      "  File \"/u/mbanisharifdehkordi/env4/lib/python3.9/site-packages/pandas/io/parsers/readers.py\", line 1620, in __init__\n",
      "    self._engine = self._make_engine(f, self.engine)\n",
      "  File \"/u/mbanisharifdehkordi/env4/lib/python3.9/site-packages/pandas/io/parsers/readers.py\", line 1880, in _make_engine\n",
      "    self.handles = get_handle(\n",
      "  File \"/u/mbanisharifdehkordi/env4/lib/python3.9/site-packages/pandas/io/common.py\", line 873, in get_handle\n",
      "    handle = open(\n",
      "FileNotFoundError: [Errno 2] No such file or directory: 'Graphs/Graph110/train_tags.csv'\n"
     ]
    }
   ],
   "source": [
    "# total_rows = 10,000\n",
    "# New Graph Structure -> With no Tag, connect the single nodes at least one edge\n",
    "# With loading tag value from the file and insert it to the GNN\n",
    "!source ~/env4/bin/activate && python /u/mbanisharifdehkordi/Github/GNN_4_IO/gnn_training110.py"
   ]
  },
  {
   "cell_type": "code",
   "execution_count": 8,
   "id": "5edbb031-8810-4b22-98dc-0f991f16cfa1",
   "metadata": {
    "collapsed": true,
    "jupyter": {
     "outputs_hidden": true
    },
    "tags": []
   },
   "outputs": [
    {
     "name": "stdout",
     "output_type": "stream",
     "text": [
      "2024-09-18 03:07:58,404 - INFO - Starting data processing.\n",
      "2024-09-18 03:07:58,404 - INFO - Loading graph structure from Graphs/Graph110/graph_structure.yaml\n",
      "2024-09-18 03:07:58,429 - INFO - Graph structure loaded successfully.\n",
      "2024-09-18 03:07:58,429 - INFO - Loading dataset from CSVs/sample_train.csv\n",
      "2024-09-18 03:08:01,762 - INFO - Dataset loaded successfully.\n",
      "2024-09-18 03:08:01,762 - INFO - Splitting dataset into training and testing sets with test size = 0.25\n",
      "2024-09-18 03:08:02,024 - INFO - Dataset split into 786431 training rows and 262144 testing rows.\n",
      "2024-09-18 03:08:02,024 - INFO - Processing training data with 786431 rows.\n",
      "2024-09-18 03:08:14,039 - INFO - All graphs saved to Graphs/Graph110/train_graphs.csv. Tags saved to Graphs/Graph110/train_tags.csv.\n",
      "2024-09-18 03:08:14,216 - INFO - Processing testing data with 262144 rows.\n",
      "2024-09-18 03:08:26,188 - INFO - All graphs saved to Graphs/Graph110/test_graphs.csv. Tags saved to Graphs/Graph110/test_tags.csv.\n",
      "2024-09-18 03:08:26,426 - INFO - Data processing completed.\n"
     ]
    }
   ],
   "source": [
    "!source ~/env4/bin/activate && python /u/mbanisharifdehkordi/Github/GNN_4_IO/generate_graph112.py"
   ]
  },
  {
   "cell_type": "code",
   "execution_count": 1,
   "id": "f492039a-b469-4c8f-8466-ddf6b6188573",
   "metadata": {
    "collapsed": true,
    "jupyter": {
     "outputs_hidden": true
    },
    "tags": []
   },
   "outputs": [
    {
     "name": "stdout",
     "output_type": "stream",
     "text": [
      "/u/mbanisharifdehkordi/Github/GNN_4_IO/gnn_training111.py:188: FutureWarning: You are using `torch.load` with `weights_only=False` (the current default value), which uses the default pickle module implicitly. It is possible to construct malicious pickle data which will execute arbitrary code during unpickling (See https://github.com/pytorch/pytorch/blob/main/SECURITY.md#untrusted-models for more details). In a future release, the default value for `weights_only` will be flipped to `True`. This limits the functions that could be executed during unpickling. Arbitrary objects will no longer be allowed to be loaded via this mode unless they are explicitly allowlisted by the user via `torch.serialization.add_safe_globals`. We recommend you start setting `weights_only=True` for any use case where you don't have full control of the loaded file. Please open an issue on GitHub for any issues related to this experimental feature.\n",
      "  checkpoint = torch.load(checkpoint_path)  # Use the default (weights_only=False)\n",
      "2024-09-18 03:30:58,671 - INFO - Loaded checkpoint from Graphs/Graph110/checkpoint.pt, starting at epoch 44\n",
      "2024-09-18 03:31:12,700 - INFO - Epoch 44, Train Loss: 0.6067, Train RMSE: 0.8149, Test RMSE: 0.9265, Train MAE: 0.6075, Test MAE: 0.6112, Train R²: -0.0717, Test R²: -0.0392\n",
      "2024-09-18 03:31:34,225 - INFO - Epoch 45, Train Loss: 0.6067, Train RMSE: 0.8139, Test RMSE: 0.9258, Train MAE: 0.6072, Test MAE: 0.6111, Train R²: -0.0693, Test R²: -0.0377\n",
      "2024-09-18 03:31:44,557 - INFO - Epoch 46, Train Loss: 0.6068, Train RMSE: 0.8137, Test RMSE: 0.9256, Train MAE: 0.6072, Test MAE: 0.6110, Train R²: -0.0685, Test R²: -0.0372\n",
      "2024-09-18 03:32:15,528 - INFO - Epoch 47, Train Loss: 0.6065, Train RMSE: 0.8132, Test RMSE: 0.9252, Train MAE: 0.6071, Test MAE: 0.6110, Train R²: -0.0673, Test R²: -0.0364\n",
      "2024-09-18 03:32:33,592 - INFO - Epoch 48, Train Loss: 0.6070, Train RMSE: 0.8137, Test RMSE: 0.9256, Train MAE: 0.6072, Test MAE: 0.6110, Train R²: -0.0686, Test R²: -0.0373\n",
      "2024-09-18 03:32:45,508 - INFO - Epoch 49, Train Loss: 0.6066, Train RMSE: 0.8125, Test RMSE: 0.9247, Train MAE: 0.6069, Test MAE: 0.6110, Train R²: -0.0655, Test R²: -0.0352\n",
      "2024-09-18 03:32:57,311 - INFO - Epoch 50, Train Loss: 0.6067, Train RMSE: 0.8143, Test RMSE: 0.9261, Train MAE: 0.6074, Test MAE: 0.6111, Train R²: -0.0701, Test R²: -0.0382\n",
      "2024-09-18 03:33:08,345 - INFO - Epoch 51, Train Loss: 0.6066, Train RMSE: 0.8131, Test RMSE: 0.9252, Train MAE: 0.6071, Test MAE: 0.6110, Train R²: -0.0672, Test R²: -0.0363\n",
      "2024-09-18 03:33:19,615 - INFO - Epoch 52, Train Loss: 0.6067, Train RMSE: 0.8134, Test RMSE: 0.9254, Train MAE: 0.6071, Test MAE: 0.6110, Train R²: -0.0678, Test R²: -0.0367\n",
      "2024-09-18 03:33:35,418 - INFO - Epoch 53, Train Loss: 0.6065, Train RMSE: 0.8149, Test RMSE: 0.9266, Train MAE: 0.6074, Test MAE: 0.6112, Train R²: -0.0717, Test R²: -0.0393\n",
      "2024-09-18 03:33:47,111 - INFO - Epoch 54, Train Loss: 0.6069, Train RMSE: 0.8136, Test RMSE: 0.9255, Train MAE: 0.6072, Test MAE: 0.6110, Train R²: -0.0683, Test R²: -0.0370\n",
      "2024-09-18 03:33:58,278 - INFO - Epoch 55, Train Loss: 0.6065, Train RMSE: 0.8137, Test RMSE: 0.9256, Train MAE: 0.6073, Test MAE: 0.6110, Train R²: -0.0688, Test R²: -0.0372\n",
      "2024-09-18 03:34:09,776 - INFO - Epoch 56, Train Loss: 0.6067, Train RMSE: 0.8123, Test RMSE: 0.9246, Train MAE: 0.6068, Test MAE: 0.6110, Train R²: -0.0649, Test R²: -0.0349\n",
      "2024-09-18 03:34:23,823 - INFO - Epoch 57, Train Loss: 0.6066, Train RMSE: 0.8135, Test RMSE: 0.9255, Train MAE: 0.6071, Test MAE: 0.6110, Train R²: -0.0683, Test R²: -0.0370\n",
      "2024-09-18 03:34:35,011 - INFO - Epoch 58, Train Loss: 0.6066, Train RMSE: 0.8139, Test RMSE: 0.9258, Train MAE: 0.6073, Test MAE: 0.6110, Train R²: -0.0692, Test R²: -0.0376\n",
      "2024-09-18 03:34:45,994 - INFO - Epoch 59, Train Loss: 0.6067, Train RMSE: 0.8126, Test RMSE: 0.9248, Train MAE: 0.6069, Test MAE: 0.6110, Train R²: -0.0658, Test R²: -0.0355\n",
      "2024-09-18 03:34:57,216 - INFO - Epoch 60, Train Loss: 0.6067, Train RMSE: 0.8129, Test RMSE: 0.9250, Train MAE: 0.6070, Test MAE: 0.6110, Train R²: -0.0666, Test R²: -0.0359\n",
      "2024-09-18 03:35:10,934 - INFO - Epoch 61, Train Loss: 0.6067, Train RMSE: 0.8130, Test RMSE: 0.9251, Train MAE: 0.6070, Test MAE: 0.6110, Train R²: -0.0668, Test R²: -0.0360\n",
      "2024-09-18 03:35:22,186 - INFO - Epoch 62, Train Loss: 0.6066, Train RMSE: 0.8122, Test RMSE: 0.9245, Train MAE: 0.6068, Test MAE: 0.6110, Train R²: -0.0646, Test R²: -0.0347\n",
      "2024-09-18 03:35:33,405 - INFO - Epoch 63, Train Loss: 0.6068, Train RMSE: 0.8118, Test RMSE: 0.9242, Train MAE: 0.6068, Test MAE: 0.6110, Train R²: -0.0638, Test R²: -0.0341\n",
      "2024-09-18 03:35:44,760 - INFO - Epoch 64, Train Loss: 0.6068, Train RMSE: 0.8118, Test RMSE: 0.9242, Train MAE: 0.6068, Test MAE: 0.6110, Train R²: -0.0636, Test R²: -0.0340\n",
      "2024-09-18 03:35:56,263 - INFO - Epoch 65, Train Loss: 0.6065, Train RMSE: 0.8100, Test RMSE: 0.9229, Train MAE: 0.6065, Test MAE: 0.6110, Train R²: -0.0590, Test R²: -0.0311\n",
      "2024-09-18 03:36:10,312 - INFO - Epoch 66, Train Loss: 0.6067, Train RMSE: 0.8117, Test RMSE: 0.9241, Train MAE: 0.6067, Test MAE: 0.6110, Train R²: -0.0633, Test R²: -0.0339\n",
      "2024-09-18 03:36:27,283 - INFO - Epoch 67, Train Loss: 0.6068, Train RMSE: 0.8127, Test RMSE: 0.9249, Train MAE: 0.6070, Test MAE: 0.6110, Train R²: -0.0661, Test R²: -0.0356\n",
      "2024-09-18 03:36:38,855 - INFO - Epoch 68, Train Loss: 0.6067, Train RMSE: 0.8123, Test RMSE: 0.9246, Train MAE: 0.6068, Test MAE: 0.6110, Train R²: -0.0650, Test R²: -0.0349\n",
      "2024-09-18 03:36:51,522 - INFO - Epoch 69, Train Loss: 0.6068, Train RMSE: 0.8113, Test RMSE: 0.9238, Train MAE: 0.6067, Test MAE: 0.6110, Train R²: -0.0625, Test R²: -0.0332\n",
      "2024-09-18 03:37:03,738 - INFO - Epoch 70, Train Loss: 0.6066, Train RMSE: 0.8122, Test RMSE: 0.9245, Train MAE: 0.6068, Test MAE: 0.6110, Train R²: -0.0648, Test R²: -0.0348\n",
      "2024-09-18 03:37:15,733 - INFO - Epoch 71, Train Loss: 0.6066, Train RMSE: 0.8120, Test RMSE: 0.9244, Train MAE: 0.6068, Test MAE: 0.6110, Train R²: -0.0643, Test R²: -0.0345\n",
      "2024-09-18 03:37:26,992 - INFO - Epoch 72, Train Loss: 0.6067, Train RMSE: 0.8121, Test RMSE: 0.9244, Train MAE: 0.6068, Test MAE: 0.6110, Train R²: -0.0644, Test R²: -0.0345\n",
      "2024-09-18 03:37:38,312 - INFO - Epoch 73, Train Loss: 0.6065, Train RMSE: 0.8123, Test RMSE: 0.9246, Train MAE: 0.6069, Test MAE: 0.6110, Train R²: -0.0650, Test R²: -0.0348\n",
      "2024-09-18 03:37:55,098 - INFO - Epoch 74, Train Loss: 0.6066, Train RMSE: 0.8120, Test RMSE: 0.9244, Train MAE: 0.6068, Test MAE: 0.6110, Train R²: -0.0641, Test R²: -0.0344\n",
      "2024-09-18 03:38:18,874 - INFO - Epoch 75, Train Loss: 0.6068, Train RMSE: 0.8119, Test RMSE: 0.9243, Train MAE: 0.6068, Test MAE: 0.6110, Train R²: -0.0641, Test R²: -0.0343\n",
      "2024-09-18 03:38:31,512 - INFO - Epoch 76, Train Loss: 0.6066, Train RMSE: 0.8125, Test RMSE: 0.9248, Train MAE: 0.6069, Test MAE: 0.6110, Train R²: -0.0655, Test R²: -0.0353\n",
      "2024-09-18 03:38:51,652 - INFO - Epoch 77, Train Loss: 0.6066, Train RMSE: 0.8124, Test RMSE: 0.9247, Train MAE: 0.6069, Test MAE: 0.6110, Train R²: -0.0652, Test R²: -0.0351\n",
      "2024-09-18 03:39:04,407 - INFO - Epoch 78, Train Loss: 0.6067, Train RMSE: 0.8123, Test RMSE: 0.9246, Train MAE: 0.6069, Test MAE: 0.6110, Train R²: -0.0650, Test R²: -0.0349\n",
      "2024-09-18 03:39:19,821 - INFO - Epoch 79, Train Loss: 0.6067, Train RMSE: 0.8118, Test RMSE: 0.9242, Train MAE: 0.6068, Test MAE: 0.6110, Train R²: -0.0638, Test R²: -0.0340\n",
      "2024-09-18 03:39:36,649 - INFO - Epoch 80, Train Loss: 0.6068, Train RMSE: 0.8120, Test RMSE: 0.9243, Train MAE: 0.6068, Test MAE: 0.6110, Train R²: -0.0642, Test R²: -0.0344\n",
      "2024-09-18 03:39:48,301 - INFO - Epoch 81, Train Loss: 0.6067, Train RMSE: 0.8118, Test RMSE: 0.9242, Train MAE: 0.6068, Test MAE: 0.6110, Train R²: -0.0636, Test R²: -0.0340\n",
      "2024-09-18 03:40:00,105 - INFO - Epoch 82, Train Loss: 0.6065, Train RMSE: 0.8126, Test RMSE: 0.9248, Train MAE: 0.6069, Test MAE: 0.6110, Train R²: -0.0656, Test R²: -0.0353\n",
      "2024-09-18 03:40:17,594 - INFO - Epoch 83, Train Loss: 0.6068, Train RMSE: 0.8125, Test RMSE: 0.9247, Train MAE: 0.6069, Test MAE: 0.6110, Train R²: -0.0655, Test R²: -0.0352\n",
      "2024-09-18 03:40:31,249 - INFO - Epoch 84, Train Loss: 0.6065, Train RMSE: 0.8122, Test RMSE: 0.9245, Train MAE: 0.6068, Test MAE: 0.6110, Train R²: -0.0648, Test R²: -0.0347\n",
      "2024-09-18 03:40:43,216 - INFO - Epoch 85, Train Loss: 0.6066, Train RMSE: 0.8117, Test RMSE: 0.9241, Train MAE: 0.6067, Test MAE: 0.6110, Train R²: -0.0634, Test R²: -0.0339\n",
      "2024-09-18 03:40:59,711 - INFO - Epoch 86, Train Loss: 0.6067, Train RMSE: 0.8119, Test RMSE: 0.9243, Train MAE: 0.6068, Test MAE: 0.6110, Train R²: -0.0639, Test R²: -0.0342\n",
      "2024-09-18 03:41:15,040 - INFO - Epoch 87, Train Loss: 0.6066, Train RMSE: 0.8119, Test RMSE: 0.9243, Train MAE: 0.6067, Test MAE: 0.6110, Train R²: -0.0640, Test R²: -0.0343\n",
      "2024-09-18 03:41:28,121 - INFO - Epoch 88, Train Loss: 0.6067, Train RMSE: 0.8125, Test RMSE: 0.9248, Train MAE: 0.6069, Test MAE: 0.6110, Train R²: -0.0656, Test R²: -0.0353\n",
      "2024-09-18 03:41:41,237 - INFO - Epoch 89, Train Loss: 0.6068, Train RMSE: 0.8126, Test RMSE: 0.9247, Train MAE: 0.6069, Test MAE: 0.6110, Train R²: -0.0657, Test R²: -0.0352\n",
      "2024-09-18 03:41:59,398 - INFO - Epoch 90, Train Loss: 0.6067, Train RMSE: 0.8121, Test RMSE: 0.9245, Train MAE: 0.6068, Test MAE: 0.6110, Train R²: -0.0646, Test R²: -0.0346\n",
      "2024-09-18 03:42:12,954 - INFO - Epoch 91, Train Loss: 0.6065, Train RMSE: 0.8117, Test RMSE: 0.9241, Train MAE: 0.6068, Test MAE: 0.6110, Train R²: -0.0633, Test R²: -0.0338\n",
      "2024-09-18 03:42:24,116 - INFO - Epoch 92, Train Loss: 0.6067, Train RMSE: 0.8121, Test RMSE: 0.9245, Train MAE: 0.6068, Test MAE: 0.6110, Train R²: -0.0645, Test R²: -0.0346\n",
      "2024-09-18 03:42:36,371 - INFO - Epoch 93, Train Loss: 0.6066, Train RMSE: 0.8121, Test RMSE: 0.9245, Train MAE: 0.6068, Test MAE: 0.6110, Train R²: -0.0646, Test R²: -0.0346\n",
      "2024-09-18 03:42:49,539 - INFO - Epoch 94, Train Loss: 0.6067, Train RMSE: 0.8119, Test RMSE: 0.9243, Train MAE: 0.6068, Test MAE: 0.6110, Train R²: -0.0640, Test R²: -0.0342\n",
      "2024-09-18 03:43:02,975 - INFO - Epoch 95, Train Loss: 0.6066, Train RMSE: 0.8122, Test RMSE: 0.9245, Train MAE: 0.6068, Test MAE: 0.6110, Train R²: -0.0647, Test R²: -0.0347\n",
      "2024-09-18 03:43:15,270 - INFO - Epoch 96, Train Loss: 0.6068, Train RMSE: 0.8123, Test RMSE: 0.9246, Train MAE: 0.6069, Test MAE: 0.6110, Train R²: -0.0650, Test R²: -0.0348\n",
      "2024-09-18 03:43:28,477 - INFO - Epoch 97, Train Loss: 0.6068, Train RMSE: 0.8119, Test RMSE: 0.9243, Train MAE: 0.6067, Test MAE: 0.6110, Train R²: -0.0638, Test R²: -0.0343\n",
      "2024-09-18 03:43:38,597 - INFO - Epoch 98, Train Loss: 0.6065, Train RMSE: 0.8118, Test RMSE: 0.9242, Train MAE: 0.6068, Test MAE: 0.6110, Train R²: -0.0637, Test R²: -0.0341\n",
      "2024-09-18 03:43:50,929 - INFO - Epoch 99, Train Loss: 0.6064, Train RMSE: 0.8122, Test RMSE: 0.9244, Train MAE: 0.6068, Test MAE: 0.6110, Train R²: -0.0647, Test R²: -0.0346\n",
      "2024-09-18 03:44:02,095 - INFO - Epoch 100, Train Loss: 0.6068, Train RMSE: 0.8120, Test RMSE: 0.9243, Train MAE: 0.6068, Test MAE: 0.6110, Train R²: -0.0641, Test R²: -0.0342\n",
      "Traceback (most recent call last):\n",
      "  File \"/u/mbanisharifdehkordi/Github/GNN_4_IO/gnn_training111.py\", line 332, in <module>\n",
      "    train_losses, train_rmse_scores, test_rmse_scores, train_mae_scores, test_mae_scores, train_r2_scores, test_r2_scores = train(\n",
      "  File \"/u/mbanisharifdehkordi/Github/GNN_4_IO/gnn_training111.py\", line 267, in train\n",
      "    save_plots(train_losses, train_rmse_scores, test_rmse_scores, train_mae_scores, test_mae_scores, train_r2_scores, test_r2_scores)\n",
      "NameError: name 'save_plots' is not defined\n"
     ]
    }
   ],
   "source": [
    "# total_rows = 10,000\n",
    "# New Graph Structure -> With no Tag, connect the single nodes at least one edge\n",
    "# With loading tag value from the file and insert it to the GNN\n",
    "!source ~/env4/bin/activate && python /u/mbanisharifdehkordi/Github/GNN_4_IO/gnn_training111.py"
   ]
  },
  {
   "cell_type": "code",
   "execution_count": 6,
   "id": "8307fa80-43cf-4bfe-95df-7aaf1fbad33a",
   "metadata": {
    "collapsed": true,
    "jupyter": {
     "outputs_hidden": true
    },
    "tags": []
   },
   "outputs": [
    {
     "name": "stdout",
     "output_type": "stream",
     "text": [
      "Traceback (most recent call last):\n",
      "  File \"/u/mbanisharifdehkordi/Github/GNN_4_IO/gnn_training121.py\", line 475, in <module>\n",
      "    train_losses, val_losses, train_rmse_scores, val_rmse_scores, test_rmse_scores, train_mae_scores, val_mae_scores, test_mae_scores, train_r2_scores, val_r2_scores, test_r2_scores = train(\n",
      "  File \"/u/mbanisharifdehkordi/Github/GNN_4_IO/gnn_training121.py\", line 323, in train\n",
      "    raise ValueError(f\"Missing tags for graph indices {graph_indices}\")\n",
      "ValueError: Missing tags for graph indices [0, 1, 2, 3, 4, 5, 6, 7, 8, 9, 10, 11, 12, 13, 14, 15, 16, 17, 18, 19, 20, 21, 22, 23, 24, 25, 26, 27, 28, 29, 30, 31, 32, 33, 34, 35, 36, 37, 38, 39, 40, 41, 42, 43, 44, 45, 46, 47, 48, 49, 50, 51, 52, 53, 54, 55, 56, 57, 58, 59, 60, 61, 62, 63]\n"
     ]
    }
   ],
   "source": [
    "# total_rows = 10,000\n",
    "# New Graph Structure -> With no Tag, connect the single nodes at least one edge\n",
    "# With loading tag value from the file and insert it to the GNN\n",
    "!source ~/env4/bin/activate && python /u/mbanisharifdehkordi/Github/GNN_4_IO/gnn_training121.py"
   ]
  },
  {
   "cell_type": "code",
   "execution_count": 1,
   "id": "5ad18347-2220-48ba-bd94-2ef02860cfd8",
   "metadata": {
    "collapsed": true,
    "jupyter": {
     "outputs_hidden": true
    },
    "tags": []
   },
   "outputs": [
    {
     "name": "stdout",
     "output_type": "stream",
     "text": [
      "2024-09-18 05:03:57,000 - INFO - Starting data processing.\n",
      "2024-09-18 05:03:57,001 - INFO - Loading graph structure from Graphs/Graph121/graph_structure.yaml\n",
      "2024-09-18 05:03:57,024 - INFO - Graph structure loaded successfully.\n",
      "2024-09-18 05:03:57,024 - INFO - Loading dataset from CSVs/sample_train.csv\n",
      "2024-09-18 05:04:00,399 - INFO - Dataset loaded successfully.\n",
      "2024-09-18 05:04:00,399 - INFO - Splitting dataset into training and testing sets with test size = 0.25\n",
      "2024-09-18 05:04:00,643 - INFO - Splitting training data into train and validation sets with validation size = 0.1\n",
      "2024-09-18 05:04:00,810 - INFO - Dataset split into 707787 training rows, 78644 validation rows, and 262144 testing rows.\n",
      "2024-09-18 05:04:00,810 - INFO - Processing training data with 707787 rows.\n",
      "2024-09-18 05:04:12,457 - INFO - All graphs saved to Graphs/Graph121/train_graphs.csv. Tags saved to Graphs/Graph121/train_tags.csv.\n",
      "2024-09-18 05:04:12,699 - INFO - Processing validation data with 78644 rows.\n",
      "2024-09-18 05:04:24,392 - INFO - All graphs saved to Graphs/Graph121/val_graphs.csv. Tags saved to Graphs/Graph121/val_tags.csv.\n",
      "2024-09-18 05:04:24,705 - INFO - Processing testing data with 262144 rows.\n",
      "2024-09-18 05:04:36,230 - INFO - All graphs saved to Graphs/Graph121/test_graphs.csv. Tags saved to Graphs/Graph121/test_tags.csv.\n",
      "2024-09-18 05:04:36,524 - INFO - Data processing completed.\n"
     ]
    }
   ],
   "source": [
    "# total_rows = 10,000\n",
    "# New Graph Structure -> With no Tag, connect the single nodes at least one edge\n",
    "# With loading tag value from the file and insert it to the GNN\n",
    "# Including Val data generation\n",
    "!source ~/env4/bin/activate && python /u/mbanisharifdehkordi/Github/GNN_4_IO/generate_graph121.py"
   ]
  },
  {
   "cell_type": "code",
   "execution_count": null,
   "id": "53ac5c00-3000-42e8-8670-cadef5997110",
   "metadata": {
    "collapsed": true,
    "jupyter": {
     "outputs_hidden": true
    },
    "tags": []
   },
   "outputs": [
    {
     "name": "stdout",
     "output_type": "stream",
     "text": [
      "2024-09-18 05:10:03,778 - INFO - Epoch 1, Train Loss: 0.5692, Train RMSE: 0.9628, Val RMSE: 1.0629, Test RMSE: 1.2123, Train MAE: 0.6664, Val MAE: 0.7965, Test MAE: 0.8538, Train R²: -0.7787, Val R²: -1.1116, Test R²: -0.7793\n",
      "2024-09-18 05:10:39,228 - INFO - Epoch 2, Train Loss: 0.5563, Train RMSE: 0.9051, Val RMSE: 0.9985, Test RMSE: 1.1536, Train MAE: 0.6063, Val MAE: 0.7264, Test MAE: 0.7931, Train R²: -0.5717, Val R²: -0.8634, Test R²: -0.6112\n",
      "2024-09-18 05:11:13,630 - INFO - Epoch 3, Train Loss: 0.5517, Train RMSE: 0.8767, Val RMSE: 0.9666, Test RMSE: 1.1246, Train MAE: 0.5863, Val MAE: 0.6933, Test MAE: 0.7644, Train R²: -0.4747, Val R²: -0.7462, Test R²: -0.5311\n",
      "2024-09-18 05:11:49,049 - INFO - Epoch 4, Train Loss: 0.5468, Train RMSE: 0.8428, Val RMSE: 0.9265, Test RMSE: 1.0888, Train MAE: 0.5665, Val MAE: 0.6541, Test MAE: 0.7305, Train R²: -0.3628, Val R²: -0.6044, Test R²: -0.4352\n",
      "2024-09-18 05:12:25,071 - INFO - Epoch 5, Train Loss: 0.5475, Train RMSE: 0.8459, Val RMSE: 0.9304, Test RMSE: 1.0925, Train MAE: 0.5679, Val MAE: 0.6579, Test MAE: 0.7337, Train R²: -0.3728, Val R²: -0.6178, Test R²: -0.4450\n",
      "2024-09-18 05:13:02,031 - INFO - Epoch 6, Train Loss: 0.5457, Train RMSE: 0.8141, Val RMSE: 0.8919, Test RMSE: 1.0578, Train MAE: 0.5559, Val MAE: 0.6226, Test MAE: 0.7014, Train R²: -0.2717, Val R²: -0.4867, Test R²: -0.3545\n",
      "2024-09-18 05:13:37,508 - INFO - Epoch 7, Train Loss: 0.5449, Train RMSE: 0.8076, Val RMSE: 0.8838, Test RMSE: 1.0504, Train MAE: 0.5538, Val MAE: 0.6156, Test MAE: 0.6948, Train R²: -0.2514, Val R²: -0.4598, Test R²: -0.3357\n",
      "2024-09-18 05:14:11,736 - INFO - Epoch 8, Train Loss: 0.5440, Train RMSE: 0.8039, Val RMSE: 0.8792, Test RMSE: 1.0463, Train MAE: 0.5528, Val MAE: 0.6118, Test MAE: 0.6913, Train R²: -0.2400, Val R²: -0.4447, Test R²: -0.3254\n",
      "2024-09-18 05:14:46,184 - INFO - Epoch 9, Train Loss: 0.5447, Train RMSE: 0.7993, Val RMSE: 0.8734, Test RMSE: 1.0414, Train MAE: 0.5515, Val MAE: 0.6069, Test MAE: 0.6871, Train R²: -0.2257, Val R²: -0.4256, Test R²: -0.3129\n",
      "2024-09-18 05:15:22,262 - INFO - Epoch 10, Train Loss: 0.5427, Train RMSE: 0.7788, Val RMSE: 0.8466, Test RMSE: 1.0172, Train MAE: 0.5455, Val MAE: 0.5888, Test MAE: 0.6676, Train R²: -0.1639, Val R²: -0.3397, Test R²: -0.2525\n",
      "2024-09-18 05:15:57,216 - INFO - Epoch 11, Train Loss: 0.5433, Train RMSE: 0.7756, Val RMSE: 0.8423, Test RMSE: 1.0136, Train MAE: 0.5446, Val MAE: 0.5863, Test MAE: 0.6646, Train R²: -0.1542, Val R²: -0.3261, Test R²: -0.2437\n",
      "2024-09-18 05:16:31,480 - INFO - Epoch 12, Train Loss: 0.5426, Train RMSE: 0.7647, Val RMSE: 0.8265, Test RMSE: 0.9991, Train MAE: 0.5436, Val MAE: 0.5773, Test MAE: 0.6523, Train R²: -0.1221, Val R²: -0.2769, Test R²: -0.2085\n",
      "2024-09-18 05:17:05,530 - INFO - Epoch 13, Train Loss: 0.5429, Train RMSE: 0.7743, Val RMSE: 0.8406, Test RMSE: 1.0122, Train MAE: 0.5444, Val MAE: 0.5853, Test MAE: 0.6633, Train R²: -0.1504, Val R²: -0.3207, Test R²: -0.2404\n",
      "2024-09-18 05:17:39,218 - INFO - Epoch 14, Train Loss: 0.5424, Train RMSE: 0.7605, Val RMSE: 0.8212, Test RMSE: 0.9947, Train MAE: 0.5426, Val MAE: 0.5741, Test MAE: 0.6483, Train R²: -0.1096, Val R²: -0.2604, Test R²: -0.1979\n",
      "2024-09-18 05:18:14,309 - INFO - Epoch 15, Train Loss: 0.5421, Train RMSE: 0.7653, Val RMSE: 0.8280, Test RMSE: 1.0008, Train MAE: 0.5430, Val MAE: 0.5780, Test MAE: 0.6535, Train R²: -0.1237, Val R²: -0.2815, Test R²: -0.2127\n",
      "2024-09-18 05:18:48,399 - INFO - Epoch 16, Train Loss: 0.5426, Train RMSE: 0.7590, Val RMSE: 0.8191, Test RMSE: 0.9929, Train MAE: 0.5425, Val MAE: 0.5729, Test MAE: 0.6468, Train R²: -0.1053, Val R²: -0.2538, Test R²: -0.1935\n"
     ]
    }
   ],
   "source": [
    "# total_rows = 10,000\n",
    "# New Graph Structure -> With no Tag, connect the single nodes at least one edge\n",
    "# With loading tag value from the file and insert it to the GNN\n",
    "# Learning rate: 0.001\n",
    "!source ~/env4/bin/activate && python /u/mbanisharifdehkordi/Github/GNN_4_IO/gnn_training121.py"
   ]
  },
  {
   "cell_type": "code",
   "execution_count": null,
   "id": "c86c486c-c0d6-4efd-9719-3b0f4ffc7b05",
   "metadata": {
    "collapsed": true,
    "jupyter": {
     "outputs_hidden": true
    },
    "tags": []
   },
   "outputs": [
    {
     "name": "stdout",
     "output_type": "stream",
     "text": [
      "2024-09-18 05:26:51,979 - INFO - Epoch 1, Train Loss: 0.6115, Train RMSE: 0.9902, Val RMSE: 1.0915, Test RMSE: 1.2376, Train MAE: 0.6981, Val MAE: 0.8268, Test MAE: 0.8818, Train R²: -0.8814, Val R²: -1.2268, Test R²: -0.8543\n",
      "2024-09-18 05:27:27,399 - INFO - Epoch 2, Train Loss: 0.5597, Train RMSE: 0.9795, Val RMSE: 1.0804, Test RMSE: 1.2275, Train MAE: 0.6862, Val MAE: 0.8146, Test MAE: 0.8708, Train R²: -0.8408, Val R²: -1.1815, Test R²: -0.8241\n",
      "2024-09-18 05:28:03,408 - INFO - Epoch 3, Train Loss: 0.5532, Train RMSE: 0.9849, Val RMSE: 1.0867, Test RMSE: 1.2338, Train MAE: 0.6918, Val MAE: 0.8219, Test MAE: 0.8773, Train R²: -0.8613, Val R²: -1.2071, Test R²: -0.8428\n",
      "2024-09-18 05:28:39,578 - INFO - Epoch 4, Train Loss: 0.5505, Train RMSE: 0.9876, Val RMSE: 1.0899, Test RMSE: 1.2367, Train MAE: 0.6951, Val MAE: 0.8253, Test MAE: 0.8805, Train R²: -0.8715, Val R²: -1.2200, Test R²: -0.8515\n",
      "2024-09-18 05:29:15,198 - INFO - Epoch 5, Train Loss: 0.5508, Train RMSE: 0.9901, Val RMSE: 1.0924, Test RMSE: 1.2392, Train MAE: 0.6978, Val MAE: 0.8282, Test MAE: 0.8831, Train R²: -0.8808, Val R²: -1.2305, Test R²: -0.8591\n",
      "2024-09-18 05:29:49,748 - INFO - Epoch 6, Train Loss: 0.5529, Train RMSE: 0.9792, Val RMSE: 1.0806, Test RMSE: 1.2283, Train MAE: 0.6852, Val MAE: 0.8153, Test MAE: 0.8712, Train R²: -0.8398, Val R²: -1.1824, Test R²: -0.8264\n",
      "2024-09-18 05:30:26,141 - INFO - Epoch 7, Train Loss: 0.5517, Train RMSE: 0.9885, Val RMSE: 1.0907, Test RMSE: 1.2378, Train MAE: 0.6959, Val MAE: 0.8265, Test MAE: 0.8816, Train R²: -0.8747, Val R²: -1.2235, Test R²: -0.8550\n",
      "2024-09-18 05:31:01,385 - INFO - Epoch 8, Train Loss: 0.5507, Train RMSE: 0.9726, Val RMSE: 1.0736, Test RMSE: 1.2222, Train MAE: 0.6776, Val MAE: 0.8082, Test MAE: 0.8645, Train R²: -0.8150, Val R²: -1.1543, Test R²: -0.8083\n",
      "2024-09-18 05:31:37,134 - INFO - Epoch 9, Train Loss: 0.5478, Train RMSE: 0.9726, Val RMSE: 1.0736, Test RMSE: 1.2222, Train MAE: 0.6776, Val MAE: 0.8081, Test MAE: 0.8645, Train R²: -0.8150, Val R²: -1.1543, Test R²: -0.8084\n",
      "2024-09-18 05:32:11,386 - INFO - Epoch 10, Train Loss: 0.5507, Train RMSE: 0.9824, Val RMSE: 1.0844, Test RMSE: 1.2321, Train MAE: 0.6890, Val MAE: 0.8196, Test MAE: 0.8752, Train R²: -0.8518, Val R²: -1.1979, Test R²: -0.8377\n",
      "2024-09-18 05:32:45,905 - INFO - Epoch 11, Train Loss: 0.5504, Train RMSE: 0.9806, Val RMSE: 1.0823, Test RMSE: 1.2301, Train MAE: 0.6869, Val MAE: 0.8173, Test MAE: 0.8731, Train R²: -0.8449, Val R²: -1.1895, Test R²: -0.8317\n",
      "2024-09-18 05:33:20,738 - INFO - Epoch 12, Train Loss: 0.5480, Train RMSE: 0.9699, Val RMSE: 1.0705, Test RMSE: 1.2192, Train MAE: 0.6745, Val MAE: 0.8047, Test MAE: 0.8615, Train R²: -0.8048, Val R²: -1.1420, Test R²: -0.7996\n"
     ]
    }
   ],
   "source": [
    "# total_rows = 10,000\n",
    "# New Graph Structure -> With no Tag, connect the single nodes at least one edge\n",
    "# With loading tag value from the file and insert it to the GNN\n",
    "# Learning rate: 0.0001\n",
    "!source ~/env4/bin/activate && python /u/mbanisharifdehkordi/Github/GNN_4_IO/gnn_training121.py"
   ]
  },
  {
   "cell_type": "code",
   "execution_count": null,
   "id": "b756977a-788f-4c59-b1bb-88a9f78ec26a",
   "metadata": {},
   "outputs": [],
   "source": [
    "# 10,000 -> 160MB\n",
    "# 100,000 -> 1.6G\n",
    "\n",
    "# Ram -> 128GB\n",
    "# CPU -> 16 Core"
   ]
  },
  {
   "cell_type": "code",
   "execution_count": null,
   "id": "bd31593c-919c-4aea-8b43-67a68122dd74",
   "metadata": {},
   "outputs": [],
   "source": [
    "# Graph 108\n",
    "# For testing gnn_training100 in order to double check the result is the same we got from past or the code has changed!\n",
    "# Generate the Graph with graph_generator_100\n",
    "# total_rows = 10,000\n",
    "# Save path: Graph108\n",
    "!source ~/env4/bin/activate && python /u/mbanisharifdehkordi/Github/GNN_4_IO/generate_graph100.py"
   ]
  }
 ],
 "metadata": {
  "kernelspec": {
   "display_name": "Python (env4)",
   "language": "python",
   "name": "env4"
  },
  "language_info": {
   "codemirror_mode": {
    "name": "ipython",
    "version": 3
   },
   "file_extension": ".py",
   "mimetype": "text/x-python",
   "name": "python",
   "nbconvert_exporter": "python",
   "pygments_lexer": "ipython3",
   "version": "3.9.18"
  }
 },
 "nbformat": 4,
 "nbformat_minor": 5
}
