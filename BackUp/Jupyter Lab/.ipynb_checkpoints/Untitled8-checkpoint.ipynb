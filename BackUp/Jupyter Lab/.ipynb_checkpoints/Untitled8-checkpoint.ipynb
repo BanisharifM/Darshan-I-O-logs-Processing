{
 "cells": [
  {
   "cell_type": "code",
   "execution_count": 4,
   "id": "f59e74cd-d365-4385-9cd1-981a69c7a2d5",
   "metadata": {
    "tags": []
   },
   "outputs": [
    {
     "name": "stdout",
     "output_type": "stream",
     "text": [
      "python: can't open file '/u/mbanisharifdehkordi/Github/GNN_4_IO/pip': [Errno 2] No such file or directory\n"
     ]
    }
   ],
   "source": [
    "!source ~/env4/bin/activate && python pip install dir-tree\n"
   ]
  },
  {
   "cell_type": "code",
   "execution_count": 1,
   "id": "504e2008-ef88-4a2f-9566-8487a31851cd",
   "metadata": {
    "tags": []
   },
   "outputs": [
    {
     "ename": "ImportError",
     "evalue": "cannot import name 'create_tree' from 'dir_tree' (/u/mbanisharifdehkordi/env4/lib/python3.9/site-packages/dir_tree/__init__.py)",
     "output_type": "error",
     "traceback": [
      "\u001b[0;31m---------------------------------------------------------------------------\u001b[0m",
      "\u001b[0;31mImportError\u001b[0m                               Traceback (most recent call last)",
      "Cell \u001b[0;32mIn[1], line 1\u001b[0m\n\u001b[0;32m----> 1\u001b[0m \u001b[38;5;28;01mfrom\u001b[39;00m \u001b[38;5;21;01mdir_tree\u001b[39;00m \u001b[38;5;28;01mimport\u001b[39;00m create_tree\n\u001b[1;32m      3\u001b[0m \u001b[38;5;28;01mwith\u001b[39;00m \u001b[38;5;28mopen\u001b[39m(\u001b[38;5;124m'\u001b[39m\u001b[38;5;124mdirectory_tree.txt\u001b[39m\u001b[38;5;124m'\u001b[39m, \u001b[38;5;124m'\u001b[39m\u001b[38;5;124mw\u001b[39m\u001b[38;5;124m'\u001b[39m) \u001b[38;5;28;01mas\u001b[39;00m f:\n\u001b[1;32m      4\u001b[0m     f\u001b[38;5;241m.\u001b[39mwrite(create_tree(\u001b[38;5;124m'\u001b[39m\u001b[38;5;124m.\u001b[39m\u001b[38;5;124m'\u001b[39m))\n",
      "\u001b[0;31mImportError\u001b[0m: cannot import name 'create_tree' from 'dir_tree' (/u/mbanisharifdehkordi/env4/lib/python3.9/site-packages/dir_tree/__init__.py)"
     ]
    }
   ],
   "source": [
    "from dir_tree import create_tree\n",
    "\n",
    "with open('directory_tree.txt', 'w') as f:\n",
    "    f.write(create_tree('.'))\n"
   ]
  },
  {
   "cell_type": "code",
   "execution_count": 5,
   "id": "6e26da2b-1051-45cb-bbd7-b4ced4780368",
   "metadata": {
    "tags": []
   },
   "outputs": [
    {
     "name": "stdout",
     "output_type": "stream",
     "text": [
      "Defaulting to user installation because normal site-packages is not writeable\n",
      "Requirement already satisfied: dir-tree in /u/mbanisharifdehkordi/.local/lib/python3.9/site-packages (0.0.2)\n"
     ]
    }
   ],
   "source": [
    "!pip install dir-tree\n"
   ]
  },
  {
   "cell_type": "code",
   "execution_count": 6,
   "id": "4a92f8d5-2777-4247-920b-c91fee48fba2",
   "metadata": {
    "tags": []
   },
   "outputs": [
    {
     "ename": "ImportError",
     "evalue": "cannot import name 'create_tree' from 'dir_tree' (/u/mbanisharifdehkordi/env4/lib/python3.9/site-packages/dir_tree/__init__.py)",
     "output_type": "error",
     "traceback": [
      "\u001b[0;31m---------------------------------------------------------------------------\u001b[0m",
      "\u001b[0;31mImportError\u001b[0m                               Traceback (most recent call last)",
      "Cell \u001b[0;32mIn[6], line 1\u001b[0m\n\u001b[0;32m----> 1\u001b[0m \u001b[38;5;28;01mfrom\u001b[39;00m \u001b[38;5;21;01mdir_tree\u001b[39;00m \u001b[38;5;28;01mimport\u001b[39;00m create_tree\n\u001b[1;32m      3\u001b[0m \u001b[38;5;66;03m# Generate the directory tree and save it to a file\u001b[39;00m\n\u001b[1;32m      4\u001b[0m \u001b[38;5;28;01mwith\u001b[39;00m \u001b[38;5;28mopen\u001b[39m(\u001b[38;5;124m'\u001b[39m\u001b[38;5;124mdirectory_tree.txt\u001b[39m\u001b[38;5;124m'\u001b[39m, \u001b[38;5;124m'\u001b[39m\u001b[38;5;124mw\u001b[39m\u001b[38;5;124m'\u001b[39m) \u001b[38;5;28;01mas\u001b[39;00m f:\n",
      "\u001b[0;31mImportError\u001b[0m: cannot import name 'create_tree' from 'dir_tree' (/u/mbanisharifdehkordi/env4/lib/python3.9/site-packages/dir_tree/__init__.py)"
     ]
    }
   ],
   "source": [
    "from dir_tree import create_tree\n",
    "\n",
    "# Generate the directory tree and save it to a file\n",
    "with open('directory_tree.txt', 'w') as f:\n",
    "    f.write(create_tree('.'))\n"
   ]
  },
  {
   "cell_type": "code",
   "execution_count": 9,
   "id": "ecfcd11c-7682-44e4-82cb-fc9b0ec695d0",
   "metadata": {
    "tags": []
   },
   "outputs": [],
   "source": [
    "import os\n",
    "\n",
    "# List of directories and files to exclude\n",
    "EXCLUDE = {'.git', '.DS_Store', '.ipynb_checkpoints'}\n",
    "\n",
    "def generate_tree(root_dir, prefix=\"\"):\n",
    "    contents = [name for name in os.listdir(root_dir) if name not in EXCLUDE]\n",
    "    contents.sort()\n",
    "    \n",
    "    for index, name in enumerate(contents):\n",
    "        path = os.path.join(root_dir, name)\n",
    "        connector = \"├── \" if index < len(contents) - 1 else \"└── \"\n",
    "        print(prefix + connector + name)\n",
    "        \n",
    "        if os.path.isdir(path):\n",
    "            extend_prefix = \"│   \" if index < len(contents) - 1 else \"    \"\n",
    "            generate_tree(path, prefix + extend_prefix)\n",
    "\n",
    "# Save the tree structure to a file\n",
    "with open('directory_tree.txt', 'w') as f:\n",
    "    # Redirect print output to the file\n",
    "    original_stdout = os.sys.stdout\n",
    "    os.sys.stdout = f\n",
    "    \n",
    "    generate_tree('.')\n",
    "    \n",
    "    # Reset print output to the console\n",
    "    os.sys.stdout = original_stdout\n"
   ]
  },
  {
   "cell_type": "code",
   "execution_count": null,
   "id": "dcd57546-3e75-4ccc-9a19-e0e3d148cee4",
   "metadata": {},
   "outputs": [],
   "source": []
  }
 ],
 "metadata": {
  "kernelspec": {
   "display_name": "Python (env4)",
   "language": "python",
   "name": "env4"
  },
  "language_info": {
   "codemirror_mode": {
    "name": "ipython",
    "version": 3
   },
   "file_extension": ".py",
   "mimetype": "text/x-python",
   "name": "python",
   "nbconvert_exporter": "python",
   "pygments_lexer": "ipython3",
   "version": "3.9.18"
  }
 },
 "nbformat": 4,
 "nbformat_minor": 5
}
