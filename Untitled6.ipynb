{
 "cells": [
  {
   "cell_type": "code",
   "execution_count": 1,
   "id": "816e1c22-75b9-441b-9543-66655a6aba9d",
   "metadata": {
    "tags": []
   },
   "outputs": [],
   "source": [
    "!python3 -m venv ~/env4"
   ]
  },
  {
   "cell_type": "code",
   "execution_count": 3,
   "id": "8e7f851a-f5ae-47dc-8e6a-4946f2e03528",
   "metadata": {
    "collapsed": true,
    "jupyter": {
     "outputs_hidden": true
    },
    "tags": []
   },
   "outputs": [
    {
     "name": "stdout",
     "output_type": "stream",
     "text": [
      "Requirement already satisfied: pip in /u/mbanisharifdehkordi/env4/lib/python3.9/site-packages (23.0.1)\n",
      "Collecting pip\n",
      "  Using cached pip-24.2-py3-none-any.whl (1.8 MB)\n",
      "Installing collected packages: pip\n",
      "  Attempting uninstall: pip\n",
      "    Found existing installation: pip 23.0.1\n",
      "    Uninstalling pip-23.0.1:\n",
      "      Successfully uninstalled pip-23.0.1\n",
      "Successfully installed pip-24.2\n"
     ]
    }
   ],
   "source": [
    "!~/env4/bin/pip install --upgrade pip"
   ]
  },
  {
   "cell_type": "code",
   "execution_count": 4,
   "id": "f5e6165d-aa3d-494a-af3a-dd09007d6e70",
   "metadata": {
    "collapsed": true,
    "jupyter": {
     "outputs_hidden": true
    },
    "tags": []
   },
   "outputs": [
    {
     "name": "stdout",
     "output_type": "stream",
     "text": [
      "Collecting networkx==3.2.1 (from -r requirements.txt (line 2))\n",
      "  Using cached networkx-3.2.1-py3-none-any.whl.metadata (5.2 kB)\n",
      "Collecting pandas==2.2.2 (from -r requirements.txt (line 3))\n",
      "  Using cached pandas-2.2.2-cp39-cp39-manylinux_2_17_x86_64.manylinux2014_x86_64.whl.metadata (19 kB)\n",
      "Collecting xlsxwriter==3.1.4 (from -r requirements.txt (line 4))\n",
      "  Using cached XlsxWriter-3.1.4-py3-none-any.whl.metadata (2.5 kB)\n",
      "Collecting matplotlib==3.7.1 (from -r requirements.txt (line 5))\n",
      "  Using cached matplotlib-3.7.1-cp39-cp39-manylinux_2_17_x86_64.manylinux2014_x86_64.whl.metadata (5.6 kB)\n",
      "Collecting openpyxl==3.1.2 (from -r requirements.txt (line 6))\n",
      "  Using cached openpyxl-3.1.2-py2.py3-none-any.whl.metadata (2.5 kB)\n",
      "Collecting graphviz==0.20.1 (from -r requirements.txt (line 7))\n",
      "  Using cached graphviz-0.20.1-py3-none-any.whl.metadata (12 kB)\n",
      "Collecting pygraphviz==1.9 (from -r requirements.txt (line 8))\n",
      "  Using cached pygraphviz-1.9-cp39-cp39-linux_x86_64.whl\n",
      "Collecting seaborn (from -r requirements.txt (line 9))\n",
      "  Using cached seaborn-0.13.2-py3-none-any.whl.metadata (5.4 kB)\n",
      "Collecting pyyaml (from -r requirements.txt (line 10))\n",
      "  Using cached PyYAML-6.0.1-cp39-cp39-manylinux_2_17_x86_64.manylinux2014_x86_64.whl.metadata (2.1 kB)\n",
      "Collecting pydot (from -r requirements.txt (line 13))\n",
      "  Using cached pydot-3.0.1-py3-none-any.whl.metadata (9.9 kB)\n",
      "Collecting pyarrow (from -r requirements.txt (line 15))\n",
      "  Using cached pyarrow-17.0.0-cp39-cp39-manylinux_2_28_x86_64.whl.metadata (3.3 kB)\n",
      "Collecting gdown (from -r requirements.txt (line 17))\n",
      "  Using cached gdown-5.2.0-py3-none-any.whl.metadata (5.8 kB)\n",
      "Collecting shap (from -r requirements.txt (line 18))\n",
      "  Using cached shap-0.46.0-cp39-cp39-manylinux_2_12_x86_64.manylinux2010_x86_64.manylinux_2_17_x86_64.manylinux2014_x86_64.whl.metadata (24 kB)\n",
      "Collecting numpy>=1.22.4 (from pandas==2.2.2->-r requirements.txt (line 3))\n",
      "  Using cached numpy-2.0.1-cp39-cp39-manylinux_2_17_x86_64.manylinux2014_x86_64.whl.metadata (60 kB)\n",
      "Collecting python-dateutil>=2.8.2 (from pandas==2.2.2->-r requirements.txt (line 3))\n",
      "  Using cached python_dateutil-2.9.0.post0-py2.py3-none-any.whl.metadata (8.4 kB)\n",
      "Collecting pytz>=2020.1 (from pandas==2.2.2->-r requirements.txt (line 3))\n",
      "  Using cached pytz-2024.1-py2.py3-none-any.whl.metadata (22 kB)\n",
      "Collecting tzdata>=2022.7 (from pandas==2.2.2->-r requirements.txt (line 3))\n",
      "  Using cached tzdata-2024.1-py2.py3-none-any.whl.metadata (1.4 kB)\n",
      "Collecting contourpy>=1.0.1 (from matplotlib==3.7.1->-r requirements.txt (line 5))\n",
      "  Using cached contourpy-1.2.1-cp39-cp39-manylinux_2_17_x86_64.manylinux2014_x86_64.whl.metadata (5.8 kB)\n",
      "Collecting cycler>=0.10 (from matplotlib==3.7.1->-r requirements.txt (line 5))\n",
      "  Using cached cycler-0.12.1-py3-none-any.whl.metadata (3.8 kB)\n",
      "Collecting fonttools>=4.22.0 (from matplotlib==3.7.1->-r requirements.txt (line 5))\n",
      "  Using cached fonttools-4.53.1-cp39-cp39-manylinux_2_17_x86_64.manylinux2014_x86_64.whl.metadata (162 kB)\n",
      "Collecting kiwisolver>=1.0.1 (from matplotlib==3.7.1->-r requirements.txt (line 5))\n",
      "  Using cached kiwisolver-1.4.5-cp39-cp39-manylinux_2_12_x86_64.manylinux2010_x86_64.whl.metadata (6.4 kB)\n",
      "Collecting packaging>=20.0 (from matplotlib==3.7.1->-r requirements.txt (line 5))\n",
      "  Using cached packaging-24.1-py3-none-any.whl.metadata (3.2 kB)\n",
      "Collecting pillow>=6.2.0 (from matplotlib==3.7.1->-r requirements.txt (line 5))\n",
      "  Using cached pillow-10.4.0-cp39-cp39-manylinux_2_28_x86_64.whl.metadata (9.2 kB)\n",
      "Collecting pyparsing>=2.3.1 (from matplotlib==3.7.1->-r requirements.txt (line 5))\n",
      "  Using cached pyparsing-3.1.2-py3-none-any.whl.metadata (5.1 kB)\n",
      "Collecting importlib-resources>=3.2.0 (from matplotlib==3.7.1->-r requirements.txt (line 5))\n",
      "  Using cached importlib_resources-6.4.0-py3-none-any.whl.metadata (3.9 kB)\n",
      "Collecting et-xmlfile (from openpyxl==3.1.2->-r requirements.txt (line 6))\n",
      "  Using cached et_xmlfile-1.1.0-py3-none-any.whl.metadata (1.8 kB)\n",
      "Collecting beautifulsoup4 (from gdown->-r requirements.txt (line 17))\n",
      "  Using cached beautifulsoup4-4.12.3-py3-none-any.whl.metadata (3.8 kB)\n",
      "Collecting filelock (from gdown->-r requirements.txt (line 17))\n",
      "  Using cached filelock-3.15.4-py3-none-any.whl.metadata (2.9 kB)\n",
      "Collecting requests[socks] (from gdown->-r requirements.txt (line 17))\n",
      "  Using cached requests-2.32.3-py3-none-any.whl.metadata (4.6 kB)\n",
      "Collecting tqdm (from gdown->-r requirements.txt (line 17))\n",
      "  Using cached tqdm-4.66.4-py3-none-any.whl.metadata (57 kB)\n",
      "Collecting scipy (from shap->-r requirements.txt (line 18))\n",
      "  Using cached scipy-1.13.1-cp39-cp39-manylinux_2_17_x86_64.manylinux2014_x86_64.whl.metadata (60 kB)\n",
      "Collecting scikit-learn (from shap->-r requirements.txt (line 18))\n",
      "  Using cached scikit_learn-1.5.1-cp39-cp39-manylinux_2_17_x86_64.manylinux2014_x86_64.whl.metadata (12 kB)\n",
      "Collecting slicer==0.0.8 (from shap->-r requirements.txt (line 18))\n",
      "  Using cached slicer-0.0.8-py3-none-any.whl.metadata (4.0 kB)\n",
      "Collecting numba (from shap->-r requirements.txt (line 18))\n",
      "  Using cached numba-0.60.0-cp39-cp39-manylinux2014_x86_64.manylinux_2_17_x86_64.whl.metadata (2.7 kB)\n",
      "Collecting cloudpickle (from shap->-r requirements.txt (line 18))\n",
      "  Using cached cloudpickle-3.0.0-py3-none-any.whl.metadata (7.0 kB)\n",
      "Collecting zipp>=3.1.0 (from importlib-resources>=3.2.0->matplotlib==3.7.1->-r requirements.txt (line 5))\n",
      "  Using cached zipp-3.19.2-py3-none-any.whl.metadata (3.6 kB)\n",
      "Collecting six>=1.5 (from python-dateutil>=2.8.2->pandas==2.2.2->-r requirements.txt (line 3))\n",
      "  Using cached six-1.16.0-py2.py3-none-any.whl.metadata (1.8 kB)\n",
      "Collecting soupsieve>1.2 (from beautifulsoup4->gdown->-r requirements.txt (line 17))\n",
      "  Using cached soupsieve-2.5-py3-none-any.whl.metadata (4.7 kB)\n",
      "Collecting llvmlite<0.44,>=0.43.0dev0 (from numba->shap->-r requirements.txt (line 18))\n",
      "  Using cached llvmlite-0.43.0-cp39-cp39-manylinux_2_17_x86_64.manylinux2014_x86_64.whl.metadata (4.8 kB)\n",
      "Collecting charset-normalizer<4,>=2 (from requests[socks]->gdown->-r requirements.txt (line 17))\n",
      "  Using cached charset_normalizer-3.3.2-cp39-cp39-manylinux_2_17_x86_64.manylinux2014_x86_64.whl.metadata (33 kB)\n",
      "Collecting idna<4,>=2.5 (from requests[socks]->gdown->-r requirements.txt (line 17))\n",
      "  Using cached idna-3.7-py3-none-any.whl.metadata (9.9 kB)\n",
      "Collecting urllib3<3,>=1.21.1 (from requests[socks]->gdown->-r requirements.txt (line 17))\n",
      "  Using cached urllib3-2.2.2-py3-none-any.whl.metadata (6.4 kB)\n",
      "Collecting certifi>=2017.4.17 (from requests[socks]->gdown->-r requirements.txt (line 17))\n",
      "  Using cached certifi-2024.7.4-py3-none-any.whl.metadata (2.2 kB)\n",
      "Collecting PySocks!=1.5.7,>=1.5.6 (from requests[socks]->gdown->-r requirements.txt (line 17))\n",
      "  Using cached PySocks-1.7.1-py3-none-any.whl.metadata (13 kB)\n",
      "Collecting joblib>=1.2.0 (from scikit-learn->shap->-r requirements.txt (line 18))\n",
      "  Using cached joblib-1.4.2-py3-none-any.whl.metadata (5.4 kB)\n",
      "Collecting threadpoolctl>=3.1.0 (from scikit-learn->shap->-r requirements.txt (line 18))\n",
      "  Using cached threadpoolctl-3.5.0-py3-none-any.whl.metadata (13 kB)\n",
      "Using cached networkx-3.2.1-py3-none-any.whl (1.6 MB)\n",
      "Using cached pandas-2.2.2-cp39-cp39-manylinux_2_17_x86_64.manylinux2014_x86_64.whl (13.1 MB)\n",
      "Using cached XlsxWriter-3.1.4-py3-none-any.whl (153 kB)\n",
      "Using cached matplotlib-3.7.1-cp39-cp39-manylinux_2_17_x86_64.manylinux2014_x86_64.whl (11.6 MB)\n",
      "Using cached openpyxl-3.1.2-py2.py3-none-any.whl (249 kB)\n",
      "Using cached graphviz-0.20.1-py3-none-any.whl (47 kB)\n",
      "Using cached seaborn-0.13.2-py3-none-any.whl (294 kB)\n",
      "Using cached PyYAML-6.0.1-cp39-cp39-manylinux_2_17_x86_64.manylinux2014_x86_64.whl (738 kB)\n",
      "Using cached pydot-3.0.1-py3-none-any.whl (22 kB)\n",
      "Using cached pyarrow-17.0.0-cp39-cp39-manylinux_2_28_x86_64.whl (39.9 MB)\n",
      "Using cached gdown-5.2.0-py3-none-any.whl (18 kB)\n",
      "Using cached shap-0.46.0-cp39-cp39-manylinux_2_12_x86_64.manylinux2010_x86_64.manylinux_2_17_x86_64.manylinux2014_x86_64.whl (539 kB)\n",
      "Using cached slicer-0.0.8-py3-none-any.whl (15 kB)\n",
      "Using cached contourpy-1.2.1-cp39-cp39-manylinux_2_17_x86_64.manylinux2014_x86_64.whl (304 kB)\n",
      "Using cached cycler-0.12.1-py3-none-any.whl (8.3 kB)\n",
      "Using cached fonttools-4.53.1-cp39-cp39-manylinux_2_17_x86_64.manylinux2014_x86_64.whl (4.6 MB)\n",
      "Using cached importlib_resources-6.4.0-py3-none-any.whl (38 kB)\n",
      "Using cached kiwisolver-1.4.5-cp39-cp39-manylinux_2_12_x86_64.manylinux2010_x86_64.whl (1.6 MB)\n",
      "Using cached numpy-2.0.1-cp39-cp39-manylinux_2_17_x86_64.manylinux2014_x86_64.whl (19.5 MB)\n",
      "Using cached packaging-24.1-py3-none-any.whl (53 kB)\n",
      "Using cached pillow-10.4.0-cp39-cp39-manylinux_2_28_x86_64.whl (4.5 MB)\n",
      "Using cached pyparsing-3.1.2-py3-none-any.whl (103 kB)\n",
      "Using cached python_dateutil-2.9.0.post0-py2.py3-none-any.whl (229 kB)\n",
      "Using cached pytz-2024.1-py2.py3-none-any.whl (505 kB)\n",
      "Using cached tqdm-4.66.4-py3-none-any.whl (78 kB)\n",
      "Using cached tzdata-2024.1-py2.py3-none-any.whl (345 kB)\n",
      "Using cached beautifulsoup4-4.12.3-py3-none-any.whl (147 kB)\n",
      "Using cached cloudpickle-3.0.0-py3-none-any.whl (20 kB)\n",
      "Using cached et_xmlfile-1.1.0-py3-none-any.whl (4.7 kB)\n",
      "Using cached filelock-3.15.4-py3-none-any.whl (16 kB)\n",
      "Using cached numba-0.60.0-cp39-cp39-manylinux2014_x86_64.manylinux_2_17_x86_64.whl (3.7 MB)\n",
      "Using cached scikit_learn-1.5.1-cp39-cp39-manylinux_2_17_x86_64.manylinux2014_x86_64.whl (13.4 MB)\n",
      "Using cached scipy-1.13.1-cp39-cp39-manylinux_2_17_x86_64.manylinux2014_x86_64.whl (38.6 MB)\n",
      "Using cached certifi-2024.7.4-py3-none-any.whl (162 kB)\n",
      "Using cached charset_normalizer-3.3.2-cp39-cp39-manylinux_2_17_x86_64.manylinux2014_x86_64.whl (142 kB)\n",
      "Using cached idna-3.7-py3-none-any.whl (66 kB)\n",
      "Using cached joblib-1.4.2-py3-none-any.whl (301 kB)\n",
      "Using cached llvmlite-0.43.0-cp39-cp39-manylinux_2_17_x86_64.manylinux2014_x86_64.whl (43.9 MB)\n",
      "Using cached PySocks-1.7.1-py3-none-any.whl (16 kB)\n",
      "Using cached six-1.16.0-py2.py3-none-any.whl (11 kB)\n",
      "Using cached soupsieve-2.5-py3-none-any.whl (36 kB)\n",
      "Using cached threadpoolctl-3.5.0-py3-none-any.whl (18 kB)\n",
      "Using cached urllib3-2.2.2-py3-none-any.whl (121 kB)\n",
      "Using cached zipp-3.19.2-py3-none-any.whl (9.0 kB)\n",
      "Using cached requests-2.32.3-py3-none-any.whl (64 kB)\n",
      "Installing collected packages: pytz, zipp, xlsxwriter, urllib3, tzdata, tqdm, threadpoolctl, soupsieve, slicer, six, pyyaml, PySocks, pyparsing, pygraphviz, pillow, packaging, numpy, networkx, llvmlite, kiwisolver, joblib, idna, graphviz, fonttools, filelock, et-xmlfile, cycler, cloudpickle, charset-normalizer, certifi, scipy, requests, python-dateutil, pydot, pyarrow, openpyxl, numba, importlib-resources, contourpy, beautifulsoup4, scikit-learn, pandas, matplotlib, shap, seaborn, gdown\n",
      "Successfully installed PySocks-1.7.1 beautifulsoup4-4.12.3 certifi-2024.7.4 charset-normalizer-3.3.2 cloudpickle-3.0.0 contourpy-1.2.1 cycler-0.12.1 et-xmlfile-1.1.0 filelock-3.15.4 fonttools-4.53.1 gdown-5.2.0 graphviz-0.20.1 idna-3.7 importlib-resources-6.4.0 joblib-1.4.2 kiwisolver-1.4.5 llvmlite-0.43.0 matplotlib-3.7.1 networkx-3.2.1 numba-0.60.0 numpy-2.0.1 openpyxl-3.1.2 packaging-24.1 pandas-2.2.2 pillow-10.4.0 pyarrow-17.0.0 pydot-3.0.1 pygraphviz-1.9 pyparsing-3.1.2 python-dateutil-2.9.0.post0 pytz-2024.1 pyyaml-6.0.1 requests-2.32.3 scikit-learn-1.5.1 scipy-1.13.1 seaborn-0.13.2 shap-0.46.0 six-1.16.0 slicer-0.0.8 soupsieve-2.5 threadpoolctl-3.5.0 tqdm-4.66.4 tzdata-2024.1 urllib3-2.2.2 xlsxwriter-3.1.4 zipp-3.19.2\n"
     ]
    }
   ],
   "source": [
    "!~/env4/bin/pip install -r requirements.txt"
   ]
  },
  {
   "cell_type": "code",
   "execution_count": 5,
   "id": "d276de04-d4ca-4b3f-9ad0-3ebc8720be75",
   "metadata": {
    "collapsed": true,
    "jupyter": {
     "outputs_hidden": true
    },
    "tags": []
   },
   "outputs": [
    {
     "name": "stdout",
     "output_type": "stream",
     "text": [
      "Looking in indexes: https://pypi.org/simple, https://download.pytorch.org/whl/cu118\n",
      "Collecting torch\n",
      "  Using cached https://download.pytorch.org/whl/cu118/torch-2.4.0%2Bcu118-cp39-cp39-linux_x86_64.whl (857.8 MB)\n",
      "Collecting torchvision\n",
      "  Using cached https://download.pytorch.org/whl/cu118/torchvision-0.19.0%2Bcu118-cp39-cp39-linux_x86_64.whl (6.3 MB)\n",
      "Collecting torchaudio\n",
      "  Using cached https://download.pytorch.org/whl/cu118/torchaudio-2.4.0%2Bcu118-cp39-cp39-linux_x86_64.whl (3.3 MB)\n",
      "Requirement already satisfied: filelock in /u/mbanisharifdehkordi/env4/lib/python3.9/site-packages (from torch) (3.15.4)\n",
      "Collecting typing-extensions>=4.8.0 (from torch)\n",
      "  Using cached typing_extensions-4.12.2-py3-none-any.whl.metadata (3.0 kB)\n",
      "Collecting sympy (from torch)\n",
      "  Using cached sympy-1.13.1-py3-none-any.whl.metadata (12 kB)\n",
      "Requirement already satisfied: networkx in /u/mbanisharifdehkordi/env4/lib/python3.9/site-packages (from torch) (3.2.1)\n",
      "Collecting jinja2 (from torch)\n",
      "  Using cached jinja2-3.1.4-py3-none-any.whl.metadata (2.6 kB)\n",
      "Collecting fsspec (from torch)\n",
      "  Using cached fsspec-2024.6.1-py3-none-any.whl.metadata (11 kB)\n",
      "Collecting nvidia-cuda-nvrtc-cu11==11.8.89 (from torch)\n",
      "  Using cached https://download.pytorch.org/whl/cu118/nvidia_cuda_nvrtc_cu11-11.8.89-py3-none-manylinux1_x86_64.whl (23.2 MB)\n",
      "Collecting nvidia-cuda-runtime-cu11==11.8.89 (from torch)\n",
      "  Using cached https://download.pytorch.org/whl/cu118/nvidia_cuda_runtime_cu11-11.8.89-py3-none-manylinux1_x86_64.whl (875 kB)\n",
      "Collecting nvidia-cuda-cupti-cu11==11.8.87 (from torch)\n",
      "  Using cached https://download.pytorch.org/whl/cu118/nvidia_cuda_cupti_cu11-11.8.87-py3-none-manylinux1_x86_64.whl (13.1 MB)\n",
      "Collecting nvidia-cudnn-cu11==9.1.0.70 (from torch)\n",
      "  Using cached https://download.pytorch.org/whl/cu118/nvidia_cudnn_cu11-9.1.0.70-py3-none-manylinux2014_x86_64.whl (663.9 MB)\n",
      "Collecting nvidia-cublas-cu11==11.11.3.6 (from torch)\n",
      "  Using cached https://download.pytorch.org/whl/cu118/nvidia_cublas_cu11-11.11.3.6-py3-none-manylinux1_x86_64.whl (417.9 MB)\n",
      "Collecting nvidia-cufft-cu11==10.9.0.58 (from torch)\n",
      "  Using cached https://download.pytorch.org/whl/cu118/nvidia_cufft_cu11-10.9.0.58-py3-none-manylinux1_x86_64.whl (168.4 MB)\n",
      "Collecting nvidia-curand-cu11==10.3.0.86 (from torch)\n",
      "  Using cached https://download.pytorch.org/whl/cu118/nvidia_curand_cu11-10.3.0.86-py3-none-manylinux1_x86_64.whl (58.1 MB)\n",
      "Collecting nvidia-cusolver-cu11==11.4.1.48 (from torch)\n",
      "  Using cached https://download.pytorch.org/whl/cu118/nvidia_cusolver_cu11-11.4.1.48-py3-none-manylinux1_x86_64.whl (128.2 MB)\n",
      "Collecting nvidia-cusparse-cu11==11.7.5.86 (from torch)\n",
      "  Using cached https://download.pytorch.org/whl/cu118/nvidia_cusparse_cu11-11.7.5.86-py3-none-manylinux1_x86_64.whl (204.1 MB)\n",
      "Collecting nvidia-nccl-cu11==2.20.5 (from torch)\n",
      "  Using cached https://download.pytorch.org/whl/cu118/nvidia_nccl_cu11-2.20.5-py3-none-manylinux2014_x86_64.whl (142.9 MB)\n",
      "Collecting nvidia-nvtx-cu11==11.8.86 (from torch)\n",
      "  Using cached https://download.pytorch.org/whl/cu118/nvidia_nvtx_cu11-11.8.86-py3-none-manylinux1_x86_64.whl (99 kB)\n",
      "Collecting triton==3.0.0 (from torch)\n",
      "  Using cached https://download.pytorch.org/whl/triton-3.0.0-1-cp39-cp39-manylinux2014_x86_64.manylinux_2_17_x86_64.whl (209.4 MB)\n",
      "Requirement already satisfied: numpy in /u/mbanisharifdehkordi/env4/lib/python3.9/site-packages (from torchvision) (2.0.1)\n",
      "Requirement already satisfied: pillow!=8.3.*,>=5.3.0 in /u/mbanisharifdehkordi/env4/lib/python3.9/site-packages (from torchvision) (10.4.0)\n",
      "Collecting MarkupSafe>=2.0 (from jinja2->torch)\n",
      "  Using cached https://download.pytorch.org/whl/MarkupSafe-2.1.5-cp39-cp39-manylinux_2_17_x86_64.manylinux2014_x86_64.whl (25 kB)\n",
      "Collecting mpmath<1.4,>=1.1.0 (from sympy->torch)\n",
      "  Using cached https://download.pytorch.org/whl/mpmath-1.3.0-py3-none-any.whl (536 kB)\n",
      "Using cached typing_extensions-4.12.2-py3-none-any.whl (37 kB)\n",
      "Using cached fsspec-2024.6.1-py3-none-any.whl (177 kB)\n",
      "Using cached jinja2-3.1.4-py3-none-any.whl (133 kB)\n",
      "Using cached sympy-1.13.1-py3-none-any.whl (6.2 MB)\n",
      "Installing collected packages: mpmath, typing-extensions, triton, sympy, nvidia-nvtx-cu11, nvidia-nccl-cu11, nvidia-cusparse-cu11, nvidia-curand-cu11, nvidia-cufft-cu11, nvidia-cuda-runtime-cu11, nvidia-cuda-nvrtc-cu11, nvidia-cuda-cupti-cu11, nvidia-cublas-cu11, MarkupSafe, fsspec, nvidia-cusolver-cu11, nvidia-cudnn-cu11, jinja2, torch, torchvision, torchaudio\n",
      "Successfully installed MarkupSafe-2.1.5 fsspec-2024.6.1 jinja2-3.1.4 mpmath-1.3.0 nvidia-cublas-cu11-11.11.3.6 nvidia-cuda-cupti-cu11-11.8.87 nvidia-cuda-nvrtc-cu11-11.8.89 nvidia-cuda-runtime-cu11-11.8.89 nvidia-cudnn-cu11-9.1.0.70 nvidia-cufft-cu11-10.9.0.58 nvidia-curand-cu11-10.3.0.86 nvidia-cusolver-cu11-11.4.1.48 nvidia-cusparse-cu11-11.7.5.86 nvidia-nccl-cu11-2.20.5 nvidia-nvtx-cu11-11.8.86 sympy-1.13.1 torch-2.4.0+cu118 torchaudio-2.4.0+cu118 torchvision-0.19.0+cu118 triton-3.0.0 typing-extensions-4.12.2\n",
      "Looking in links: https://data.pyg.org/whl/torch-2.0.1+cu118.html\n",
      "Collecting torch-scatter\n",
      "  Using cached https://data.pyg.org/whl/torch-2.0.0%2Bcu118/torch_scatter-2.1.2%2Bpt20cu118-cp39-cp39-linux_x86_64.whl (10.2 MB)\n",
      "Installing collected packages: torch-scatter\n",
      "Successfully installed torch-scatter-2.1.2+pt20cu118\n",
      "Looking in links: https://data.pyg.org/whl/torch-2.0.1+cu118.html\n",
      "Collecting torch-sparse\n",
      "  Using cached https://data.pyg.org/whl/torch-2.0.0%2Bcu118/torch_sparse-0.6.18%2Bpt20cu118-cp39-cp39-linux_x86_64.whl (4.9 MB)\n",
      "Requirement already satisfied: scipy in /u/mbanisharifdehkordi/env4/lib/python3.9/site-packages (from torch-sparse) (1.13.1)\n",
      "Requirement already satisfied: numpy<2.3,>=1.22.4 in /u/mbanisharifdehkordi/env4/lib/python3.9/site-packages (from scipy->torch-sparse) (2.0.1)\n",
      "Installing collected packages: torch-sparse\n",
      "Successfully installed torch-sparse-0.6.18+pt20cu118\n",
      "Looking in links: https://data.pyg.org/whl/torch-2.0.1+cu118.html\n",
      "Collecting torch-cluster\n",
      "  Using cached https://data.pyg.org/whl/torch-2.0.0%2Bcu118/torch_cluster-1.6.3%2Bpt20cu118-cp39-cp39-linux_x86_64.whl (3.3 MB)\n",
      "Requirement already satisfied: scipy in /u/mbanisharifdehkordi/env4/lib/python3.9/site-packages (from torch-cluster) (1.13.1)\n",
      "Requirement already satisfied: numpy<2.3,>=1.22.4 in /u/mbanisharifdehkordi/env4/lib/python3.9/site-packages (from scipy->torch-cluster) (2.0.1)\n",
      "Installing collected packages: torch-cluster\n",
      "Successfully installed torch-cluster-1.6.3+pt20cu118\n",
      "Looking in links: https://data.pyg.org/whl/torch-2.0.1+cu118.html\n",
      "Collecting torch-spline-conv\n",
      "  Using cached https://data.pyg.org/whl/torch-2.0.0%2Bcu118/torch_spline_conv-1.2.2%2Bpt20cu118-cp39-cp39-linux_x86_64.whl (886 kB)\n",
      "Installing collected packages: torch-spline-conv\n",
      "Successfully installed torch-spline-conv-1.2.2+pt20cu118\n",
      "Collecting torch-geometric\n",
      "  Using cached torch_geometric-2.5.3-py3-none-any.whl.metadata (64 kB)\n",
      "Requirement already satisfied: tqdm in /u/mbanisharifdehkordi/env4/lib/python3.9/site-packages (from torch-geometric) (4.66.4)\n",
      "Requirement already satisfied: numpy in /u/mbanisharifdehkordi/env4/lib/python3.9/site-packages (from torch-geometric) (2.0.1)\n",
      "Requirement already satisfied: scipy in /u/mbanisharifdehkordi/env4/lib/python3.9/site-packages (from torch-geometric) (1.13.1)\n",
      "Requirement already satisfied: fsspec in /u/mbanisharifdehkordi/env4/lib/python3.9/site-packages (from torch-geometric) (2024.6.1)\n",
      "Requirement already satisfied: jinja2 in /u/mbanisharifdehkordi/env4/lib/python3.9/site-packages (from torch-geometric) (3.1.4)\n",
      "Collecting aiohttp (from torch-geometric)\n",
      "  Using cached aiohttp-3.10.0-cp39-cp39-manylinux_2_17_x86_64.manylinux2014_x86_64.whl.metadata (7.5 kB)\n",
      "Requirement already satisfied: requests in /u/mbanisharifdehkordi/env4/lib/python3.9/site-packages (from torch-geometric) (2.32.3)\n",
      "Requirement already satisfied: pyparsing in /u/mbanisharifdehkordi/env4/lib/python3.9/site-packages (from torch-geometric) (3.1.2)\n",
      "Requirement already satisfied: scikit-learn in /u/mbanisharifdehkordi/env4/lib/python3.9/site-packages (from torch-geometric) (1.5.1)\n",
      "Collecting psutil>=5.8.0 (from torch-geometric)\n",
      "  Using cached psutil-6.0.0-cp36-abi3-manylinux_2_12_x86_64.manylinux2010_x86_64.manylinux_2_17_x86_64.manylinux2014_x86_64.whl.metadata (21 kB)\n",
      "Collecting aiohappyeyeballs>=2.3.0 (from aiohttp->torch-geometric)\n",
      "  Using cached aiohappyeyeballs-2.3.4-py3-none-any.whl.metadata (5.6 kB)\n",
      "Collecting aiosignal>=1.1.2 (from aiohttp->torch-geometric)\n",
      "  Using cached aiosignal-1.3.1-py3-none-any.whl.metadata (4.0 kB)\n",
      "Collecting attrs>=17.3.0 (from aiohttp->torch-geometric)\n",
      "  Using cached attrs-24.1.0-py3-none-any.whl.metadata (14 kB)\n",
      "Collecting frozenlist>=1.1.1 (from aiohttp->torch-geometric)\n",
      "  Using cached frozenlist-1.4.1-cp39-cp39-manylinux_2_5_x86_64.manylinux1_x86_64.manylinux_2_17_x86_64.manylinux2014_x86_64.whl.metadata (12 kB)\n",
      "Collecting multidict<7.0,>=4.5 (from aiohttp->torch-geometric)\n",
      "  Using cached multidict-6.0.5-cp39-cp39-manylinux_2_17_x86_64.manylinux2014_x86_64.whl.metadata (4.2 kB)\n",
      "Collecting yarl<2.0,>=1.0 (from aiohttp->torch-geometric)\n",
      "  Using cached yarl-1.9.4-cp39-cp39-manylinux_2_17_x86_64.manylinux2014_x86_64.whl.metadata (31 kB)\n",
      "Collecting async-timeout<5.0,>=4.0 (from aiohttp->torch-geometric)\n",
      "  Using cached async_timeout-4.0.3-py3-none-any.whl.metadata (4.2 kB)\n",
      "Requirement already satisfied: MarkupSafe>=2.0 in /u/mbanisharifdehkordi/env4/lib/python3.9/site-packages (from jinja2->torch-geometric) (2.1.5)\n",
      "Requirement already satisfied: charset-normalizer<4,>=2 in /u/mbanisharifdehkordi/env4/lib/python3.9/site-packages (from requests->torch-geometric) (3.3.2)\n",
      "Requirement already satisfied: idna<4,>=2.5 in /u/mbanisharifdehkordi/env4/lib/python3.9/site-packages (from requests->torch-geometric) (3.7)\n",
      "Requirement already satisfied: urllib3<3,>=1.21.1 in /u/mbanisharifdehkordi/env4/lib/python3.9/site-packages (from requests->torch-geometric) (2.2.2)\n",
      "Requirement already satisfied: certifi>=2017.4.17 in /u/mbanisharifdehkordi/env4/lib/python3.9/site-packages (from requests->torch-geometric) (2024.7.4)\n",
      "Requirement already satisfied: joblib>=1.2.0 in /u/mbanisharifdehkordi/env4/lib/python3.9/site-packages (from scikit-learn->torch-geometric) (1.4.2)\n",
      "Requirement already satisfied: threadpoolctl>=3.1.0 in /u/mbanisharifdehkordi/env4/lib/python3.9/site-packages (from scikit-learn->torch-geometric) (3.5.0)\n",
      "Using cached torch_geometric-2.5.3-py3-none-any.whl (1.1 MB)\n",
      "Using cached psutil-6.0.0-cp36-abi3-manylinux_2_12_x86_64.manylinux2010_x86_64.manylinux_2_17_x86_64.manylinux2014_x86_64.whl (290 kB)\n",
      "Using cached aiohttp-3.10.0-cp39-cp39-manylinux_2_17_x86_64.manylinux2014_x86_64.whl (1.2 MB)\n",
      "Using cached aiohappyeyeballs-2.3.4-py3-none-any.whl (12 kB)\n",
      "Using cached aiosignal-1.3.1-py3-none-any.whl (7.6 kB)\n",
      "Using cached async_timeout-4.0.3-py3-none-any.whl (5.7 kB)\n",
      "Using cached attrs-24.1.0-py3-none-any.whl (63 kB)\n",
      "Using cached frozenlist-1.4.1-cp39-cp39-manylinux_2_5_x86_64.manylinux1_x86_64.manylinux_2_17_x86_64.manylinux2014_x86_64.whl (240 kB)\n",
      "Using cached multidict-6.0.5-cp39-cp39-manylinux_2_17_x86_64.manylinux2014_x86_64.whl (123 kB)\n",
      "Using cached yarl-1.9.4-cp39-cp39-manylinux_2_17_x86_64.manylinux2014_x86_64.whl (304 kB)\n",
      "Installing collected packages: psutil, multidict, frozenlist, attrs, async-timeout, aiohappyeyeballs, yarl, aiosignal, aiohttp, torch-geometric\n",
      "Successfully installed aiohappyeyeballs-2.3.4 aiohttp-3.10.0 aiosignal-1.3.1 async-timeout-4.0.3 attrs-24.1.0 frozenlist-1.4.1 multidict-6.0.5 psutil-6.0.0 torch-geometric-2.5.3 yarl-1.9.4\n"
     ]
    }
   ],
   "source": [
    "# Install PyTorch with CUDA support\n",
    "!~/env4/bin/pip install torch torchvision torchaudio --extra-index-url https://download.pytorch.org/whl/cu118\n",
    "\n",
    "# Install PyTorch Geometric dependencies\n",
    "!~/env4/bin/pip install torch-scatter -f https://data.pyg.org/whl/torch-2.0.1+cu118.html\n",
    "!~/env4/bin/pip install torch-sparse -f https://data.pyg.org/whl/torch-2.0.1+cu118.html\n",
    "!~/env4/bin/pip install torch-cluster -f https://data.pyg.org/whl/torch-2.0.1+cu118.html\n",
    "!~/env4/bin/pip install torch-spline-conv -f https://data.pyg.org/whl/torch-2.0.1+cu118.html\n",
    "\n",
    "# Install PyTorch Geometric\n",
    "!~/env4/bin/pip install torch-geometric\n"
   ]
  },
  {
   "cell_type": "code",
   "execution_count": 1,
   "id": "a217045a-914f-4a30-bfb5-bb52002bb320",
   "metadata": {
    "tags": []
   },
   "outputs": [
    {
     "name": "stdout",
     "output_type": "stream",
     "text": [
      "PyTorch version: 2.4.0+cu118\n",
      "PyTorch Geometric version: 2.5.3\n"
     ]
    }
   ],
   "source": [
    "import torch\n",
    "import torch_geometric\n",
    "from torch_geometric.data import Data\n",
    "\n",
    "print(f\"PyTorch version: {torch.__version__}\")\n",
    "print(f\"PyTorch Geometric version: {torch_geometric.__version__}\")"
   ]
  },
  {
   "cell_type": "code",
   "execution_count": 6,
   "id": "08c59089-cdcc-4420-a0b1-0863dd7196d9",
   "metadata": {
    "collapsed": true,
    "jupyter": {
     "outputs_hidden": true
    },
    "tags": []
   },
   "outputs": [
    {
     "name": "stdout",
     "output_type": "stream",
     "text": [
      "Collecting ipykernel\n",
      "  Using cached ipykernel-6.29.5-py3-none-any.whl.metadata (6.3 kB)\n",
      "Collecting comm>=0.1.1 (from ipykernel)\n",
      "  Using cached comm-0.2.2-py3-none-any.whl.metadata (3.7 kB)\n",
      "Collecting debugpy>=1.6.5 (from ipykernel)\n",
      "  Using cached debugpy-1.8.3-cp39-cp39-linux_x86_64.whl\n",
      "Collecting ipython>=7.23.1 (from ipykernel)\n",
      "  Using cached ipython-8.18.1-py3-none-any.whl.metadata (6.0 kB)\n",
      "Collecting jupyter-client>=6.1.12 (from ipykernel)\n",
      "  Using cached jupyter_client-8.6.2-py3-none-any.whl.metadata (8.3 kB)\n",
      "Collecting jupyter-core!=5.0.*,>=4.12 (from ipykernel)\n",
      "  Using cached jupyter_core-5.7.2-py3-none-any.whl.metadata (3.4 kB)\n",
      "Collecting matplotlib-inline>=0.1 (from ipykernel)\n",
      "  Using cached matplotlib_inline-0.1.7-py3-none-any.whl.metadata (3.9 kB)\n",
      "Collecting nest-asyncio (from ipykernel)\n",
      "  Using cached nest_asyncio-1.6.0-py3-none-any.whl.metadata (2.8 kB)\n",
      "Requirement already satisfied: packaging in /u/mbanisharifdehkordi/env4/lib/python3.9/site-packages (from ipykernel) (24.1)\n",
      "Requirement already satisfied: psutil in /u/mbanisharifdehkordi/env4/lib/python3.9/site-packages (from ipykernel) (6.0.0)\n",
      "Collecting pyzmq>=24 (from ipykernel)\n",
      "  Using cached pyzmq-26.0.3-cp39-cp39-manylinux_2_12_x86_64.manylinux2010_x86_64.whl.metadata (6.1 kB)\n",
      "Collecting tornado>=6.1 (from ipykernel)\n",
      "  Using cached tornado-6.4.1-cp38-abi3-manylinux_2_5_x86_64.manylinux1_x86_64.manylinux_2_17_x86_64.manylinux2014_x86_64.whl.metadata (2.5 kB)\n",
      "Collecting traitlets>=5.4.0 (from ipykernel)\n",
      "  Using cached traitlets-5.14.3-py3-none-any.whl.metadata (10 kB)\n",
      "Collecting decorator (from ipython>=7.23.1->ipykernel)\n",
      "  Using cached decorator-5.1.1-py3-none-any.whl.metadata (4.0 kB)\n",
      "Collecting jedi>=0.16 (from ipython>=7.23.1->ipykernel)\n",
      "  Using cached jedi-0.19.1-py2.py3-none-any.whl.metadata (22 kB)\n",
      "Collecting prompt-toolkit<3.1.0,>=3.0.41 (from ipython>=7.23.1->ipykernel)\n",
      "  Using cached prompt_toolkit-3.0.47-py3-none-any.whl.metadata (6.4 kB)\n",
      "Collecting pygments>=2.4.0 (from ipython>=7.23.1->ipykernel)\n",
      "  Using cached pygments-2.18.0-py3-none-any.whl.metadata (2.5 kB)\n",
      "Collecting stack-data (from ipython>=7.23.1->ipykernel)\n",
      "  Using cached stack_data-0.6.3-py3-none-any.whl.metadata (18 kB)\n",
      "Requirement already satisfied: typing-extensions in /u/mbanisharifdehkordi/env4/lib/python3.9/site-packages (from ipython>=7.23.1->ipykernel) (4.12.2)\n",
      "Collecting exceptiongroup (from ipython>=7.23.1->ipykernel)\n",
      "  Using cached exceptiongroup-1.2.2-py3-none-any.whl.metadata (6.6 kB)\n",
      "Collecting pexpect>4.3 (from ipython>=7.23.1->ipykernel)\n",
      "  Using cached pexpect-4.9.0-py2.py3-none-any.whl.metadata (2.5 kB)\n",
      "Collecting importlib-metadata>=4.8.3 (from jupyter-client>=6.1.12->ipykernel)\n",
      "  Using cached importlib_metadata-8.2.0-py3-none-any.whl.metadata (4.7 kB)\n",
      "Requirement already satisfied: python-dateutil>=2.8.2 in /u/mbanisharifdehkordi/env4/lib/python3.9/site-packages (from jupyter-client>=6.1.12->ipykernel) (2.9.0.post0)\n",
      "Collecting platformdirs>=2.5 (from jupyter-core!=5.0.*,>=4.12->ipykernel)\n",
      "  Using cached platformdirs-4.2.2-py3-none-any.whl.metadata (11 kB)\n",
      "Requirement already satisfied: zipp>=0.5 in /u/mbanisharifdehkordi/env4/lib/python3.9/site-packages (from importlib-metadata>=4.8.3->jupyter-client>=6.1.12->ipykernel) (3.19.2)\n",
      "Collecting parso<0.9.0,>=0.8.3 (from jedi>=0.16->ipython>=7.23.1->ipykernel)\n",
      "  Using cached parso-0.8.4-py2.py3-none-any.whl.metadata (7.7 kB)\n",
      "Collecting ptyprocess>=0.5 (from pexpect>4.3->ipython>=7.23.1->ipykernel)\n",
      "  Using cached ptyprocess-0.7.0-py2.py3-none-any.whl.metadata (1.3 kB)\n",
      "Collecting wcwidth (from prompt-toolkit<3.1.0,>=3.0.41->ipython>=7.23.1->ipykernel)\n",
      "  Using cached wcwidth-0.2.13-py2.py3-none-any.whl.metadata (14 kB)\n",
      "Requirement already satisfied: six>=1.5 in /u/mbanisharifdehkordi/env4/lib/python3.9/site-packages (from python-dateutil>=2.8.2->jupyter-client>=6.1.12->ipykernel) (1.16.0)\n",
      "Collecting executing>=1.2.0 (from stack-data->ipython>=7.23.1->ipykernel)\n",
      "  Using cached executing-2.0.1-py2.py3-none-any.whl.metadata (9.0 kB)\n",
      "Collecting asttokens>=2.1.0 (from stack-data->ipython>=7.23.1->ipykernel)\n",
      "  Using cached asttokens-2.4.1-py2.py3-none-any.whl.metadata (5.2 kB)\n",
      "Collecting pure-eval (from stack-data->ipython>=7.23.1->ipykernel)\n",
      "  Using cached pure_eval-0.2.3-py3-none-any.whl.metadata (6.3 kB)\n",
      "Using cached ipykernel-6.29.5-py3-none-any.whl (117 kB)\n",
      "Using cached comm-0.2.2-py3-none-any.whl (7.2 kB)\n",
      "Using cached ipython-8.18.1-py3-none-any.whl (808 kB)\n",
      "Using cached jupyter_client-8.6.2-py3-none-any.whl (105 kB)\n",
      "Using cached jupyter_core-5.7.2-py3-none-any.whl (28 kB)\n",
      "Using cached matplotlib_inline-0.1.7-py3-none-any.whl (9.9 kB)\n",
      "Using cached pyzmq-26.0.3-cp39-cp39-manylinux_2_12_x86_64.manylinux2010_x86_64.whl (912 kB)\n",
      "Using cached tornado-6.4.1-cp38-abi3-manylinux_2_5_x86_64.manylinux1_x86_64.manylinux_2_17_x86_64.manylinux2014_x86_64.whl (436 kB)\n",
      "Using cached traitlets-5.14.3-py3-none-any.whl (85 kB)\n",
      "Using cached nest_asyncio-1.6.0-py3-none-any.whl (5.2 kB)\n",
      "Using cached importlib_metadata-8.2.0-py3-none-any.whl (25 kB)\n",
      "Using cached jedi-0.19.1-py2.py3-none-any.whl (1.6 MB)\n",
      "Using cached pexpect-4.9.0-py2.py3-none-any.whl (63 kB)\n",
      "Using cached platformdirs-4.2.2-py3-none-any.whl (18 kB)\n",
      "Using cached prompt_toolkit-3.0.47-py3-none-any.whl (386 kB)\n",
      "Using cached pygments-2.18.0-py3-none-any.whl (1.2 MB)\n",
      "Using cached decorator-5.1.1-py3-none-any.whl (9.1 kB)\n",
      "Using cached exceptiongroup-1.2.2-py3-none-any.whl (16 kB)\n",
      "Using cached stack_data-0.6.3-py3-none-any.whl (24 kB)\n",
      "Using cached asttokens-2.4.1-py2.py3-none-any.whl (27 kB)\n",
      "Using cached executing-2.0.1-py2.py3-none-any.whl (24 kB)\n",
      "Using cached parso-0.8.4-py2.py3-none-any.whl (103 kB)\n",
      "Using cached ptyprocess-0.7.0-py2.py3-none-any.whl (13 kB)\n",
      "Using cached pure_eval-0.2.3-py3-none-any.whl (11 kB)\n",
      "Using cached wcwidth-0.2.13-py2.py3-none-any.whl (34 kB)\n",
      "Installing collected packages: wcwidth, pure-eval, ptyprocess, traitlets, tornado, pyzmq, pygments, prompt-toolkit, platformdirs, pexpect, parso, nest-asyncio, importlib-metadata, executing, exceptiongroup, decorator, debugpy, asttokens, stack-data, matplotlib-inline, jupyter-core, jedi, comm, jupyter-client, ipython, ipykernel\n",
      "Successfully installed asttokens-2.4.1 comm-0.2.2 debugpy-1.8.3 decorator-5.1.1 exceptiongroup-1.2.2 executing-2.0.1 importlib-metadata-8.2.0 ipykernel-6.29.5 ipython-8.18.1 jedi-0.19.1 jupyter-client-8.6.2 jupyter-core-5.7.2 matplotlib-inline-0.1.7 nest-asyncio-1.6.0 parso-0.8.4 pexpect-4.9.0 platformdirs-4.2.2 prompt-toolkit-3.0.47 ptyprocess-0.7.0 pure-eval-0.2.3 pygments-2.18.0 pyzmq-26.0.3 stack-data-0.6.3 tornado-6.4.1 traitlets-5.14.3 wcwidth-0.2.13\n"
     ]
    }
   ],
   "source": [
    "!~/env4/bin/pip install ipykernel"
   ]
  },
  {
   "cell_type": "code",
   "execution_count": 7,
   "id": "74fbcee9-d892-41dd-866b-e6b883cdc1a7",
   "metadata": {
    "collapsed": true,
    "jupyter": {
     "outputs_hidden": true
    },
    "tags": []
   },
   "outputs": [
    {
     "name": "stdout",
     "output_type": "stream",
     "text": [
      "Installed kernelspec env4 in /u/mbanisharifdehkordi/.local/share/jupyter/kernels/env4\n"
     ]
    }
   ],
   "source": [
    "!~/env4/bin/python -m ipykernel install --user --name=env4 --display-name \"Python (env4)\""
   ]
  },
  {
   "cell_type": "code",
   "execution_count": 8,
   "id": "ad8a9bf3-e956-48ac-8b61-031c8bc3dce8",
   "metadata": {
    "collapsed": true,
    "jupyter": {
     "outputs_hidden": true
    },
    "tags": []
   },
   "outputs": [
    {
     "name": "stdout",
     "output_type": "stream",
     "text": [
      "2.4.0+cu118\n"
     ]
    }
   ],
   "source": [
    "!~/env4/bin/python -c \"import torch; print(torch.__version__)\""
   ]
  },
  {
   "cell_type": "code",
   "execution_count": 3,
   "id": "f52e452f-a7bf-454b-bc3a-07a37aa7123d",
   "metadata": {
    "collapsed": true,
    "jupyter": {
     "outputs_hidden": true
    },
    "tags": []
   },
   "outputs": [
    {
     "name": "stdout",
     "output_type": "stream",
     "text": [
      "Found existing installation: torch-scatter 2.1.2+pt20cu118\n",
      "Uninstalling torch-scatter-2.1.2+pt20cu118:\n",
      "  Successfully uninstalled torch-scatter-2.1.2+pt20cu118\n",
      "Found existing installation: torch-sparse 0.6.18+pt20cu118\n",
      "Uninstalling torch-sparse-0.6.18+pt20cu118:\n",
      "  Successfully uninstalled torch-sparse-0.6.18+pt20cu118\n",
      "Found existing installation: torch-cluster 1.6.3+pt20cu118\n",
      "Uninstalling torch-cluster-1.6.3+pt20cu118:\n",
      "  Successfully uninstalled torch-cluster-1.6.3+pt20cu118\n",
      "Found existing installation: torch-spline-conv 1.2.2+pt20cu118\n",
      "Uninstalling torch-spline-conv-1.2.2+pt20cu118:\n",
      "  Successfully uninstalled torch-spline-conv-1.2.2+pt20cu118\n",
      "Found existing installation: torch_geometric 2.5.3\n",
      "Uninstalling torch_geometric-2.5.3:\n",
      "  Successfully uninstalled torch_geometric-2.5.3\n",
      "Looking in indexes: https://pypi.org/simple, https://download.pytorch.org/whl/cu118\n",
      "Requirement already satisfied: torch in /u/mbanisharifdehkordi/env4/lib/python3.9/site-packages (2.4.0+cu118)\n",
      "Requirement already satisfied: torchvision in /u/mbanisharifdehkordi/env4/lib/python3.9/site-packages (0.19.0+cu118)\n",
      "Requirement already satisfied: torchaudio in /u/mbanisharifdehkordi/env4/lib/python3.9/site-packages (2.4.0+cu118)\n",
      "Requirement already satisfied: filelock in /u/mbanisharifdehkordi/env4/lib/python3.9/site-packages (from torch) (3.15.4)\n",
      "Requirement already satisfied: typing-extensions>=4.8.0 in /u/mbanisharifdehkordi/env4/lib/python3.9/site-packages (from torch) (4.12.2)\n",
      "Requirement already satisfied: sympy in /u/mbanisharifdehkordi/env4/lib/python3.9/site-packages (from torch) (1.13.1)\n",
      "Requirement already satisfied: networkx in /u/mbanisharifdehkordi/env4/lib/python3.9/site-packages (from torch) (3.2.1)\n",
      "Requirement already satisfied: jinja2 in /u/mbanisharifdehkordi/env4/lib/python3.9/site-packages (from torch) (3.1.4)\n",
      "Requirement already satisfied: fsspec in /u/mbanisharifdehkordi/env4/lib/python3.9/site-packages (from torch) (2024.6.1)\n",
      "Requirement already satisfied: nvidia-cuda-nvrtc-cu11==11.8.89 in /u/mbanisharifdehkordi/env4/lib/python3.9/site-packages (from torch) (11.8.89)\n",
      "Requirement already satisfied: nvidia-cuda-runtime-cu11==11.8.89 in /u/mbanisharifdehkordi/env4/lib/python3.9/site-packages (from torch) (11.8.89)\n",
      "Requirement already satisfied: nvidia-cuda-cupti-cu11==11.8.87 in /u/mbanisharifdehkordi/env4/lib/python3.9/site-packages (from torch) (11.8.87)\n",
      "Requirement already satisfied: nvidia-cudnn-cu11==9.1.0.70 in /u/mbanisharifdehkordi/env4/lib/python3.9/site-packages (from torch) (9.1.0.70)\n",
      "Requirement already satisfied: nvidia-cublas-cu11==11.11.3.6 in /u/mbanisharifdehkordi/env4/lib/python3.9/site-packages (from torch) (11.11.3.6)\n",
      "Requirement already satisfied: nvidia-cufft-cu11==10.9.0.58 in /u/mbanisharifdehkordi/env4/lib/python3.9/site-packages (from torch) (10.9.0.58)\n",
      "Requirement already satisfied: nvidia-curand-cu11==10.3.0.86 in /u/mbanisharifdehkordi/env4/lib/python3.9/site-packages (from torch) (10.3.0.86)\n",
      "Requirement already satisfied: nvidia-cusolver-cu11==11.4.1.48 in /u/mbanisharifdehkordi/env4/lib/python3.9/site-packages (from torch) (11.4.1.48)\n",
      "Requirement already satisfied: nvidia-cusparse-cu11==11.7.5.86 in /u/mbanisharifdehkordi/env4/lib/python3.9/site-packages (from torch) (11.7.5.86)\n",
      "Requirement already satisfied: nvidia-nccl-cu11==2.20.5 in /u/mbanisharifdehkordi/env4/lib/python3.9/site-packages (from torch) (2.20.5)\n",
      "Requirement already satisfied: nvidia-nvtx-cu11==11.8.86 in /u/mbanisharifdehkordi/env4/lib/python3.9/site-packages (from torch) (11.8.86)\n",
      "Requirement already satisfied: triton==3.0.0 in /u/mbanisharifdehkordi/env4/lib/python3.9/site-packages (from torch) (3.0.0)\n",
      "Requirement already satisfied: numpy in /u/mbanisharifdehkordi/env4/lib/python3.9/site-packages (from torchvision) (2.0.1)\n",
      "Requirement already satisfied: pillow!=8.3.*,>=5.3.0 in /u/mbanisharifdehkordi/env4/lib/python3.9/site-packages (from torchvision) (10.4.0)\n",
      "Requirement already satisfied: MarkupSafe>=2.0 in /u/mbanisharifdehkordi/env4/lib/python3.9/site-packages (from jinja2->torch) (2.1.5)\n",
      "Requirement already satisfied: mpmath<1.4,>=1.1.0 in /u/mbanisharifdehkordi/env4/lib/python3.9/site-packages (from sympy->torch) (1.3.0)\n",
      "Looking in links: https://data.pyg.org/whl/torch-2.0.1+cu118.html\n",
      "Collecting torch-scatter\n",
      "  Using cached https://data.pyg.org/whl/torch-2.0.0%2Bcu118/torch_scatter-2.1.2%2Bpt20cu118-cp39-cp39-linux_x86_64.whl (10.2 MB)\n",
      "Installing collected packages: torch-scatter\n",
      "Successfully installed torch-scatter-2.1.2+pt20cu118\n",
      "Looking in links: https://data.pyg.org/whl/torch-2.0.1+cu118.html\n",
      "Collecting torch-sparse\n",
      "  Using cached https://data.pyg.org/whl/torch-2.0.0%2Bcu118/torch_sparse-0.6.18%2Bpt20cu118-cp39-cp39-linux_x86_64.whl (4.9 MB)\n",
      "Requirement already satisfied: scipy in /u/mbanisharifdehkordi/env4/lib/python3.9/site-packages (from torch-sparse) (1.13.1)\n",
      "Requirement already satisfied: numpy<2.3,>=1.22.4 in /u/mbanisharifdehkordi/env4/lib/python3.9/site-packages (from scipy->torch-sparse) (2.0.1)\n",
      "Installing collected packages: torch-sparse\n",
      "Successfully installed torch-sparse-0.6.18+pt20cu118\n",
      "Looking in links: https://data.pyg.org/whl/torch-2.0.1+cu118.html\n",
      "Collecting torch-cluster\n",
      "  Using cached https://data.pyg.org/whl/torch-2.0.0%2Bcu118/torch_cluster-1.6.3%2Bpt20cu118-cp39-cp39-linux_x86_64.whl (3.3 MB)\n",
      "Requirement already satisfied: scipy in /u/mbanisharifdehkordi/env4/lib/python3.9/site-packages (from torch-cluster) (1.13.1)\n",
      "Requirement already satisfied: numpy<2.3,>=1.22.4 in /u/mbanisharifdehkordi/env4/lib/python3.9/site-packages (from scipy->torch-cluster) (2.0.1)\n",
      "Installing collected packages: torch-cluster\n",
      "Successfully installed torch-cluster-1.6.3+pt20cu118\n",
      "Looking in links: https://data.pyg.org/whl/torch-2.0.1+cu118.html\n",
      "Collecting torch-spline-conv\n",
      "  Using cached https://data.pyg.org/whl/torch-2.0.0%2Bcu118/torch_spline_conv-1.2.2%2Bpt20cu118-cp39-cp39-linux_x86_64.whl (886 kB)\n",
      "Installing collected packages: torch-spline-conv\n",
      "Successfully installed torch-spline-conv-1.2.2+pt20cu118\n",
      "Collecting torch-geometric\n",
      "  Using cached torch_geometric-2.5.3-py3-none-any.whl.metadata (64 kB)\n",
      "Requirement already satisfied: tqdm in /u/mbanisharifdehkordi/env4/lib/python3.9/site-packages (from torch-geometric) (4.66.4)\n",
      "Requirement already satisfied: numpy in /u/mbanisharifdehkordi/env4/lib/python3.9/site-packages (from torch-geometric) (2.0.1)\n",
      "Requirement already satisfied: scipy in /u/mbanisharifdehkordi/env4/lib/python3.9/site-packages (from torch-geometric) (1.13.1)\n",
      "Requirement already satisfied: fsspec in /u/mbanisharifdehkordi/env4/lib/python3.9/site-packages (from torch-geometric) (2024.6.1)\n",
      "Requirement already satisfied: jinja2 in /u/mbanisharifdehkordi/env4/lib/python3.9/site-packages (from torch-geometric) (3.1.4)\n",
      "Requirement already satisfied: aiohttp in /u/mbanisharifdehkordi/env4/lib/python3.9/site-packages (from torch-geometric) (3.10.0)\n",
      "Requirement already satisfied: requests in /u/mbanisharifdehkordi/env4/lib/python3.9/site-packages (from torch-geometric) (2.32.3)\n",
      "Requirement already satisfied: pyparsing in /u/mbanisharifdehkordi/env4/lib/python3.9/site-packages (from torch-geometric) (3.1.2)\n",
      "Requirement already satisfied: scikit-learn in /u/mbanisharifdehkordi/env4/lib/python3.9/site-packages (from torch-geometric) (1.5.1)\n",
      "Requirement already satisfied: psutil>=5.8.0 in /u/mbanisharifdehkordi/env4/lib/python3.9/site-packages (from torch-geometric) (6.0.0)\n",
      "Requirement already satisfied: aiohappyeyeballs>=2.3.0 in /u/mbanisharifdehkordi/env4/lib/python3.9/site-packages (from aiohttp->torch-geometric) (2.3.4)\n",
      "Requirement already satisfied: aiosignal>=1.1.2 in /u/mbanisharifdehkordi/env4/lib/python3.9/site-packages (from aiohttp->torch-geometric) (1.3.1)\n",
      "Requirement already satisfied: attrs>=17.3.0 in /u/mbanisharifdehkordi/env4/lib/python3.9/site-packages (from aiohttp->torch-geometric) (24.1.0)\n",
      "Requirement already satisfied: frozenlist>=1.1.1 in /u/mbanisharifdehkordi/env4/lib/python3.9/site-packages (from aiohttp->torch-geometric) (1.4.1)\n",
      "Requirement already satisfied: multidict<7.0,>=4.5 in /u/mbanisharifdehkordi/env4/lib/python3.9/site-packages (from aiohttp->torch-geometric) (6.0.5)\n",
      "Requirement already satisfied: yarl<2.0,>=1.0 in /u/mbanisharifdehkordi/env4/lib/python3.9/site-packages (from aiohttp->torch-geometric) (1.9.4)\n",
      "Requirement already satisfied: async-timeout<5.0,>=4.0 in /u/mbanisharifdehkordi/env4/lib/python3.9/site-packages (from aiohttp->torch-geometric) (4.0.3)\n",
      "Requirement already satisfied: MarkupSafe>=2.0 in /u/mbanisharifdehkordi/env4/lib/python3.9/site-packages (from jinja2->torch-geometric) (2.1.5)\n",
      "Requirement already satisfied: charset-normalizer<4,>=2 in /u/mbanisharifdehkordi/env4/lib/python3.9/site-packages (from requests->torch-geometric) (3.3.2)\n",
      "Requirement already satisfied: idna<4,>=2.5 in /u/mbanisharifdehkordi/env4/lib/python3.9/site-packages (from requests->torch-geometric) (3.7)\n",
      "Requirement already satisfied: urllib3<3,>=1.21.1 in /u/mbanisharifdehkordi/env4/lib/python3.9/site-packages (from requests->torch-geometric) (2.2.2)\n",
      "Requirement already satisfied: certifi>=2017.4.17 in /u/mbanisharifdehkordi/env4/lib/python3.9/site-packages (from requests->torch-geometric) (2024.7.4)\n",
      "Requirement already satisfied: joblib>=1.2.0 in /u/mbanisharifdehkordi/env4/lib/python3.9/site-packages (from scikit-learn->torch-geometric) (1.4.2)\n",
      "Requirement already satisfied: threadpoolctl>=3.1.0 in /u/mbanisharifdehkordi/env4/lib/python3.9/site-packages (from scikit-learn->torch-geometric) (3.5.0)\n",
      "Using cached torch_geometric-2.5.3-py3-none-any.whl (1.1 MB)\n",
      "Installing collected packages: torch-geometric\n",
      "Successfully installed torch-geometric-2.5.3\n"
     ]
    }
   ],
   "source": [
    "# Uninstall existing packages\n",
    "!~/env4/bin/pip uninstall -y torch-scatter torch-sparse torch-cluster torch-spline-conv torch-geometric\n",
    "\n",
    "# Reinstall compatible versions\n",
    "!~/env4/bin/pip install torch torchvision torchaudio --extra-index-url https://download.pytorch.org/whl/cu118\n",
    "\n",
    "# Reinstall PyTorch Geometric dependencies with appropriate versions\n",
    "!~/env4/bin/pip install torch-scatter -f https://data.pyg.org/whl/torch-2.0.1+cu118.html\n",
    "!~/env4/bin/pip install torch-sparse -f https://data.pyg.org/whl/torch-2.0.1+cu118.html\n",
    "!~/env4/bin/pip install torch-cluster -f https://data.pyg.org/whl/torch-2.0.1+cu118.html\n",
    "!~/env4/bin/pip install torch-spline-conv -f https://data.pyg.org/whl/torch-2.0.1+cu118.html\n",
    "\n",
    "# Install PyTorch Geometric\n",
    "!~/env4/bin/pip install torch-geometric\n"
   ]
  },
  {
   "cell_type": "code",
   "execution_count": 2,
   "id": "c39602a9-04d3-4554-b708-b9dc04dd06bf",
   "metadata": {
    "collapsed": true,
    "jupyter": {
     "outputs_hidden": true
    },
    "tags": []
   },
   "outputs": [
    {
     "name": "stdout",
     "output_type": "stream",
     "text": [
      "nvcc: NVIDIA (R) Cuda compiler driver\n",
      "Copyright (c) 2005-2022 NVIDIA Corporation\n",
      "Built on Wed_Sep_21_10:33:58_PDT_2022\n",
      "Cuda compilation tools, release 11.8, V11.8.89\n",
      "Build cuda_11.8.r11.8/compiler.31833905_0\n"
     ]
    }
   ],
   "source": [
    "!nvcc --version"
   ]
  },
  {
   "cell_type": "code",
   "execution_count": 2,
   "id": "43852a09-8109-4b5b-83c2-837bda26fb4b",
   "metadata": {
    "tags": []
   },
   "outputs": [
    {
     "name": "stdout",
     "output_type": "stream",
     "text": [
      "2.4.0+cu118\n"
     ]
    }
   ],
   "source": [
    "import torch\n",
    "print(torch.__version__)"
   ]
  },
  {
   "cell_type": "code",
   "execution_count": 3,
   "id": "9b1cf69c-b87a-4286-87aa-b23892e7df67",
   "metadata": {
    "collapsed": true,
    "jupyter": {
     "outputs_hidden": true
    },
    "tags": []
   },
   "outputs": [
    {
     "name": "stdout",
     "output_type": "stream",
     "text": [
      "Found existing installation: torch-scatter 2.1.2+pt20cu118\n",
      "Uninstalling torch-scatter-2.1.2+pt20cu118:\n",
      "  Successfully uninstalled torch-scatter-2.1.2+pt20cu118\n",
      "Found existing installation: torch-sparse 0.6.18+pt20cu118\n",
      "Uninstalling torch-sparse-0.6.18+pt20cu118:\n",
      "  Successfully uninstalled torch-sparse-0.6.18+pt20cu118\n",
      "Found existing installation: torch-cluster 1.6.3+pt20cu118\n",
      "Uninstalling torch-cluster-1.6.3+pt20cu118:\n",
      "  Successfully uninstalled torch-cluster-1.6.3+pt20cu118\n",
      "Found existing installation: torch-spline-conv 1.2.2+pt20cu118\n",
      "Uninstalling torch-spline-conv-1.2.2+pt20cu118:\n",
      "  Successfully uninstalled torch-spline-conv-1.2.2+pt20cu118\n",
      "Found existing installation: torch_geometric 2.5.3\n",
      "Uninstalling torch_geometric-2.5.3:\n",
      "  Successfully uninstalled torch_geometric-2.5.3\n"
     ]
    }
   ],
   "source": [
    "!~/env4/bin/pip uninstall -y torch-scatter torch-sparse torch-cluster torch-spline-conv torch-geometric"
   ]
  },
  {
   "cell_type": "code",
   "execution_count": 4,
   "id": "e4048847-e76f-47e5-9c4f-1cbb7418859c",
   "metadata": {
    "collapsed": true,
    "jupyter": {
     "outputs_hidden": true
    },
    "tags": []
   },
   "outputs": [
    {
     "name": "stdout",
     "output_type": "stream",
     "text": [
      "Looking in indexes: https://pypi.org/simple, https://download.pytorch.org/whl/cu118\n",
      "Requirement already satisfied: torch in /u/mbanisharifdehkordi/env4/lib/python3.9/site-packages (2.4.0+cu118)\n",
      "Requirement already satisfied: torchvision in /u/mbanisharifdehkordi/env4/lib/python3.9/site-packages (0.19.0+cu118)\n",
      "Requirement already satisfied: torchaudio in /u/mbanisharifdehkordi/env4/lib/python3.9/site-packages (2.4.0+cu118)\n",
      "Requirement already satisfied: filelock in /u/mbanisharifdehkordi/env4/lib/python3.9/site-packages (from torch) (3.15.4)\n",
      "Requirement already satisfied: typing-extensions>=4.8.0 in /u/mbanisharifdehkordi/env4/lib/python3.9/site-packages (from torch) (4.12.2)\n",
      "Requirement already satisfied: sympy in /u/mbanisharifdehkordi/env4/lib/python3.9/site-packages (from torch) (1.13.1)\n",
      "Requirement already satisfied: networkx in /u/mbanisharifdehkordi/env4/lib/python3.9/site-packages (from torch) (3.2.1)\n",
      "Requirement already satisfied: jinja2 in /u/mbanisharifdehkordi/env4/lib/python3.9/site-packages (from torch) (3.1.4)\n",
      "Requirement already satisfied: fsspec in /u/mbanisharifdehkordi/env4/lib/python3.9/site-packages (from torch) (2024.6.1)\n",
      "Requirement already satisfied: nvidia-cuda-nvrtc-cu11==11.8.89 in /u/mbanisharifdehkordi/env4/lib/python3.9/site-packages (from torch) (11.8.89)\n",
      "Requirement already satisfied: nvidia-cuda-runtime-cu11==11.8.89 in /u/mbanisharifdehkordi/env4/lib/python3.9/site-packages (from torch) (11.8.89)\n",
      "Requirement already satisfied: nvidia-cuda-cupti-cu11==11.8.87 in /u/mbanisharifdehkordi/env4/lib/python3.9/site-packages (from torch) (11.8.87)\n",
      "Requirement already satisfied: nvidia-cudnn-cu11==9.1.0.70 in /u/mbanisharifdehkordi/env4/lib/python3.9/site-packages (from torch) (9.1.0.70)\n",
      "Requirement already satisfied: nvidia-cublas-cu11==11.11.3.6 in /u/mbanisharifdehkordi/env4/lib/python3.9/site-packages (from torch) (11.11.3.6)\n",
      "Requirement already satisfied: nvidia-cufft-cu11==10.9.0.58 in /u/mbanisharifdehkordi/env4/lib/python3.9/site-packages (from torch) (10.9.0.58)\n",
      "Requirement already satisfied: nvidia-curand-cu11==10.3.0.86 in /u/mbanisharifdehkordi/env4/lib/python3.9/site-packages (from torch) (10.3.0.86)\n",
      "Requirement already satisfied: nvidia-cusolver-cu11==11.4.1.48 in /u/mbanisharifdehkordi/env4/lib/python3.9/site-packages (from torch) (11.4.1.48)\n",
      "Requirement already satisfied: nvidia-cusparse-cu11==11.7.5.86 in /u/mbanisharifdehkordi/env4/lib/python3.9/site-packages (from torch) (11.7.5.86)\n",
      "Requirement already satisfied: nvidia-nccl-cu11==2.20.5 in /u/mbanisharifdehkordi/env4/lib/python3.9/site-packages (from torch) (2.20.5)\n",
      "Requirement already satisfied: nvidia-nvtx-cu11==11.8.86 in /u/mbanisharifdehkordi/env4/lib/python3.9/site-packages (from torch) (11.8.86)\n",
      "Requirement already satisfied: triton==3.0.0 in /u/mbanisharifdehkordi/env4/lib/python3.9/site-packages (from torch) (3.0.0)\n",
      "Requirement already satisfied: numpy in /u/mbanisharifdehkordi/env4/lib/python3.9/site-packages (from torchvision) (2.0.1)\n",
      "Requirement already satisfied: pillow!=8.3.*,>=5.3.0 in /u/mbanisharifdehkordi/env4/lib/python3.9/site-packages (from torchvision) (10.4.0)\n",
      "Requirement already satisfied: MarkupSafe>=2.0 in /u/mbanisharifdehkordi/env4/lib/python3.9/site-packages (from jinja2->torch) (2.1.5)\n",
      "Requirement already satisfied: mpmath<1.4,>=1.1.0 in /u/mbanisharifdehkordi/env4/lib/python3.9/site-packages (from sympy->torch) (1.3.0)\n",
      "Looking in links: https://data.pyg.org/whl/torch-2.4.0+cu118.html\n",
      "Collecting torch-scatter\n",
      "  Using cached torch_scatter-2.1.2.tar.gz (108 kB)\n",
      "  Installing build dependencies ... \u001b[?25ldone\n",
      "\u001b[?25h  Getting requirements to build wheel ... \u001b[?25lerror\n",
      "  \u001b[1;31merror\u001b[0m: \u001b[1msubprocess-exited-with-error\u001b[0m\n",
      "  \n",
      "  \u001b[31m×\u001b[0m \u001b[32mGetting requirements to build wheel\u001b[0m did not run successfully.\n",
      "  \u001b[31m│\u001b[0m exit code: \u001b[1;36m1\u001b[0m\n",
      "  \u001b[31m╰─>\u001b[0m \u001b[31m[17 lines of output]\u001b[0m\n",
      "  \u001b[31m   \u001b[0m Traceback (most recent call last):\n",
      "  \u001b[31m   \u001b[0m   File \"/u/mbanisharifdehkordi/env4/lib/python3.9/site-packages/pip/_vendor/pyproject_hooks/_in_process/_in_process.py\", line 353, in <module>\n",
      "  \u001b[31m   \u001b[0m     main()\n",
      "  \u001b[31m   \u001b[0m   File \"/u/mbanisharifdehkordi/env4/lib/python3.9/site-packages/pip/_vendor/pyproject_hooks/_in_process/_in_process.py\", line 335, in main\n",
      "  \u001b[31m   \u001b[0m     json_out['return_val'] = hook(**hook_input['kwargs'])\n",
      "  \u001b[31m   \u001b[0m   File \"/u/mbanisharifdehkordi/env4/lib/python3.9/site-packages/pip/_vendor/pyproject_hooks/_in_process/_in_process.py\", line 118, in get_requires_for_build_wheel\n",
      "  \u001b[31m   \u001b[0m     return hook(config_settings)\n",
      "  \u001b[31m   \u001b[0m   File \"/tmp/pip-build-env-62owdtus/overlay/lib/python3.9/site-packages/setuptools/build_meta.py\", line 327, in get_requires_for_build_wheel\n",
      "  \u001b[31m   \u001b[0m     return self._get_build_requires(config_settings, requirements=[])\n",
      "  \u001b[31m   \u001b[0m   File \"/tmp/pip-build-env-62owdtus/overlay/lib/python3.9/site-packages/setuptools/build_meta.py\", line 297, in _get_build_requires\n",
      "  \u001b[31m   \u001b[0m     self.run_setup()\n",
      "  \u001b[31m   \u001b[0m   File \"/tmp/pip-build-env-62owdtus/overlay/lib/python3.9/site-packages/setuptools/build_meta.py\", line 497, in run_setup\n",
      "  \u001b[31m   \u001b[0m     super().run_setup(setup_script=setup_script)\n",
      "  \u001b[31m   \u001b[0m   File \"/tmp/pip-build-env-62owdtus/overlay/lib/python3.9/site-packages/setuptools/build_meta.py\", line 313, in run_setup\n",
      "  \u001b[31m   \u001b[0m     exec(code, locals())\n",
      "  \u001b[31m   \u001b[0m   File \"<string>\", line 8, in <module>\n",
      "  \u001b[31m   \u001b[0m ModuleNotFoundError: No module named 'torch'\n",
      "  \u001b[31m   \u001b[0m \u001b[31m[end of output]\u001b[0m\n",
      "  \n",
      "  \u001b[1;35mnote\u001b[0m: This error originates from a subprocess, and is likely not a problem with pip.\n",
      "\u001b[1;31merror\u001b[0m: \u001b[1msubprocess-exited-with-error\u001b[0m\n",
      "\n",
      "\u001b[31m×\u001b[0m \u001b[32mGetting requirements to build wheel\u001b[0m did not run successfully.\n",
      "\u001b[31m│\u001b[0m exit code: \u001b[1;36m1\u001b[0m\n",
      "\u001b[31m╰─>\u001b[0m See above for output.\n",
      "\n",
      "\u001b[1;35mnote\u001b[0m: This error originates from a subprocess, and is likely not a problem with pip.\n",
      "\u001b[?25hLooking in links: https://data.pyg.org/whl/torch-2.4.0+cu118.html\n",
      "Collecting torch-sparse\n",
      "  Using cached torch_sparse-0.6.18.tar.gz (209 kB)\n",
      "  Installing build dependencies ... \u001b[?25ldone\n",
      "\u001b[?25h  Getting requirements to build wheel ... \u001b[?25lerror\n",
      "  \u001b[1;31merror\u001b[0m: \u001b[1msubprocess-exited-with-error\u001b[0m\n",
      "  \n",
      "  \u001b[31m×\u001b[0m \u001b[32mGetting requirements to build wheel\u001b[0m did not run successfully.\n",
      "  \u001b[31m│\u001b[0m exit code: \u001b[1;36m1\u001b[0m\n",
      "  \u001b[31m╰─>\u001b[0m \u001b[31m[17 lines of output]\u001b[0m\n",
      "  \u001b[31m   \u001b[0m Traceback (most recent call last):\n",
      "  \u001b[31m   \u001b[0m   File \"/u/mbanisharifdehkordi/env4/lib/python3.9/site-packages/pip/_vendor/pyproject_hooks/_in_process/_in_process.py\", line 353, in <module>\n",
      "  \u001b[31m   \u001b[0m     main()\n",
      "  \u001b[31m   \u001b[0m   File \"/u/mbanisharifdehkordi/env4/lib/python3.9/site-packages/pip/_vendor/pyproject_hooks/_in_process/_in_process.py\", line 335, in main\n",
      "  \u001b[31m   \u001b[0m     json_out['return_val'] = hook(**hook_input['kwargs'])\n",
      "  \u001b[31m   \u001b[0m   File \"/u/mbanisharifdehkordi/env4/lib/python3.9/site-packages/pip/_vendor/pyproject_hooks/_in_process/_in_process.py\", line 118, in get_requires_for_build_wheel\n",
      "  \u001b[31m   \u001b[0m     return hook(config_settings)\n",
      "  \u001b[31m   \u001b[0m   File \"/tmp/pip-build-env-i_tso1qp/overlay/lib/python3.9/site-packages/setuptools/build_meta.py\", line 327, in get_requires_for_build_wheel\n",
      "  \u001b[31m   \u001b[0m     return self._get_build_requires(config_settings, requirements=[])\n",
      "  \u001b[31m   \u001b[0m   File \"/tmp/pip-build-env-i_tso1qp/overlay/lib/python3.9/site-packages/setuptools/build_meta.py\", line 297, in _get_build_requires\n",
      "  \u001b[31m   \u001b[0m     self.run_setup()\n",
      "  \u001b[31m   \u001b[0m   File \"/tmp/pip-build-env-i_tso1qp/overlay/lib/python3.9/site-packages/setuptools/build_meta.py\", line 497, in run_setup\n",
      "  \u001b[31m   \u001b[0m     super().run_setup(setup_script=setup_script)\n",
      "  \u001b[31m   \u001b[0m   File \"/tmp/pip-build-env-i_tso1qp/overlay/lib/python3.9/site-packages/setuptools/build_meta.py\", line 313, in run_setup\n",
      "  \u001b[31m   \u001b[0m     exec(code, locals())\n",
      "  \u001b[31m   \u001b[0m   File \"<string>\", line 8, in <module>\n",
      "  \u001b[31m   \u001b[0m ModuleNotFoundError: No module named 'torch'\n",
      "  \u001b[31m   \u001b[0m \u001b[31m[end of output]\u001b[0m\n",
      "  \n",
      "  \u001b[1;35mnote\u001b[0m: This error originates from a subprocess, and is likely not a problem with pip.\n",
      "\u001b[1;31merror\u001b[0m: \u001b[1msubprocess-exited-with-error\u001b[0m\n",
      "\n",
      "\u001b[31m×\u001b[0m \u001b[32mGetting requirements to build wheel\u001b[0m did not run successfully.\n",
      "\u001b[31m│\u001b[0m exit code: \u001b[1;36m1\u001b[0m\n",
      "\u001b[31m╰─>\u001b[0m See above for output.\n",
      "\n",
      "\u001b[1;35mnote\u001b[0m: This error originates from a subprocess, and is likely not a problem with pip.\n",
      "\u001b[?25hLooking in links: https://data.pyg.org/whl/torch-2.4.0+cu118.html\n",
      "Collecting torch-cluster\n",
      "  Using cached torch_cluster-1.6.3.tar.gz (54 kB)\n",
      "  Installing build dependencies ... \u001b[?25ldone\n",
      "\u001b[?25h  Getting requirements to build wheel ... \u001b[?25lerror\n",
      "  \u001b[1;31merror\u001b[0m: \u001b[1msubprocess-exited-with-error\u001b[0m\n",
      "  \n",
      "  \u001b[31m×\u001b[0m \u001b[32mGetting requirements to build wheel\u001b[0m did not run successfully.\n",
      "  \u001b[31m│\u001b[0m exit code: \u001b[1;36m1\u001b[0m\n",
      "  \u001b[31m╰─>\u001b[0m \u001b[31m[17 lines of output]\u001b[0m\n",
      "  \u001b[31m   \u001b[0m Traceback (most recent call last):\n",
      "  \u001b[31m   \u001b[0m   File \"/u/mbanisharifdehkordi/env4/lib/python3.9/site-packages/pip/_vendor/pyproject_hooks/_in_process/_in_process.py\", line 353, in <module>\n",
      "  \u001b[31m   \u001b[0m     main()\n",
      "  \u001b[31m   \u001b[0m   File \"/u/mbanisharifdehkordi/env4/lib/python3.9/site-packages/pip/_vendor/pyproject_hooks/_in_process/_in_process.py\", line 335, in main\n",
      "  \u001b[31m   \u001b[0m     json_out['return_val'] = hook(**hook_input['kwargs'])\n",
      "  \u001b[31m   \u001b[0m   File \"/u/mbanisharifdehkordi/env4/lib/python3.9/site-packages/pip/_vendor/pyproject_hooks/_in_process/_in_process.py\", line 118, in get_requires_for_build_wheel\n",
      "  \u001b[31m   \u001b[0m     return hook(config_settings)\n",
      "  \u001b[31m   \u001b[0m   File \"/tmp/pip-build-env-q36lut25/overlay/lib/python3.9/site-packages/setuptools/build_meta.py\", line 327, in get_requires_for_build_wheel\n",
      "  \u001b[31m   \u001b[0m     return self._get_build_requires(config_settings, requirements=[])\n",
      "  \u001b[31m   \u001b[0m   File \"/tmp/pip-build-env-q36lut25/overlay/lib/python3.9/site-packages/setuptools/build_meta.py\", line 297, in _get_build_requires\n",
      "  \u001b[31m   \u001b[0m     self.run_setup()\n",
      "  \u001b[31m   \u001b[0m   File \"/tmp/pip-build-env-q36lut25/overlay/lib/python3.9/site-packages/setuptools/build_meta.py\", line 497, in run_setup\n",
      "  \u001b[31m   \u001b[0m     super().run_setup(setup_script=setup_script)\n",
      "  \u001b[31m   \u001b[0m   File \"/tmp/pip-build-env-q36lut25/overlay/lib/python3.9/site-packages/setuptools/build_meta.py\", line 313, in run_setup\n",
      "  \u001b[31m   \u001b[0m     exec(code, locals())\n",
      "  \u001b[31m   \u001b[0m   File \"<string>\", line 8, in <module>\n",
      "  \u001b[31m   \u001b[0m ModuleNotFoundError: No module named 'torch'\n",
      "  \u001b[31m   \u001b[0m \u001b[31m[end of output]\u001b[0m\n",
      "  \n",
      "  \u001b[1;35mnote\u001b[0m: This error originates from a subprocess, and is likely not a problem with pip.\n",
      "\u001b[1;31merror\u001b[0m: \u001b[1msubprocess-exited-with-error\u001b[0m\n",
      "\n",
      "\u001b[31m×\u001b[0m \u001b[32mGetting requirements to build wheel\u001b[0m did not run successfully.\n",
      "\u001b[31m│\u001b[0m exit code: \u001b[1;36m1\u001b[0m\n",
      "\u001b[31m╰─>\u001b[0m See above for output.\n",
      "\n",
      "\u001b[1;35mnote\u001b[0m: This error originates from a subprocess, and is likely not a problem with pip.\n",
      "\u001b[?25hLooking in links: https://data.pyg.org/whl/torch-2.4.0+cu118.html\n",
      "Collecting torch-spline-conv\n",
      "  Using cached torch_spline_conv-1.2.2.tar.gz (25 kB)\n",
      "  Installing build dependencies ... \u001b[?25ldone\n",
      "\u001b[?25h  Getting requirements to build wheel ... \u001b[?25lerror\n",
      "  \u001b[1;31merror\u001b[0m: \u001b[1msubprocess-exited-with-error\u001b[0m\n",
      "  \n",
      "  \u001b[31m×\u001b[0m \u001b[32mGetting requirements to build wheel\u001b[0m did not run successfully.\n",
      "  \u001b[31m│\u001b[0m exit code: \u001b[1;36m1\u001b[0m\n",
      "  \u001b[31m╰─>\u001b[0m \u001b[31m[17 lines of output]\u001b[0m\n",
      "  \u001b[31m   \u001b[0m Traceback (most recent call last):\n",
      "  \u001b[31m   \u001b[0m   File \"/u/mbanisharifdehkordi/env4/lib/python3.9/site-packages/pip/_vendor/pyproject_hooks/_in_process/_in_process.py\", line 353, in <module>\n",
      "  \u001b[31m   \u001b[0m     main()\n",
      "  \u001b[31m   \u001b[0m   File \"/u/mbanisharifdehkordi/env4/lib/python3.9/site-packages/pip/_vendor/pyproject_hooks/_in_process/_in_process.py\", line 335, in main\n",
      "  \u001b[31m   \u001b[0m     json_out['return_val'] = hook(**hook_input['kwargs'])\n",
      "  \u001b[31m   \u001b[0m   File \"/u/mbanisharifdehkordi/env4/lib/python3.9/site-packages/pip/_vendor/pyproject_hooks/_in_process/_in_process.py\", line 118, in get_requires_for_build_wheel\n",
      "  \u001b[31m   \u001b[0m     return hook(config_settings)\n",
      "  \u001b[31m   \u001b[0m   File \"/tmp/pip-build-env-dby5ouds/overlay/lib/python3.9/site-packages/setuptools/build_meta.py\", line 327, in get_requires_for_build_wheel\n",
      "  \u001b[31m   \u001b[0m     return self._get_build_requires(config_settings, requirements=[])\n",
      "  \u001b[31m   \u001b[0m   File \"/tmp/pip-build-env-dby5ouds/overlay/lib/python3.9/site-packages/setuptools/build_meta.py\", line 297, in _get_build_requires\n",
      "  \u001b[31m   \u001b[0m     self.run_setup()\n",
      "  \u001b[31m   \u001b[0m   File \"/tmp/pip-build-env-dby5ouds/overlay/lib/python3.9/site-packages/setuptools/build_meta.py\", line 497, in run_setup\n",
      "  \u001b[31m   \u001b[0m     super().run_setup(setup_script=setup_script)\n",
      "  \u001b[31m   \u001b[0m   File \"/tmp/pip-build-env-dby5ouds/overlay/lib/python3.9/site-packages/setuptools/build_meta.py\", line 313, in run_setup\n",
      "  \u001b[31m   \u001b[0m     exec(code, locals())\n",
      "  \u001b[31m   \u001b[0m   File \"<string>\", line 8, in <module>\n",
      "  \u001b[31m   \u001b[0m ModuleNotFoundError: No module named 'torch'\n",
      "  \u001b[31m   \u001b[0m \u001b[31m[end of output]\u001b[0m\n",
      "  \n",
      "  \u001b[1;35mnote\u001b[0m: This error originates from a subprocess, and is likely not a problem with pip.\n",
      "\u001b[1;31merror\u001b[0m: \u001b[1msubprocess-exited-with-error\u001b[0m\n",
      "\n",
      "\u001b[31m×\u001b[0m \u001b[32mGetting requirements to build wheel\u001b[0m did not run successfully.\n",
      "\u001b[31m│\u001b[0m exit code: \u001b[1;36m1\u001b[0m\n",
      "\u001b[31m╰─>\u001b[0m See above for output.\n",
      "\n",
      "\u001b[1;35mnote\u001b[0m: This error originates from a subprocess, and is likely not a problem with pip.\n",
      "\u001b[?25hCollecting torch-geometric\n",
      "  Using cached torch_geometric-2.5.3-py3-none-any.whl.metadata (64 kB)\n",
      "Requirement already satisfied: tqdm in /u/mbanisharifdehkordi/env4/lib/python3.9/site-packages (from torch-geometric) (4.66.4)\n",
      "Requirement already satisfied: numpy in /u/mbanisharifdehkordi/env4/lib/python3.9/site-packages (from torch-geometric) (2.0.1)\n",
      "Requirement already satisfied: scipy in /u/mbanisharifdehkordi/env4/lib/python3.9/site-packages (from torch-geometric) (1.13.1)\n",
      "Requirement already satisfied: fsspec in /u/mbanisharifdehkordi/env4/lib/python3.9/site-packages (from torch-geometric) (2024.6.1)\n",
      "Requirement already satisfied: jinja2 in /u/mbanisharifdehkordi/env4/lib/python3.9/site-packages (from torch-geometric) (3.1.4)\n",
      "Requirement already satisfied: aiohttp in /u/mbanisharifdehkordi/env4/lib/python3.9/site-packages (from torch-geometric) (3.10.0)\n",
      "Requirement already satisfied: requests in /u/mbanisharifdehkordi/env4/lib/python3.9/site-packages (from torch-geometric) (2.32.3)\n",
      "Requirement already satisfied: pyparsing in /u/mbanisharifdehkordi/env4/lib/python3.9/site-packages (from torch-geometric) (3.1.2)\n",
      "Requirement already satisfied: scikit-learn in /u/mbanisharifdehkordi/env4/lib/python3.9/site-packages (from torch-geometric) (1.5.1)\n",
      "Requirement already satisfied: psutil>=5.8.0 in /u/mbanisharifdehkordi/env4/lib/python3.9/site-packages (from torch-geometric) (6.0.0)\n",
      "Requirement already satisfied: aiohappyeyeballs>=2.3.0 in /u/mbanisharifdehkordi/env4/lib/python3.9/site-packages (from aiohttp->torch-geometric) (2.3.4)\n",
      "Requirement already satisfied: aiosignal>=1.1.2 in /u/mbanisharifdehkordi/env4/lib/python3.9/site-packages (from aiohttp->torch-geometric) (1.3.1)\n",
      "Requirement already satisfied: attrs>=17.3.0 in /u/mbanisharifdehkordi/env4/lib/python3.9/site-packages (from aiohttp->torch-geometric) (24.1.0)\n",
      "Requirement already satisfied: frozenlist>=1.1.1 in /u/mbanisharifdehkordi/env4/lib/python3.9/site-packages (from aiohttp->torch-geometric) (1.4.1)\n",
      "Requirement already satisfied: multidict<7.0,>=4.5 in /u/mbanisharifdehkordi/env4/lib/python3.9/site-packages (from aiohttp->torch-geometric) (6.0.5)\n",
      "Requirement already satisfied: yarl<2.0,>=1.0 in /u/mbanisharifdehkordi/env4/lib/python3.9/site-packages (from aiohttp->torch-geometric) (1.9.4)\n",
      "Requirement already satisfied: async-timeout<5.0,>=4.0 in /u/mbanisharifdehkordi/env4/lib/python3.9/site-packages (from aiohttp->torch-geometric) (4.0.3)\n",
      "Requirement already satisfied: MarkupSafe>=2.0 in /u/mbanisharifdehkordi/env4/lib/python3.9/site-packages (from jinja2->torch-geometric) (2.1.5)\n",
      "Requirement already satisfied: charset-normalizer<4,>=2 in /u/mbanisharifdehkordi/env4/lib/python3.9/site-packages (from requests->torch-geometric) (3.3.2)\n",
      "Requirement already satisfied: idna<4,>=2.5 in /u/mbanisharifdehkordi/env4/lib/python3.9/site-packages (from requests->torch-geometric) (3.7)\n",
      "Requirement already satisfied: urllib3<3,>=1.21.1 in /u/mbanisharifdehkordi/env4/lib/python3.9/site-packages (from requests->torch-geometric) (2.2.2)\n",
      "Requirement already satisfied: certifi>=2017.4.17 in /u/mbanisharifdehkordi/env4/lib/python3.9/site-packages (from requests->torch-geometric) (2024.7.4)\n",
      "Requirement already satisfied: joblib>=1.2.0 in /u/mbanisharifdehkordi/env4/lib/python3.9/site-packages (from scikit-learn->torch-geometric) (1.4.2)\n",
      "Requirement already satisfied: threadpoolctl>=3.1.0 in /u/mbanisharifdehkordi/env4/lib/python3.9/site-packages (from scikit-learn->torch-geometric) (3.5.0)\n",
      "Using cached torch_geometric-2.5.3-py3-none-any.whl (1.1 MB)\n",
      "Installing collected packages: torch-geometric\n",
      "Successfully installed torch-geometric-2.5.3\n"
     ]
    }
   ],
   "source": [
    "!~/env4/bin/pip install torch torchvision torchaudio --extra-index-url https://download.pytorch.org/whl/cu118\n",
    "\n",
    "!~/env4/bin/pip install torch-scatter -f https://data.pyg.org/whl/torch-2.4.0+cu118.html\n",
    "!~/env4/bin/pip install torch-sparse -f https://data.pyg.org/whl/torch-2.4.0+cu118.html\n",
    "!~/env4/bin/pip install torch-cluster -f https://data.pyg.org/whl/torch-2.4.0+cu118.html\n",
    "!~/env4/bin/pip install torch-spline-conv -f https://data.pyg.org/whl/torch-2.4.0+cu118.html\n",
    "!~/env4/bin/pip install torch-geometric"
   ]
  },
  {
   "cell_type": "code",
   "execution_count": 7,
   "id": "5f03d36d-02c9-48ae-b8a8-8cee7391c56f",
   "metadata": {
    "tags": []
   },
   "outputs": [
    {
     "name": "stdout",
     "output_type": "stream",
     "text": [
      "Traceback (most recent call last):\n",
      "  File \"/u/mbanisharifdehkordi/Github/Darshan-logs-Processing/gnn_training46.py\", line 5, in <module>\n",
      "    from torch_geometric.data import Data\n",
      "ModuleNotFoundError: No module named 'torch_geometric'\n"
     ]
    }
   ],
   "source": [
    "!python gnn_training46.py"
   ]
  },
  {
   "cell_type": "code",
   "execution_count": 3,
   "id": "20575eef-159d-4c28-8784-cfe2643020dc",
   "metadata": {
    "collapsed": true,
    "jupyter": {
     "outputs_hidden": true
    },
    "tags": []
   },
   "outputs": [
    {
     "name": "stdout",
     "output_type": "stream",
     "text": [
      "Requirement already satisfied: torch-geometric in /u/mbanisharifdehkordi/env4/lib/python3.9/site-packages (2.5.3)\n",
      "Requirement already satisfied: tqdm in /u/mbanisharifdehkordi/env4/lib/python3.9/site-packages (from torch-geometric) (4.66.4)\n",
      "Requirement already satisfied: numpy in /u/mbanisharifdehkordi/env4/lib/python3.9/site-packages (from torch-geometric) (2.0.1)\n",
      "Requirement already satisfied: scipy in /u/mbanisharifdehkordi/env4/lib/python3.9/site-packages (from torch-geometric) (1.13.1)\n",
      "Requirement already satisfied: fsspec in /u/mbanisharifdehkordi/env4/lib/python3.9/site-packages (from torch-geometric) (2024.6.1)\n",
      "Requirement already satisfied: jinja2 in /u/mbanisharifdehkordi/env4/lib/python3.9/site-packages (from torch-geometric) (3.1.4)\n",
      "Requirement already satisfied: aiohttp in /u/mbanisharifdehkordi/env4/lib/python3.9/site-packages (from torch-geometric) (3.10.0)\n",
      "Requirement already satisfied: requests in /u/mbanisharifdehkordi/env4/lib/python3.9/site-packages (from torch-geometric) (2.32.3)\n",
      "Requirement already satisfied: pyparsing in /u/mbanisharifdehkordi/env4/lib/python3.9/site-packages (from torch-geometric) (3.1.2)\n",
      "Requirement already satisfied: scikit-learn in /u/mbanisharifdehkordi/env4/lib/python3.9/site-packages (from torch-geometric) (1.5.1)\n",
      "Requirement already satisfied: psutil>=5.8.0 in /u/mbanisharifdehkordi/env4/lib/python3.9/site-packages (from torch-geometric) (6.0.0)\n",
      "Requirement already satisfied: aiohappyeyeballs>=2.3.0 in /u/mbanisharifdehkordi/env4/lib/python3.9/site-packages (from aiohttp->torch-geometric) (2.3.4)\n",
      "Requirement already satisfied: aiosignal>=1.1.2 in /u/mbanisharifdehkordi/env4/lib/python3.9/site-packages (from aiohttp->torch-geometric) (1.3.1)\n",
      "Requirement already satisfied: attrs>=17.3.0 in /u/mbanisharifdehkordi/env4/lib/python3.9/site-packages (from aiohttp->torch-geometric) (24.1.0)\n",
      "Requirement already satisfied: frozenlist>=1.1.1 in /u/mbanisharifdehkordi/env4/lib/python3.9/site-packages (from aiohttp->torch-geometric) (1.4.1)\n",
      "Requirement already satisfied: multidict<7.0,>=4.5 in /u/mbanisharifdehkordi/env4/lib/python3.9/site-packages (from aiohttp->torch-geometric) (6.0.5)\n",
      "Requirement already satisfied: yarl<2.0,>=1.0 in /u/mbanisharifdehkordi/env4/lib/python3.9/site-packages (from aiohttp->torch-geometric) (1.9.4)\n",
      "Requirement already satisfied: async-timeout<5.0,>=4.0 in /u/mbanisharifdehkordi/env4/lib/python3.9/site-packages (from aiohttp->torch-geometric) (4.0.3)\n",
      "Requirement already satisfied: MarkupSafe>=2.0 in /u/mbanisharifdehkordi/env4/lib/python3.9/site-packages (from jinja2->torch-geometric) (2.1.5)\n",
      "Requirement already satisfied: charset-normalizer<4,>=2 in /u/mbanisharifdehkordi/env4/lib/python3.9/site-packages (from requests->torch-geometric) (3.3.2)\n",
      "Requirement already satisfied: idna<4,>=2.5 in /u/mbanisharifdehkordi/env4/lib/python3.9/site-packages (from requests->torch-geometric) (3.7)\n",
      "Requirement already satisfied: urllib3<3,>=1.21.1 in /u/mbanisharifdehkordi/env4/lib/python3.9/site-packages (from requests->torch-geometric) (2.2.2)\n",
      "Requirement already satisfied: certifi>=2017.4.17 in /u/mbanisharifdehkordi/env4/lib/python3.9/site-packages (from requests->torch-geometric) (2024.7.4)\n",
      "Requirement already satisfied: joblib>=1.2.0 in /u/mbanisharifdehkordi/env4/lib/python3.9/site-packages (from scikit-learn->torch-geometric) (1.4.2)\n",
      "Requirement already satisfied: threadpoolctl>=3.1.0 in /u/mbanisharifdehkordi/env4/lib/python3.9/site-packages (from scikit-learn->torch-geometric) (3.5.0)\n"
     ]
    }
   ],
   "source": [
    "!~/env4/bin/pip install torch-geometric"
   ]
  },
  {
   "cell_type": "code",
   "execution_count": 5,
   "id": "4a6e29e8-95cc-496d-be17-752d3312e08c",
   "metadata": {
    "tags": []
   },
   "outputs": [
    {
     "name": "stdout",
     "output_type": "stream",
     "text": [
      "PyTorch version: 2.4.0+cu118\n",
      "PyTorch Geometric version: 2.5.3\n"
     ]
    }
   ],
   "source": [
    "import sys\n",
    "sys.path.append('/u/mbanisharifdehkordi/env4/lib/python3.9/site-packages')\n",
    "\n",
    "import torch\n",
    "import torch_geometric\n",
    "from torch_geometric.data import Data\n",
    "\n",
    "print(f\"PyTorch version: {torch.__version__}\")\n",
    "print(f\"PyTorch Geometric version: {torch_geometric.__version__}\")"
   ]
  },
  {
   "cell_type": "code",
   "execution_count": 11,
   "id": "bf94d94b-9cea-4ce1-9447-6f120a45911b",
   "metadata": {
    "tags": []
   },
   "outputs": [],
   "source": [
    "!source ~/env4/bin/activate"
   ]
  },
  {
   "cell_type": "code",
   "execution_count": 12,
   "id": "c2597efc-82b3-4387-92b0-ed0f4aea4bcc",
   "metadata": {
    "tags": []
   },
   "outputs": [
    {
     "name": "stdout",
     "output_type": "stream",
     "text": [
      "Traceback (most recent call last):\n",
      "  File \"/u/mbanisharifdehkordi/Github/Darshan-logs-Processing/gnn_training46.py\", line 5, in <module>\n",
      "    from torch_geometric.data import Data\n",
      "ModuleNotFoundError: No module named 'torch_geometric'\n"
     ]
    }
   ],
   "source": [
    "!python /u/mbanisharifdehkordi/Github/Darshan-logs-Processing/gnn_training46.py"
   ]
  },
  {
   "cell_type": "code",
   "execution_count": 13,
   "id": "edabae0c-4935-4aa6-a3e3-206a00770881",
   "metadata": {
    "collapsed": true,
    "jupyter": {
     "outputs_hidden": true
    },
    "tags": []
   },
   "outputs": [
    {
     "name": "stdout",
     "output_type": "stream",
     "text": [
      "Found existing installation: numpy 2.0.1\n",
      "Uninstalling numpy-2.0.1:\n",
      "  Successfully uninstalled numpy-2.0.1\n",
      "\u001b[33mWARNING: Failed to remove contents in a temporary directory '/u/mbanisharifdehkordi/env4/lib/python3.9/site-packages/~umpy.libs'.\n",
      "You can safely remove it manually.\u001b[0m\u001b[33m\n",
      "\u001b[0m\u001b[33mWARNING: Failed to remove contents in a temporary directory '/u/mbanisharifdehkordi/env4/lib/python3.9/site-packages/~umpy'.\n",
      "You can safely remove it manually.\u001b[0m\u001b[33m\n",
      "\u001b[0m"
     ]
    }
   ],
   "source": [
    "!~/env4/bin/pip uninstall -y numpy"
   ]
  },
  {
   "cell_type": "code",
   "execution_count": 14,
   "id": "e90870f3-ffe3-4894-93f0-ba902a9ebc26",
   "metadata": {
    "collapsed": true,
    "jupyter": {
     "outputs_hidden": true
    },
    "tags": []
   },
   "outputs": [
    {
     "name": "stdout",
     "output_type": "stream",
     "text": [
      "Collecting numpy==1.23.5\n",
      "  Downloading numpy-1.23.5-cp39-cp39-manylinux_2_17_x86_64.manylinux2014_x86_64.whl.metadata (2.3 kB)\n",
      "Downloading numpy-1.23.5-cp39-cp39-manylinux_2_17_x86_64.manylinux2014_x86_64.whl (17.1 MB)\n",
      "\u001b[2K   \u001b[90m━━━━━━━━━━━━━━━━━━━━━━━━━━━━━━━━━━━━━━━━\u001b[0m \u001b[32m17.1/17.1 MB\u001b[0m \u001b[31m91.8 MB/s\u001b[0m eta \u001b[36m0:00:00\u001b[0m:00:01\u001b[0m\n",
      "\u001b[?25hInstalling collected packages: numpy\n",
      "Successfully installed numpy-1.23.5\n"
     ]
    }
   ],
   "source": [
    "!~/env4/bin/pip install numpy==1.23.5"
   ]
  },
  {
   "cell_type": "code",
   "execution_count": 17,
   "id": "b9618e3b-54fa-4bd8-b44e-6fddb16f15a9",
   "metadata": {
    "collapsed": true,
    "jupyter": {
     "outputs_hidden": true
    },
    "tags": []
   },
   "outputs": [
    {
     "name": "stdout",
     "output_type": "stream",
     "text": [
      "Requirement already satisfied: gdown in /u/mbanisharifdehkordi/env4/lib/python3.9/site-packages (5.2.0)\n",
      "Requirement already satisfied: beautifulsoup4 in /u/mbanisharifdehkordi/env4/lib/python3.9/site-packages (from gdown) (4.12.3)\n",
      "Requirement already satisfied: filelock in /u/mbanisharifdehkordi/env4/lib/python3.9/site-packages (from gdown) (3.15.4)\n",
      "Requirement already satisfied: requests[socks] in /u/mbanisharifdehkordi/env4/lib/python3.9/site-packages (from gdown) (2.32.3)\n",
      "Requirement already satisfied: tqdm in /u/mbanisharifdehkordi/env4/lib/python3.9/site-packages (from gdown) (4.66.4)\n",
      "Requirement already satisfied: soupsieve>1.2 in /u/mbanisharifdehkordi/env4/lib/python3.9/site-packages (from beautifulsoup4->gdown) (2.5)\n",
      "Requirement already satisfied: charset-normalizer<4,>=2 in /u/mbanisharifdehkordi/env4/lib/python3.9/site-packages (from requests[socks]->gdown) (3.3.2)\n",
      "Requirement already satisfied: idna<4,>=2.5 in /u/mbanisharifdehkordi/env4/lib/python3.9/site-packages (from requests[socks]->gdown) (3.7)\n",
      "Requirement already satisfied: urllib3<3,>=1.21.1 in /u/mbanisharifdehkordi/env4/lib/python3.9/site-packages (from requests[socks]->gdown) (2.2.2)\n",
      "Requirement already satisfied: certifi>=2017.4.17 in /u/mbanisharifdehkordi/env4/lib/python3.9/site-packages (from requests[socks]->gdown) (2024.7.4)\n",
      "Requirement already satisfied: PySocks!=1.5.7,>=1.5.6 in /u/mbanisharifdehkordi/env4/lib/python3.9/site-packages (from requests[socks]->gdown) (1.7.1)\n"
     ]
    }
   ],
   "source": [
    "!~/env4/bin/pip install gdown"
   ]
  },
  {
   "cell_type": "code",
   "execution_count": 3,
   "id": "7592f6c4-8b68-4fa9-b524-3f71ffd51b67",
   "metadata": {
    "collapsed": true,
    "jupyter": {
     "outputs_hidden": true
    },
    "tags": []
   },
   "outputs": [
    {
     "name": "stdout",
     "output_type": "stream",
     "text": [
      "2024-08-03 17:43:33,396 - INFO - Downloading file from https://drive.google.com/uc?id=1AjejmV_qS4VJLBlRzRnFxAl2vkD4L0zE&export=download to CSVs/sample_train.csv\n",
      "2024-08-03 17:43:33,399 - DEBUG - Starting new HTTPS connection (1): drive.google.com:443\n",
      "2024-08-03 17:43:35,076 - DEBUG - https://drive.google.com:443 \"GET /uc?id=1AjejmV_qS4VJLBlRzRnFxAl2vkD4L0zE&export=download HTTP/11\" 200 None\n",
      "2024-08-03 17:43:35,185 - DEBUG - https://drive.google.com:443 \"GET /uc?id=1AjejmV_qS4VJLBlRzRnFxAl2vkD4L0zE&export=download&confirm=t&uuid=cf836623-3f0b-48d5-bc42-53b45de76dd4 HTTP/11\" 303 0\n",
      "2024-08-03 17:43:35,187 - DEBUG - Starting new HTTPS connection (1): doc-10-4o-docs.googleusercontent.com:443\n",
      "2024-08-03 17:43:37,010 - DEBUG - https://doc-10-4o-docs.googleusercontent.com:443 \"GET /docs/securesc/ha0ro937gcuc7l7deffksulhg5h7mbp1/hlilqup0fihpbsvvcd2lkb6g9ppjdohv/1722724950000/01540375114691916751/*/1AjejmV_qS4VJLBlRzRnFxAl2vkD4L0zE?e=download&uuid=cf836623-3f0b-48d5-bc42-53b45de76dd4 HTTP/11\" 200 4557641567\n",
      "Downloading...\n",
      "From (original): https://drive.google.com/uc?id=1AjejmV_qS4VJLBlRzRnFxAl2vkD4L0zE&export=download\n",
      "From (redirected): https://drive.google.com/uc?id=1AjejmV_qS4VJLBlRzRnFxAl2vkD4L0zE&export=download&confirm=t&uuid=cf836623-3f0b-48d5-bc42-53b45de76dd4\n",
      "To: /u/mbanisharifdehkordi/Github/Darshan-logs-Processing/CSVs/sample_train.csv\n",
      "100%|███████████████████████████████████████| 4.56G/4.56G [00:24<00:00, 183MB/s]\n",
      "2024-08-03 17:44:04,689 - INFO - Starting data processing.\n",
      "2024-08-03 17:44:04,690 - INFO - Loading graph structure from Graphs/Graph46/graph_structure.yaml\n",
      "2024-08-03 17:44:04,694 - INFO - Graph structure loaded successfully.\n",
      "2024-08-03 17:44:04,694 - INFO - Loading dataset from CSVs/sample_train.csv\n",
      "2024-08-03 17:44:36,314 - INFO - Dataset loaded successfully.\n",
      "2024-08-03 17:44:36,314 - INFO - Splitting dataset into training and testing sets with test size = 0.5\n",
      "2024-08-03 17:44:38,568 - INFO - Dataset split into 3323609 training rows and 3323610 testing rows.\n",
      "2024-08-03 17:44:38,568 - INFO - Processing training data with 3323609 rows.\n",
      "2024-08-03 17:44:41,738 - INFO - All graphs saved to Graphs/Graph46/train_graphs.csv.\n",
      "2024-08-03 17:44:41,770 - INFO - Processing testing data with 3323610 rows.\n",
      "2024-08-03 17:44:44,949 - INFO - All graphs saved to Graphs/Graph46/test_graphs.csv.\n",
      "2024-08-03 17:44:44,987 - INFO - Data processing completed.\n",
      "2024-08-03 17:44:44,988 - INFO - Deleting the downloaded file CSVs/sample_train.csv\n",
      "2024-08-03 17:44:45,176 - INFO - File deleted.\n"
     ]
    }
   ],
   "source": [
    "!source ~/env4/bin/activate && python /u/mbanisharifdehkordi/Github/Darshan-logs-Processing/generate_graph46.py"
   ]
  },
  {
   "cell_type": "code",
   "execution_count": 1,
   "id": "3f6bc94b-c687-4a15-8e32-46966a9c273b",
   "metadata": {
    "tags": []
   },
   "outputs": [
    {
     "name": "stdout",
     "output_type": "stream",
     "text": [
      "/u/mbanisharifdehkordi/Github/Darshan-logs-Processing/gnn_training46.py:104: FutureWarning: You are using `torch.load` with `weights_only=False` (the current default value), which uses the default pickle module implicitly. It is possible to construct malicious pickle data which will execute arbitrary code during unpickling (See https://github.com/pytorch/pytorch/blob/main/SECURITY.md#untrusted-models for more details). In a future release, the default value for `weights_only` will be flipped to `True`. This limits the functions that could be executed during unpickling. Arbitrary objects will no longer be allowed to be loaded via this mode unless they are explicitly allowlisted by the user via `torch.serialization.add_safe_globals`. We recommend you start setting `weights_only=True` for any use case where you don't have full control of the loaded file. Please open an issue on GitHub for any issues related to this experimental feature.\n",
      "  checkpoint = torch.load(checkpoint_path)\n",
      "2024-08-03 17:50:36,784 - INFO - Loaded checkpoint from Graphs/Graph46/checkpoint.pt, starting at epoch 1\n",
      "2024-08-03 17:51:27,236 - INFO - Epoch 1, Train Loss: 1.3697, Train RMSE: 0.9477, Test RMSE: 0.9461, Train Acc: 0.4402, Test Acc: 0.4476\n",
      "2024-08-03 17:53:04,365 - INFO - Epoch 2, Train Loss: 1.2782, Train RMSE: 1.0253, Test RMSE: 1.0110, Train Acc: 0.4356, Test Acc: 0.4376\n",
      "2024-08-03 17:54:17,048 - INFO - Epoch 3, Train Loss: 1.2584, Train RMSE: 1.0292, Test RMSE: 1.0136, Train Acc: 0.4337, Test Acc: 0.4356\n",
      "2024-08-03 17:55:05,267 - INFO - Epoch 4, Train Loss: 1.2531, Train RMSE: 0.9478, Test RMSE: 0.9424, Train Acc: 0.4214, Test Acc: 0.4256\n",
      "2024-08-03 17:57:08,678 - INFO - Epoch 5, Train Loss: 1.2519, Train RMSE: 1.0332, Test RMSE: 1.0176, Train Acc: 0.4269, Test Acc: 0.4298\n",
      "2024-08-03 17:58:32,708 - INFO - Epoch 6, Train Loss: 1.2506, Train RMSE: 0.9901, Test RMSE: 0.9777, Train Acc: 0.4620, Test Acc: 0.4639\n",
      "2024-08-03 18:00:27,429 - INFO - Epoch 7, Train Loss: 1.2436, Train RMSE: 1.0149, Test RMSE: 0.9966, Train Acc: 0.4663, Test Acc: 0.4764\n",
      "2024-08-03 18:02:47,261 - INFO - Epoch 8, Train Loss: 1.2455, Train RMSE: 1.0594, Test RMSE: 1.0546, Train Acc: 0.4561, Test Acc: 0.4580\n",
      "2024-08-03 18:04:26,121 - INFO - Epoch 9, Train Loss: 1.2414, Train RMSE: 1.0217, Test RMSE: 1.0077, Train Acc: 0.4518, Test Acc: 0.4564\n",
      "2024-08-03 18:06:31,592 - INFO - Epoch 10, Train Loss: 1.2391, Train RMSE: 1.0545, Test RMSE: 1.0462, Train Acc: 0.4577, Test Acc: 0.4649\n",
      "2024-08-03 18:08:24,103 - INFO - Epoch 11, Train Loss: 1.2425, Train RMSE: 0.9437, Test RMSE: 0.9411, Train Acc: 0.4840, Test Acc: 0.4924\n",
      "2024-08-03 18:10:11,270 - INFO - Epoch 12, Train Loss: 1.2362, Train RMSE: 0.9136, Test RMSE: 0.9138, Train Acc: 0.4979, Test Acc: 0.5026\n",
      "2024-08-03 18:11:52,371 - INFO - Epoch 13, Train Loss: 1.2356, Train RMSE: 0.9182, Test RMSE: 0.9150, Train Acc: 0.5047, Test Acc: 0.5083\n",
      "2024-08-03 18:13:16,443 - INFO - Epoch 14, Train Loss: 1.2348, Train RMSE: 0.9559, Test RMSE: 0.9459, Train Acc: 0.4800, Test Acc: 0.4916\n",
      "2024-08-03 18:14:07,542 - INFO - Epoch 15, Train Loss: 1.2372, Train RMSE: 1.0406, Test RMSE: 1.0336, Train Acc: 0.4627, Test Acc: 0.4680\n",
      "2024-08-03 18:15:40,576 - INFO - Epoch 16, Train Loss: 1.2332, Train RMSE: 1.0500, Test RMSE: 1.0445, Train Acc: 0.4611, Test Acc: 0.4666\n",
      "2024-08-03 18:16:40,077 - INFO - Epoch 17, Train Loss: 1.2299, Train RMSE: 1.0152, Test RMSE: 0.9967, Train Acc: 0.4620, Test Acc: 0.4710\n",
      "2024-08-03 18:18:27,451 - INFO - Epoch 18, Train Loss: 1.2324, Train RMSE: 1.0320, Test RMSE: 1.0181, Train Acc: 0.4575, Test Acc: 0.4655\n",
      "2024-08-03 18:19:37,723 - INFO - Epoch 19, Train Loss: 1.2274, Train RMSE: 0.9729, Test RMSE: 0.9555, Train Acc: 0.4833, Test Acc: 0.4946\n",
      "2024-08-03 18:21:02,781 - INFO - Epoch 20, Train Loss: 1.2286, Train RMSE: 0.9227, Test RMSE: 0.9191, Train Acc: 0.4499, Test Acc: 0.4551\n",
      "2024-08-03 18:22:44,248 - INFO - Epoch 21, Train Loss: 1.2281, Train RMSE: 0.9968, Test RMSE: 0.9813, Train Acc: 0.4723, Test Acc: 0.4819\n",
      "2024-08-03 18:24:13,994 - INFO - Epoch 22, Train Loss: 1.2268, Train RMSE: 0.9058, Test RMSE: 0.9035, Train Acc: 0.5144, Test Acc: 0.5218\n",
      "2024-08-03 18:25:53,147 - INFO - Epoch 23, Train Loss: 1.2240, Train RMSE: 1.0432, Test RMSE: 1.0337, Train Acc: 0.4618, Test Acc: 0.4678\n",
      "2024-08-03 18:27:19,999 - INFO - Epoch 24, Train Loss: 1.2228, Train RMSE: 1.0604, Test RMSE: 1.0483, Train Acc: 0.4606, Test Acc: 0.4674\n",
      "2024-08-03 18:28:32,120 - INFO - Epoch 25, Train Loss: 1.2220, Train RMSE: 1.0076, Test RMSE: 0.9989, Train Acc: 0.4648, Test Acc: 0.4735\n",
      "2024-08-03 18:30:20,331 - INFO - Epoch 26, Train Loss: 1.2250, Train RMSE: 1.0123, Test RMSE: 1.0063, Train Acc: 0.4659, Test Acc: 0.4732\n",
      "2024-08-03 18:33:13,056 - INFO - Epoch 27, Train Loss: 1.2220, Train RMSE: 0.9346, Test RMSE: 0.9292, Train Acc: 0.5084, Test Acc: 0.5129\n",
      "2024-08-03 18:34:21,434 - INFO - Epoch 28, Train Loss: 1.2201, Train RMSE: 0.9418, Test RMSE: 0.9312, Train Acc: 0.5078, Test Acc: 0.5135\n",
      "2024-08-03 18:35:58,581 - INFO - Epoch 29, Train Loss: 1.2160, Train RMSE: 0.9516, Test RMSE: 0.9430, Train Acc: 0.5083, Test Acc: 0.5123\n",
      "2024-08-03 18:37:31,433 - INFO - Epoch 30, Train Loss: 1.2188, Train RMSE: 0.9830, Test RMSE: 0.9748, Train Acc: 0.4875, Test Acc: 0.4946\n",
      "^C\n",
      "Traceback (most recent call last):\n",
      "  File \"/u/mbanisharifdehkordi/Github/Darshan-logs-Processing/gnn_training46.py\", line 181, in <module>\n",
      "    train_losses, train_rmse_scores, test_rmse_scores, train_accuracies, test_accuracies = train(model, train_loader, test_loader, criterion, optimizer, scheduler, num_epochs, checkpoint_path)\n",
      "  File \"/u/mbanisharifdehkordi/Github/Darshan-logs-Processing/gnn_training46.py\", line 129, in train\n",
      "    output = model(data)\n",
      "  File \"/u/mbanisharifdehkordi/env4/lib/python3.9/site-packages/torch/nn/modules/module.py\", line 1553, in _wrapped_call_impl\n",
      "    return self._call_impl(*args, **kwargs)\n",
      "  File \"/u/mbanisharifdehkordi/env4/lib/python3.9/site-packages/torch/nn/modules/module.py\", line 1562, in _call_impl\n",
      "    return forward_call(*args, **kwargs)\n",
      "  File \"/u/mbanisharifdehkordi/Github/Darshan-logs-Processing/gnn_training46.py\", line 42, in forward\n",
      "    x = global_mean_pool(x, batch)\n",
      "  File \"/u/mbanisharifdehkordi/env4/lib/python3.9/site-packages/torch_geometric/nn/pool/glob.py\", line 63, in global_mean_pool\n",
      "    return scatter(x, batch, dim=dim, dim_size=size, reduce='mean')\n",
      "  File \"/u/mbanisharifdehkordi/env4/lib/python3.9/site-packages/torch_geometric/utils/_scatter.py\", line 83, in scatter\n",
      "    out = src.new_zeros(size).scatter_add_(dim, index, src)\n",
      "KeyboardInterrupt\n"
     ]
    }
   ],
   "source": [
    "!source ~/env4/bin/activate && python /u/mbanisharifdehkordi/Github/Darshan-logs-Processing/gnn_training46.py"
   ]
  },
  {
   "cell_type": "code",
   "execution_count": null,
   "id": "765718ce-5e8f-47f8-9e06-fc0f9968fcc7",
   "metadata": {
    "collapsed": true,
    "jupyter": {
     "outputs_hidden": true
    },
    "tags": []
   },
   "outputs": [
    {
     "name": "stdout",
     "output_type": "stream",
     "text": [
      "/u/mbanisharifdehkordi/Github/Darshan-logs-Processing/gnn_training46.py:104: FutureWarning: You are using `torch.load` with `weights_only=False` (the current default value), which uses the default pickle module implicitly. It is possible to construct malicious pickle data which will execute arbitrary code during unpickling (See https://github.com/pytorch/pytorch/blob/main/SECURITY.md#untrusted-models for more details). In a future release, the default value for `weights_only` will be flipped to `True`. This limits the functions that could be executed during unpickling. Arbitrary objects will no longer be allowed to be loaded via this mode unless they are explicitly allowlisted by the user via `torch.serialization.add_safe_globals`. We recommend you start setting `weights_only=True` for any use case where you don't have full control of the loaded file. Please open an issue on GitHub for any issues related to this experimental feature.\n",
      "  checkpoint = torch.load(checkpoint_path)\n",
      "2024-08-03 19:11:21,856 - INFO - Loaded checkpoint from Graphs/Graph46/checkpoint.pt, starting at epoch 40\n",
      "2024-08-03 19:13:54,398 - INFO - Epoch 40, Train Loss: 1.2140, Train RMSE: 0.9229, Test RMSE: 0.9166, Train Acc: 0.5079, Test Acc: 0.5130\n",
      "2024-08-03 19:16:18,194 - INFO - Epoch 41, Train Loss: 1.2107, Train RMSE: 0.9195, Test RMSE: 0.9134, Train Acc: 0.5109, Test Acc: 0.5178\n",
      "2024-08-03 19:18:36,461 - INFO - Epoch 42, Train Loss: 1.2065, Train RMSE: 0.9527, Test RMSE: 0.9453, Train Acc: 0.5001, Test Acc: 0.5041\n",
      "2024-08-03 19:21:51,828 - INFO - Epoch 43, Train Loss: 1.2074, Train RMSE: 0.9267, Test RMSE: 0.9178, Train Acc: 0.4922, Test Acc: 0.5010\n",
      "2024-08-03 19:24:10,987 - INFO - Epoch 44, Train Loss: 1.2090, Train RMSE: 0.9670, Test RMSE: 0.9581, Train Acc: 0.4972, Test Acc: 0.5031\n",
      "2024-08-03 19:27:35,466 - INFO - Epoch 45, Train Loss: 1.2095, Train RMSE: 0.9420, Test RMSE: 0.9375, Train Acc: 0.5081, Test Acc: 0.5114\n",
      "2024-08-03 19:31:07,509 - INFO - Epoch 46, Train Loss: 1.2114, Train RMSE: 0.9686, Test RMSE: 0.9586, Train Acc: 0.4919, Test Acc: 0.4986\n",
      "2024-08-03 19:33:46,325 - INFO - Epoch 47, Train Loss: 1.2107, Train RMSE: 1.0054, Test RMSE: 0.9979, Train Acc: 0.4826, Test Acc: 0.4881\n"
     ]
    }
   ],
   "source": [
    "!source ~/env4/bin/activate && python /u/mbanisharifdehkordi/Github/Darshan-logs-Processing/gnn_training46.py"
   ]
  },
  {
   "cell_type": "code",
   "execution_count": null,
   "id": "195b5085-5541-4f2f-9395-b1f79cc8a927",
   "metadata": {
    "tags": []
   },
   "outputs": [],
   "source": [
    "!source ~/env4/bin/activate && python /u/mbanisharifdehkordi/Github/Darshan-logs-Processing/gnn_training48.py"
   ]
  },
  {
   "cell_type": "code",
   "execution_count": null,
   "id": "9e7958c4-5a29-4b41-b8f7-69b73793d12f",
   "metadata": {},
   "outputs": [],
   "source": []
  }
 ],
 "metadata": {
  "kernelspec": {
   "display_name": "Python (env4)",
   "language": "python",
   "name": "env4"
  },
  "language_info": {
   "codemirror_mode": {
    "name": "ipython",
    "version": 3
   },
   "file_extension": ".py",
   "mimetype": "text/x-python",
   "name": "python",
   "nbconvert_exporter": "python",
   "pygments_lexer": "ipython3",
   "version": "3.9.18"
  }
 },
 "nbformat": 4,
 "nbformat_minor": 5
}
