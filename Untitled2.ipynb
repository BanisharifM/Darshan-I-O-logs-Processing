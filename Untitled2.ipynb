{
 "cells": [
  {
   "cell_type": "code",
   "execution_count": null,
   "id": "f7ac10f3-f363-40d2-b367-238c1e2bdce6",
   "metadata": {
    "tags": []
   },
   "outputs": [],
   "source": [
    "!python gnn_training44.py"
   ]
  },
  {
   "cell_type": "code",
   "execution_count": null,
   "id": "b5a3b21a-dbca-40d0-82b2-c1b5df43452c",
   "metadata": {},
   "outputs": [],
   "source": []
  }
 ],
 "metadata": {
  "kernelspec": {
   "display_name": "Python 3 (ipykernel)",
   "language": "python",
   "name": "python3"
  },
  "language_info": {
   "codemirror_mode": {
    "name": "ipython",
    "version": 3
   },
   "file_extension": ".py",
   "mimetype": "text/x-python",
   "name": "python",
   "nbconvert_exporter": "python",
   "pygments_lexer": "ipython3",
   "version": "3.10.11"
  }
 },
 "nbformat": 4,
 "nbformat_minor": 5
}
