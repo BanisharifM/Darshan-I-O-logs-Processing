{
 "cells": [
  {
   "cell_type": "code",
   "execution_count": null,
   "id": "8eae6f4b-ec2b-4e33-8123-a7d8af48b79d",
   "metadata": {
    "tags": []
   },
   "outputs": [
    {
     "name": "stdout",
     "output_type": "stream",
     "text": [
      "2024-06-25 09:03:55,730 - Processing chunk 1\n",
      "2024-06-25 09:05:09,718 - Processing chunk 2\n",
      "2024-06-25 09:06:23,033 - Processing chunk 3\n",
      "2024-06-25 09:07:39,193 - Processing chunk 4\n",
      "2024-06-25 09:08:55,319 - Processing chunk 5\n",
      "^C\n",
      "Traceback (most recent call last):\n",
      "  File \"/work/LAS/jannesar-lab/Mahdi/Darshan-logs-Processing/correlation_full.py\", line 61, in <module>\n",
      "    new_correlation_results_df = compute_correlations(chunk)\n",
      "  File \"/work/LAS/jannesar-lab/Mahdi/Darshan-logs-Processing/correlation_full.py\", line 39, in compute_correlations\n",
      "    mutual_info = mutual_info_regression(data[[attr1]], data[attr2])[0]\n",
      "  File \"/work/LAS/jannesar-lab/.ondemand/msharif/jupyter-envs/20230427/lib/python3.10/site-packages/sklearn/utils/_param_validation.py\", line 213, in wrapper\n",
      "    return func(*args, **kwargs)\n",
      "  File \"/work/LAS/jannesar-lab/.ondemand/msharif/jupyter-envs/20230427/lib/python3.10/site-packages/sklearn/feature_selection/_mutual_info.py\", line 410, in mutual_info_regression\n",
      "    return _estimate_mi(X, y, discrete_features, False, n_neighbors, copy, random_state)\n",
      "  File \"/work/LAS/jannesar-lab/.ondemand/msharif/jupyter-envs/20230427/lib/python3.10/site-packages/sklearn/feature_selection/_mutual_info.py\", line 304, in _estimate_mi\n",
      "    mi = [\n",
      "  File \"/work/LAS/jannesar-lab/.ondemand/msharif/jupyter-envs/20230427/lib/python3.10/site-packages/sklearn/feature_selection/_mutual_info.py\", line 305, in <listcomp>\n",
      "    _compute_mi(x, y, discrete_feature, discrete_target, n_neighbors)\n",
      "  File \"/work/LAS/jannesar-lab/.ondemand/msharif/jupyter-envs/20230427/lib/python3.10/site-packages/sklearn/feature_selection/_mutual_info.py\", line 168, in _compute_mi\n",
      "    return _compute_mi_cc(x, y, n_neighbors)\n",
      "  File \"/work/LAS/jannesar-lab/.ondemand/msharif/jupyter-envs/20230427/lib/python3.10/site-packages/sklearn/feature_selection/_mutual_info.py\", line 65, in _compute_mi_cc\n",
      "    nx = kd.query_radius(x, radius, count_only=True, return_distance=False)\n",
      "KeyboardInterrupt\n"
     ]
    }
   ],
   "source": [
    "!python3 correlation_full.py"
   ]
  },
  {
   "cell_type": "code",
   "execution_count": null,
   "id": "eee9fe10-36f9-434c-9142-820ffb8fd0b5",
   "metadata": {},
   "outputs": [],
   "source": []
  }
 ],
 "metadata": {
  "kernelspec": {
   "display_name": "Python 3 (ipykernel)",
   "language": "python",
   "name": "python3"
  },
  "language_info": {
   "codemirror_mode": {
    "name": "ipython",
    "version": 3
   },
   "file_extension": ".py",
   "mimetype": "text/x-python",
   "name": "python",
   "nbconvert_exporter": "python",
   "pygments_lexer": "ipython3",
   "version": "3.10.11"
  }
 },
 "nbformat": 4,
 "nbformat_minor": 5
}
