{
 "cells": [
  {
   "cell_type": "code",
   "execution_count": 1,
   "id": "80ec8b2d-5aff-499b-850d-db4c7d82027c",
   "metadata": {
    "collapsed": true,
    "jupyter": {
     "outputs_hidden": true
    },
    "tags": []
   },
   "outputs": [
    {
     "name": "stdout",
     "output_type": "stream",
     "text": [
      "2024-09-03 04:24:11,406 - INFO - Starting data processing.\n",
      "2024-09-03 04:24:11,409 - INFO - Loading dataset from CSVs/sample_train_total.csv\n",
      "2024-09-03 04:24:44,786 - INFO - Dataset loaded successfully with 6647219 rows.\n",
      "2024-09-03 04:24:44,786 - INFO - Processing all 6647219 rows.\n",
      "2024-09-03 04:24:44,786 - INFO - Splitting dataset into training and testing sets with test size = 0.25\n",
      "2024-09-03 04:24:47,012 - INFO - Dataset split into 4985414 training rows and 1661805 testing rows.\n",
      "2024-09-03 04:27:21,916 - INFO - Training data saved to NN/NN_103/train_data.csv.\n",
      "2024-09-03 04:28:13,613 - INFO - Testing data saved to NN/NN_103/test_data.csv.\n",
      "2024-09-03 04:28:13,620 - INFO - Data processing completed.\n"
     ]
    }
   ],
   "source": [
    "# file_path = 'CSVs/sample_train_total.csv'\n",
    "# total_rows = None  # Set to None to process all rows\n",
    "# output_dir = 'NN/NN_103'\n",
    "\n",
    "!source ~/env4/bin/activate && python /u/mbanisharifdehkordi/Github/GNN_4_IO/nn_dataset101.py"
   ]
  },
  {
   "cell_type": "code",
   "execution_count": null,
   "id": "a9fc5608-0e72-45eb-a5f8-6d962e4701f0",
   "metadata": {
    "tags": []
   },
   "outputs": [
    {
     "name": "stdout",
     "output_type": "stream",
     "text": [
      "2024-09-03 04:43:07,704 - INFO - Epoch 1, Train Loss: 0.1954, Train RMSE: 0.3881, Test RMSE: 0.3886, Train MAE: 0.3045, Test MAE: 0.3048, Train R²: 0.8413, Test R²: 0.8410\n",
      "2024-09-03 04:47:29,649 - INFO - Epoch 2, Train Loss: 0.1769, Train RMSE: 0.3591, Test RMSE: 0.3596, Train MAE: 0.2674, Test MAE: 0.2678, Train R²: 0.8641, Test R²: 0.8638\n",
      "2024-09-03 04:51:52,400 - INFO - Epoch 3, Train Loss: 0.1759, Train RMSE: 0.3756, Test RMSE: 0.3760, Train MAE: 0.2859, Test MAE: 0.2862, Train R²: 0.8514, Test R²: 0.8511\n",
      "2024-09-03 04:56:14,613 - INFO - Epoch 4, Train Loss: 0.1749, Train RMSE: 0.3658, Test RMSE: 0.3664, Train MAE: 0.2749, Test MAE: 0.2752, Train R²: 0.8590, Test R²: 0.8586\n",
      "2024-09-03 05:00:35,498 - INFO - Epoch 5, Train Loss: 0.1746, Train RMSE: 0.3988, Test RMSE: 0.3993, Train MAE: 0.3029, Test MAE: 0.3032, Train R²: 0.8324, Test R²: 0.8321\n",
      "2024-09-03 05:04:56,657 - INFO - Epoch 6, Train Loss: 0.1744, Train RMSE: 0.3641, Test RMSE: 0.3646, Train MAE: 0.2715, Test MAE: 0.2719, Train R²: 0.8603, Test R²: 0.8600\n",
      "2024-09-03 05:09:16,659 - INFO - Epoch 7, Train Loss: 0.1742, Train RMSE: 0.3612, Test RMSE: 0.3617, Train MAE: 0.2682, Test MAE: 0.2685, Train R²: 0.8626, Test R²: 0.8622\n",
      "2024-09-03 05:13:34,470 - INFO - Epoch 8, Train Loss: 0.1747, Train RMSE: 0.3702, Test RMSE: 0.3708, Train MAE: 0.2725, Test MAE: 0.2729, Train R²: 0.8556, Test R²: 0.8552\n",
      "2024-09-03 05:17:54,264 - INFO - Epoch 9, Train Loss: 0.1745, Train RMSE: 0.3682, Test RMSE: 0.3685, Train MAE: 0.2714, Test MAE: 0.2716, Train R²: 0.8572, Test R²: 0.8570\n",
      "2024-09-03 05:22:13,788 - INFO - Epoch 10, Train Loss: 0.1737, Train RMSE: 0.3680, Test RMSE: 0.3684, Train MAE: 0.2763, Test MAE: 0.2766, Train R²: 0.8573, Test R²: 0.8570\n",
      "2024-09-03 05:26:32,843 - INFO - Epoch 11, Train Loss: 0.1739, Train RMSE: 0.3735, Test RMSE: 0.3740, Train MAE: 0.2825, Test MAE: 0.2830, Train R²: 0.8530, Test R²: 0.8527\n",
      "2024-09-03 05:30:52,779 - INFO - Epoch 12, Train Loss: 0.1735, Train RMSE: 0.3728, Test RMSE: 0.3732, Train MAE: 0.2841, Test MAE: 0.2844, Train R²: 0.8536, Test R²: 0.8533\n",
      "2024-09-03 05:35:13,514 - INFO - Epoch 13, Train Loss: 0.1736, Train RMSE: 0.3675, Test RMSE: 0.3680, Train MAE: 0.2699, Test MAE: 0.2703, Train R²: 0.8577, Test R²: 0.8574\n",
      "2024-09-03 05:39:30,762 - INFO - Epoch 14, Train Loss: 0.1731, Train RMSE: 0.3437, Test RMSE: 0.3442, Train MAE: 0.2519, Test MAE: 0.2523, Train R²: 0.8756, Test R²: 0.8752\n",
      "2024-09-03 05:43:47,216 - INFO - Epoch 15, Train Loss: 0.1734, Train RMSE: 0.3493, Test RMSE: 0.3501, Train MAE: 0.2531, Test MAE: 0.2535, Train R²: 0.8714, Test R²: 0.8709\n",
      "2024-09-03 05:48:03,496 - INFO - Epoch 16, Train Loss: 0.1732, Train RMSE: 0.3758, Test RMSE: 0.3763, Train MAE: 0.2841, Test MAE: 0.2845, Train R²: 0.8512, Test R²: 0.8509\n",
      "2024-09-03 05:52:18,886 - INFO - Epoch 17, Train Loss: 0.1733, Train RMSE: 0.3656, Test RMSE: 0.3662, Train MAE: 0.2636, Test MAE: 0.2639, Train R²: 0.8592, Test R²: 0.8587\n",
      "2024-09-03 05:56:36,750 - INFO - Epoch 18, Train Loss: 0.1734, Train RMSE: 0.3548, Test RMSE: 0.3553, Train MAE: 0.2604, Test MAE: 0.2607, Train R²: 0.8673, Test R²: 0.8670\n",
      "2024-09-03 06:00:55,194 - INFO - Epoch 19, Train Loss: 0.1733, Train RMSE: 0.3594, Test RMSE: 0.3598, Train MAE: 0.2655, Test MAE: 0.2658, Train R²: 0.8639, Test R²: 0.8636\n",
      "2024-09-03 06:05:10,422 - INFO - Epoch 20, Train Loss: 0.1732, Train RMSE: 0.3609, Test RMSE: 0.3615, Train MAE: 0.2706, Test MAE: 0.2710, Train R²: 0.8628, Test R²: 0.8624\n",
      "2024-09-03 06:09:24,149 - INFO - Epoch 21, Train Loss: 0.1734, Train RMSE: 0.3534, Test RMSE: 0.3539, Train MAE: 0.2625, Test MAE: 0.2628, Train R²: 0.8684, Test R²: 0.8681\n",
      "2024-09-03 06:13:38,182 - INFO - Epoch 22, Train Loss: 0.1736, Train RMSE: 0.3639, Test RMSE: 0.3643, Train MAE: 0.2669, Test MAE: 0.2671, Train R²: 0.8605, Test R²: 0.8602\n",
      "2024-09-03 06:17:52,227 - INFO - Epoch 23, Train Loss: 0.1739, Train RMSE: 0.3641, Test RMSE: 0.3647, Train MAE: 0.2746, Test MAE: 0.2750, Train R²: 0.8603, Test R²: 0.8599\n"
     ]
    }
   ],
   "source": [
    "!source ~/env4/bin/activate && python /u/mbanisharifdehkordi/Github/GNN_4_IO/nn_training103.py"
   ]
  },
  {
   "cell_type": "code",
   "execution_count": null,
   "id": "ca5a77f0-e6a6-4e53-9ae2-b995620b6cbd",
   "metadata": {},
   "outputs": [],
   "source": []
  }
 ],
 "metadata": {
  "kernelspec": {
   "display_name": "Python (env4)",
   "language": "python",
   "name": "env4"
  },
  "language_info": {
   "codemirror_mode": {
    "name": "ipython",
    "version": 3
   },
   "file_extension": ".py",
   "mimetype": "text/x-python",
   "name": "python",
   "nbconvert_exporter": "python",
   "pygments_lexer": "ipython3",
   "version": "3.9.18"
  }
 },
 "nbformat": 4,
 "nbformat_minor": 5
}
