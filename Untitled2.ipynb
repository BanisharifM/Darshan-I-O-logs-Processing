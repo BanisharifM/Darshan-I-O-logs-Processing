{
 "cells": [
  {
   "cell_type": "code",
   "execution_count": 6,
   "id": "aee9373c-53ca-4ddf-b9a6-4bc35d5fc766",
   "metadata": {
    "tags": []
   },
   "outputs": [
    {
     "name": "stdout",
     "output_type": "stream",
     "text": [
      "Figure(3000x2000)\n"
     ]
    }
   ],
   "source": [
    "!python3 visualizations_correlation_graph.py"
   ]
  },
  {
   "cell_type": "code",
   "execution_count": null,
   "id": "f6efe263-f13a-412c-b498-e85f50afb384",
   "metadata": {},
   "outputs": [],
   "source": []
  }
 ],
 "metadata": {
  "kernelspec": {
   "display_name": "Python 3 (ipykernel)",
   "language": "python",
   "name": "python3"
  },
  "language_info": {
   "codemirror_mode": {
    "name": "ipython",
    "version": 3
   },
   "file_extension": ".py",
   "mimetype": "text/x-python",
   "name": "python",
   "nbconvert_exporter": "python",
   "pygments_lexer": "ipython3",
   "version": "3.10.11"
  }
 },
 "nbformat": 4,
 "nbformat_minor": 5
}
