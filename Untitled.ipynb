{
 "cells": [
  {
   "cell_type": "code",
   "execution_count": null,
   "id": "2912769b-0018-41d5-a729-aa84c1f9282b",
   "metadata": {
    "tags": []
   },
   "outputs": [],
   "source": [
    "!python3 gnn.py"
   ]
  },
  {
   "cell_type": "code",
   "execution_count": 15,
   "id": "ade151d1-4e87-4fa2-a304-a4131c0f110e",
   "metadata": {
    "collapsed": true,
    "jupyter": {
     "outputs_hidden": true
    },
    "tags": []
   },
   "outputs": [
    {
     "name": "stdout",
     "output_type": "stream",
     "text": [
      "Accuracy: 0.9500\n",
      "Classification Report:\n",
      "              precision    recall  f1-score   support\n",
      "\n",
      "           0       1.00      1.00      1.00        40\n",
      "           1       0.92      1.00      0.96        55\n",
      "           2       0.00      0.00      0.00         3\n",
      "           4       0.00      0.00      0.00         1\n",
      "           5       0.00      0.00      0.00         1\n",
      "\n",
      "    accuracy                           0.95       100\n",
      "   macro avg       0.38      0.40      0.39       100\n",
      "weighted avg       0.90      0.95      0.93       100\n",
      "\n",
      "Test results saved to results/test_results.txt\n",
      "Confusion matrix saved to results/confusion_matrix.png\n",
      "Accuracy plot saved to results/accuracy_plot.png\n"
     ]
    }
   ],
   "source": [
    "!python3 test.py"
   ]
  },
  {
   "cell_type": "code",
   "execution_count": 23,
   "id": "b8e24d7d-85de-4fab-ad1d-9c7a8ec622d3",
   "metadata": {
    "collapsed": true,
    "jupyter": {
     "outputs_hidden": true
    },
    "tags": []
   },
   "outputs": [
    {
     "name": "stdout",
     "output_type": "stream",
     "text": [
      "Traceback (most recent call last):\n",
      "  File \"/work/LAS/jannesar-lab/Mahdi/Darshan-logs-Processing/visualizations_correlation_graph.py\", line 50, in <module>\n",
      "    pos = hierarchy_pos(G, root)\n",
      "  File \"/work/LAS/jannesar-lab/Mahdi/Darshan-logs-Processing/visualizations_correlation_graph.py\", line 27, in hierarchy_pos\n",
      "    pos = _hierarchy_pos(G, root, width, vert_gap, vert_loc, xcenter)\n",
      "  File \"/work/LAS/jannesar-lab/Mahdi/Darshan-logs-Processing/visualizations_correlation_graph.py\", line 43, in _hierarchy_pos\n",
      "    pos = _hierarchy_pos(G, child, width=dx, vert_gap=vert_gap, vert_loc=vert_loc-vert_gap, xcenter=nextx, pos=pos, parent=root)\n",
      "  File \"/work/LAS/jannesar-lab/Mahdi/Darshan-logs-Processing/visualizations_correlation_graph.py\", line 43, in _hierarchy_pos\n",
      "    pos = _hierarchy_pos(G, child, width=dx, vert_gap=vert_gap, vert_loc=vert_loc-vert_gap, xcenter=nextx, pos=pos, parent=root)\n",
      "  File \"/work/LAS/jannesar-lab/Mahdi/Darshan-logs-Processing/visualizations_correlation_graph.py\", line 43, in _hierarchy_pos\n",
      "    pos = _hierarchy_pos(G, child, width=dx, vert_gap=vert_gap, vert_loc=vert_loc-vert_gap, xcenter=nextx, pos=pos, parent=root)\n",
      "  [Previous line repeated 993 more times]\n",
      "  File \"/work/LAS/jannesar-lab/Mahdi/Darshan-logs-Processing/visualizations_correlation_graph.py\", line 35, in _hierarchy_pos\n",
      "    children = list(G.neighbors(root))\n",
      "  File \"/opt/python310/lib/python3.10/site-packages/networkx/classes/digraph.py\", line 899, in successors\n",
      "    return iter(self._succ[n])\n",
      "RecursionError: maximum recursion depth exceeded while calling a Python object\n"
     ]
    }
   ],
   "source": [
    "!python3 visualizations_correlation_graph.py"
   ]
  },
  {
   "cell_type": "code",
   "execution_count": null,
   "id": "d7a419c8-64e0-4fcc-bf6f-17c945f2a428",
   "metadata": {},
   "outputs": [],
   "source": []
  }
 ],
 "metadata": {
  "kernelspec": {
   "display_name": "Python 3 (ipykernel)",
   "language": "python",
   "name": "python3"
  },
  "language_info": {
   "codemirror_mode": {
    "name": "ipython",
    "version": 3
   },
   "file_extension": ".py",
   "mimetype": "text/x-python",
   "name": "python",
   "nbconvert_exporter": "python",
   "pygments_lexer": "ipython3",
   "version": "3.10.11"
  }
 },
 "nbformat": 4,
 "nbformat_minor": 5
}
