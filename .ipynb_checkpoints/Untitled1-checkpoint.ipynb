{
 "cells": [
  {
   "cell_type": "code",
   "execution_count": 1,
   "id": "76ca3286-63fb-4562-bfac-1705440c7ca0",
   "metadata": {
    "tags": []
   },
   "outputs": [
    {
     "name": "stdout",
     "output_type": "stream",
     "text": [
      "/bin/bash: line 1: h5cc: command not found\n"
     ]
    }
   ],
   "source": [
    "!h5cc -showconfig"
   ]
  },
  {
   "cell_type": "code",
   "execution_count": 2,
   "id": "a3b0d92e-cb44-4f3f-8bad-164ccbfecb15",
   "metadata": {
    "tags": []
   },
   "outputs": [
    {
     "name": "stdout",
     "output_type": "stream",
     "text": [
      "3.11.0\n"
     ]
    }
   ],
   "source": [
    "!python -c \"import h5py; print(h5py.__version__)\""
   ]
  },
  {
   "cell_type": "code",
   "execution_count": null,
   "id": "475b60a4-efe6-45b2-ac6c-cb547371f7eb",
   "metadata": {},
   "outputs": [],
   "source": [
    "!python3 generate_graph.py"
   ]
  },
  {
   "cell_type": "code",
   "execution_count": 11,
   "id": "62116fe7-f19a-4b24-8ac9-5b77bf9ae34d",
   "metadata": {
    "collapsed": true,
    "jupyter": {
     "outputs_hidden": true
    },
    "tags": []
   },
   "outputs": [
    {
     "name": "stdout",
     "output_type": "stream",
     "text": [
      "Traceback (most recent call last):\n",
      "  File \"/work/LAS/jannesar-lab/Mahdi/Darshan-logs-Processing/gnn_training.py\", line 72, in <module>\n",
      "    dataset = [create_data_object(nodes, edges, row) for _, row in data_df.iterrows()]\n",
      "  File \"/work/LAS/jannesar-lab/Mahdi/Darshan-logs-Processing/gnn_training.py\", line 72, in <listcomp>\n",
      "    dataset = [create_data_object(nodes, edges, row) for _, row in data_df.iterrows()]\n",
      "  File \"/work/LAS/jannesar-lab/Mahdi/Darshan-logs-Processing/gnn_training.py\", line 52, in create_data_object\n",
      "    x.append(data[node_indices[node]])  # Access data using node index\n",
      "  File \"/opt/python310/lib/python3.10/site-packages/pandas/core/series.py\", line 1004, in __getitem__\n",
      "    return self._values[key]\n",
      "IndexError: index 46 is out of bounds for axis 0 with size 46\n"
     ]
    }
   ],
   "source": [
    "!python3 gnn_training.py"
   ]
  },
  {
   "cell_type": "code",
   "execution_count": null,
   "id": "2432f643-862a-467f-aefc-a2341b20bf6b",
   "metadata": {},
   "outputs": [],
   "source": []
  }
 ],
 "metadata": {
  "kernelspec": {
   "display_name": "Python 3 (ipykernel)",
   "language": "python",
   "name": "python3"
  },
  "language_info": {
   "codemirror_mode": {
    "name": "ipython",
    "version": 3
   },
   "file_extension": ".py",
   "mimetype": "text/x-python",
   "name": "python",
   "nbconvert_exporter": "python",
   "pygments_lexer": "ipython3",
   "version": "3.10.11"
  }
 },
 "nbformat": 4,
 "nbformat_minor": 5
}
