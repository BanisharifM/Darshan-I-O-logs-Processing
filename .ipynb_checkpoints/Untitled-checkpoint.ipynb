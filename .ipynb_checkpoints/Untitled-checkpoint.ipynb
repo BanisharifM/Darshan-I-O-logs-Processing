{
 "cells": [
  {
   "cell_type": "code",
   "execution_count": 5,
   "id": "2912769b-0018-41d5-a729-aa84c1f9282b",
   "metadata": {
    "tags": []
   },
   "outputs": [],
   "source": [
    "!python3 gnn.py"
   ]
  },
  {
   "cell_type": "code",
   "execution_count": null,
   "id": "ade151d1-4e87-4fa2-a304-a4131c0f110e",
   "metadata": {},
   "outputs": [],
   "source": []
  }
 ],
 "metadata": {
  "kernelspec": {
   "display_name": "Python 3 (ipykernel)",
   "language": "python",
   "name": "python3"
  },
  "language_info": {
   "codemirror_mode": {
    "name": "ipython",
    "version": 3
   },
   "file_extension": ".py",
   "mimetype": "text/x-python",
   "name": "python",
   "nbconvert_exporter": "python",
   "pygments_lexer": "ipython3",
   "version": "3.10.11"
  }
 },
 "nbformat": 4,
 "nbformat_minor": 5
}
