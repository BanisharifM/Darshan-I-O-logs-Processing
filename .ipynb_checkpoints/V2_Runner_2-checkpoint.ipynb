{
 "cells": [
  {
   "cell_type": "code",
   "execution_count": 1,
   "id": "b9769f5d-2e2e-4697-a153-1f46ce0e95d2",
   "metadata": {
    "tags": []
   },
   "outputs": [
    {
     "name": "stdout",
     "output_type": "stream",
     "text": [
      "2024-09-29 22:54:24,428 - INFO - Starting data processing.\n",
      "2024-09-29 22:54:24,428 - INFO - Loading graph structure from Graphs/Graph200/graph_structure.yaml\n",
      "2024-09-29 22:54:24,457 - INFO - Graph structure loaded successfully.\n",
      "2024-09-29 22:54:24,457 - INFO - Loading dataset from CSVs/sample_train_total.csv\n",
      "2024-09-29 22:54:53,208 - INFO - Dataset loaded successfully with 6647219 total rows.\n",
      "2024-09-29 22:54:53,208 - INFO - Randomly selecting 10000 rows from the dataset\n",
      "2024-09-29 22:54:53,371 - INFO - Randomly selected 10000 rows.\n",
      "2024-09-29 22:54:53,371 - INFO - Splitting selected data into training and testing sets with test size = 0.25\n",
      "2024-09-29 22:54:53,374 - INFO - Selected data split into 7500 training rows and 2500 testing rows.\n",
      "2024-09-29 22:54:53,374 - INFO - Processing training data with 7500 rows.\n",
      "2024-09-29 22:55:04,438 - INFO - All graphs saved to Graphs/Graph200/10,000/train_graphs.csv.\n",
      "2024-09-29 22:55:04,593 - INFO - Processing testing data with 2500 rows.\n",
      "2024-09-29 22:55:08,257 - INFO - All graphs saved to Graphs/Graph200/10,000/test_graphs.csv.\n",
      "2024-09-29 22:55:08,313 - INFO - Data processing completed.\n"
     ]
    }
   ],
   "source": [
    "# total_rows = 10,000\n",
    "# Graph200/10,000\n",
    "# Random selection + Currect Split\n",
    "!source ~/env4/bin/activate && python /u/mbanisharifdehkordi/Github/GNN_4_IO/generate_graph100.py"
   ]
  },
  {
   "cell_type": "code",
   "execution_count": 2,
   "id": "b41ba09d-69b3-47cd-87f6-e8ba79f34fb8",
   "metadata": {
    "tags": []
   },
   "outputs": [
    {
     "name": "stdout",
     "output_type": "stream",
     "text": [
      "^C\n",
      "Traceback (most recent call last):\n",
      "  File \"/u/mbanisharifdehkordi/Github/GNN_4_IO/gnn_training200.py\", line 116, in <module>\n",
      "    train_data = load_data(train_file_path)\n",
      "  File \"/u/mbanisharifdehkordi/Github/GNN_4_IO/gnn_training200.py\", line 65, in load_data\n",
      "    node_features = graph_df[['node_1_value', 'node_2_value']].values.flatten().reshape(-1, 1)\n",
      "KeyboardInterrupt\n"
     ]
    }
   ],
   "source": [
    "!source ~/env4/bin/activate && python /u/mbanisharifdehkordi/Github/GNN_4_IO/gnn_training200.py"
   ]
  },
  {
   "cell_type": "code",
   "execution_count": 1,
   "id": "7aa8a83f-fb45-4330-a7c4-e2c8ed2c65d2",
   "metadata": {
    "tags": []
   },
   "outputs": [
    {
     "name": "stdout",
     "output_type": "stream",
     "text": [
      "2024-09-29 23:24:31,261 - INFO - Starting data processing.\n",
      "2024-09-29 23:24:31,261 - INFO - Loading graph structure from Graphs/Graph200/graph_structure.yaml\n",
      "2024-09-29 23:24:31,290 - INFO - Graph structure loaded successfully.\n",
      "2024-09-29 23:24:31,290 - INFO - Loading dataset from CSVs/sample_train_total.csv\n",
      "2024-09-29 23:24:59,792 - INFO - Dataset loaded successfully with 6647219 total rows.\n",
      "2024-09-29 23:24:59,792 - INFO - Randomly selecting 100000 rows from the dataset\n",
      "2024-09-29 23:24:59,988 - INFO - Randomly selected 100000 rows.\n",
      "2024-09-29 23:24:59,988 - INFO - Splitting selected data into training and testing sets with test size = 0.25\n",
      "2024-09-29 23:25:00,011 - INFO - Selected data split into 75000 training rows and 25000 testing rows.\n",
      "2024-09-29 23:25:00,011 - INFO - Processing training data with 75000 rows.\n",
      "2024-09-29 23:26:51,895 - INFO - All graphs saved to Graphs/Graph200/100,000/train_graphs.csv.\n",
      "2024-09-29 23:26:55,298 - INFO - Processing testing data with 25000 rows.\n",
      "2024-09-29 23:27:32,777 - INFO - All graphs saved to Graphs/Graph200/100,000/test_graphs.csv.\n",
      "2024-09-29 23:27:33,933 - INFO - Data processing completed.\n"
     ]
    }
   ],
   "source": [
    "# total_rows = 100,000\n",
    "# Graph200/100,000\n",
    "# Random selection + Currect Split\n",
    "!source ~/env4/bin/activate && python /u/mbanisharifdehkordi/Github/GNN_4_IO/generate_graph100.py"
   ]
  },
  {
   "cell_type": "code",
   "execution_count": null,
   "id": "0ef4345e-1a85-4bb7-acf6-8f03d3dc6cc5",
   "metadata": {
    "tags": []
   },
   "outputs": [
    {
     "name": "stdout",
     "output_type": "stream",
     "text": [
      "2024-09-29 23:49:48,753 - INFO - Epoch 1, Train Loss: 0.3610, Train RMSE: 0.3736, Test RMSE: 0.3739, Train MAE: 0.1235, Test MAE: 0.1225, Train R²: 0.0154, Test R²: 0.0187\n",
      "2024-09-29 23:51:09,106 - INFO - Epoch 2, Train Loss: 0.1607, Train RMSE: 0.3505, Test RMSE: 0.3508, Train MAE: 0.1285, Test MAE: 0.1270, Train R²: 0.1336, Test R²: 0.1360\n",
      "2024-09-29 23:52:28,045 - INFO - Epoch 3, Train Loss: 0.1568, Train RMSE: 0.3723, Test RMSE: 0.3723, Train MAE: 0.1485, Test MAE: 0.1477, Train R²: 0.0226, Test R²: 0.0269\n",
      "2024-09-29 23:53:48,797 - INFO - Epoch 4, Train Loss: 0.1556, Train RMSE: 0.3657, Test RMSE: 0.3658, Train MAE: 0.1479, Test MAE: 0.1469, Train R²: 0.0566, Test R²: 0.0606\n",
      "2024-09-29 23:55:13,830 - INFO - Epoch 5, Train Loss: 0.1528, Train RMSE: 0.3438, Test RMSE: 0.3440, Train MAE: 0.1145, Test MAE: 0.1130, Train R²: 0.1664, Test R²: 0.1694\n",
      "2024-09-29 23:56:38,055 - INFO - Epoch 6, Train Loss: 0.1517, Train RMSE: 0.3419, Test RMSE: 0.3422, Train MAE: 0.1166, Test MAE: 0.1151, Train R²: 0.1754, Test R²: 0.1782\n",
      "2024-09-29 23:57:54,531 - INFO - Epoch 7, Train Loss: 0.1509, Train RMSE: 0.3449, Test RMSE: 0.3451, Train MAE: 0.1190, Test MAE: 0.1176, Train R²: 0.1608, Test R²: 0.1639\n",
      "2024-09-30 00:12:49,123 - INFO - Epoch 8, Train Loss: 0.1482, Train RMSE: 0.3468, Test RMSE: 0.3471, Train MAE: 0.1235, Test MAE: 0.1221, Train R²: 0.1515, Test R²: 0.1545\n",
      "2024-09-30 00:14:06,376 - INFO - Epoch 9, Train Loss: 0.1483, Train RMSE: 0.3546, Test RMSE: 0.3546, Train MAE: 0.1285, Test MAE: 0.1273, Train R²: 0.1129, Test R²: 0.1172\n",
      "2024-09-30 00:15:21,077 - INFO - Epoch 10, Train Loss: 0.1470, Train RMSE: 0.3439, Test RMSE: 0.3441, Train MAE: 0.1092, Test MAE: 0.1078, Train R²: 0.1657, Test R²: 0.1687\n",
      "2024-09-30 00:16:35,006 - INFO - Epoch 11, Train Loss: 0.1459, Train RMSE: 0.3534, Test RMSE: 0.3535, Train MAE: 0.1413, Test MAE: 0.1404, Train R²: 0.1192, Test R²: 0.1227\n",
      "2024-09-30 00:17:51,159 - INFO - Epoch 12, Train Loss: 0.1462, Train RMSE: 0.3555, Test RMSE: 0.3557, Train MAE: 0.1377, Test MAE: 0.1366, Train R²: 0.1086, Test R²: 0.1119\n",
      "2024-09-30 00:19:13,784 - INFO - Epoch 13, Train Loss: 0.1461, Train RMSE: 0.3507, Test RMSE: 0.3509, Train MAE: 0.1340, Test MAE: 0.1329, Train R²: 0.1327, Test R²: 0.1355\n",
      "2024-09-30 00:20:31,780 - INFO - Epoch 14, Train Loss: 0.1445, Train RMSE: 0.3428, Test RMSE: 0.3431, Train MAE: 0.1121, Test MAE: 0.1107, Train R²: 0.1709, Test R²: 0.1738\n",
      "2024-09-30 00:21:49,687 - INFO - Epoch 15, Train Loss: 0.1444, Train RMSE: 0.3387, Test RMSE: 0.3388, Train MAE: 0.1178, Test MAE: 0.1164, Train R²: 0.1911, Test R²: 0.1942\n",
      "2024-09-30 00:23:08,839 - INFO - Epoch 16, Train Loss: 0.1438, Train RMSE: 0.3456, Test RMSE: 0.3460, Train MAE: 0.1138, Test MAE: 0.1125, Train R²: 0.1573, Test R²: 0.1598\n",
      "2024-09-30 00:24:26,847 - INFO - Epoch 17, Train Loss: 0.1429, Train RMSE: 0.3531, Test RMSE: 0.3533, Train MAE: 0.1307, Test MAE: 0.1295, Train R²: 0.1207, Test R²: 0.1240\n",
      "2024-09-30 00:25:45,034 - INFO - Epoch 18, Train Loss: 0.1426, Train RMSE: 0.3423, Test RMSE: 0.3426, Train MAE: 0.1091, Test MAE: 0.1078, Train R²: 0.1735, Test R²: 0.1763\n",
      "2024-09-30 00:27:02,925 - INFO - Epoch 19, Train Loss: 0.1417, Train RMSE: 0.3507, Test RMSE: 0.3508, Train MAE: 0.1133, Test MAE: 0.1120, Train R²: 0.1325, Test R²: 0.1360\n",
      "2024-09-30 00:28:24,402 - INFO - Epoch 20, Train Loss: 0.1410, Train RMSE: 0.3397, Test RMSE: 0.3399, Train MAE: 0.1258, Test MAE: 0.1245, Train R²: 0.1860, Test R²: 0.1891\n",
      "2024-09-30 00:29:44,799 - INFO - Epoch 21, Train Loss: 0.1408, Train RMSE: 0.3567, Test RMSE: 0.3568, Train MAE: 0.1275, Test MAE: 0.1263, Train R²: 0.1025, Test R²: 0.1064\n",
      "2024-09-30 00:31:02,519 - INFO - Epoch 22, Train Loss: 0.1414, Train RMSE: 0.3464, Test RMSE: 0.3464, Train MAE: 0.1078, Test MAE: 0.1065, Train R²: 0.1537, Test R²: 0.1576\n",
      "2024-09-30 00:32:17,258 - INFO - Epoch 23, Train Loss: 0.1396, Train RMSE: 0.3493, Test RMSE: 0.3494, Train MAE: 0.1243, Test MAE: 0.1231, Train R²: 0.1394, Test R²: 0.1432\n",
      "2024-09-30 00:33:34,961 - INFO - Epoch 24, Train Loss: 0.1397, Train RMSE: 0.3369, Test RMSE: 0.3369, Train MAE: 0.1129, Test MAE: 0.1115, Train R²: 0.1995, Test R²: 0.2032\n",
      "2024-09-30 00:34:55,222 - INFO - Epoch 25, Train Loss: 0.1393, Train RMSE: 0.3562, Test RMSE: 0.3563, Train MAE: 0.1330, Test MAE: 0.1319, Train R²: 0.1052, Test R²: 0.1088\n",
      "2024-09-30 00:36:12,816 - INFO - Epoch 26, Train Loss: 0.1386, Train RMSE: 0.3365, Test RMSE: 0.3364, Train MAE: 0.1121, Test MAE: 0.1107, Train R²: 0.2015, Test R²: 0.2055\n",
      "2024-09-30 00:37:31,440 - INFO - Epoch 27, Train Loss: 0.1383, Train RMSE: 0.3353, Test RMSE: 0.3352, Train MAE: 0.1088, Test MAE: 0.1075, Train R²: 0.2072, Test R²: 0.2115\n",
      "2024-09-30 00:38:49,616 - INFO - Epoch 28, Train Loss: 0.1375, Train RMSE: 0.3438, Test RMSE: 0.3438, Train MAE: 0.1231, Test MAE: 0.1219, Train R²: 0.1664, Test R²: 0.1705\n",
      "2024-09-30 00:40:10,874 - INFO - Epoch 29, Train Loss: 0.1384, Train RMSE: 0.3449, Test RMSE: 0.3448, Train MAE: 0.1201, Test MAE: 0.1189, Train R²: 0.1612, Test R²: 0.1653\n",
      "2024-09-30 00:41:28,972 - INFO - Epoch 30, Train Loss: 0.1375, Train RMSE: 0.3319, Test RMSE: 0.3320, Train MAE: 0.1081, Test MAE: 0.1068, Train R²: 0.2231, Test R²: 0.2263\n",
      "2024-09-30 00:42:49,936 - INFO - Epoch 31, Train Loss: 0.1376, Train RMSE: 0.3389, Test RMSE: 0.3387, Train MAE: 0.1099, Test MAE: 0.1086, Train R²: 0.1899, Test R²: 0.1948\n",
      "2024-09-30 00:44:06,927 - INFO - Epoch 32, Train Loss: 0.1372, Train RMSE: 0.3419, Test RMSE: 0.3416, Train MAE: 0.1263, Test MAE: 0.1250, Train R²: 0.1756, Test R²: 0.1809\n",
      "2024-09-30 00:45:23,051 - INFO - Epoch 33, Train Loss: 0.1364, Train RMSE: 0.3500, Test RMSE: 0.3499, Train MAE: 0.1384, Test MAE: 0.1373, Train R²: 0.1361, Test R²: 0.1407\n",
      "2024-09-30 00:46:39,201 - INFO - Epoch 34, Train Loss: 0.1364, Train RMSE: 0.3329, Test RMSE: 0.3327, Train MAE: 0.1110, Test MAE: 0.1096, Train R²: 0.2183, Test R²: 0.2228\n",
      "2024-09-30 00:47:58,716 - INFO - Epoch 35, Train Loss: 0.1357, Train RMSE: 0.3465, Test RMSE: 0.3466, Train MAE: 0.1337, Test MAE: 0.1325, Train R²: 0.1531, Test R²: 0.1565\n",
      "2024-09-30 00:49:19,048 - INFO - Epoch 36, Train Loss: 0.1359, Train RMSE: 0.3513, Test RMSE: 0.3510, Train MAE: 0.1326, Test MAE: 0.1314, Train R²: 0.1298, Test R²: 0.1352\n",
      "2024-09-30 00:50:40,222 - INFO - Epoch 37, Train Loss: 0.1358, Train RMSE: 0.3395, Test RMSE: 0.3393, Train MAE: 0.1196, Test MAE: 0.1182, Train R²: 0.1869, Test R²: 0.1920\n",
      "2024-09-30 00:52:00,947 - INFO - Epoch 38, Train Loss: 0.1353, Train RMSE: 0.3597, Test RMSE: 0.3594, Train MAE: 0.1506, Test MAE: 0.1496, Train R²: 0.0875, Test R²: 0.0935\n",
      "2024-09-30 00:53:18,509 - INFO - Epoch 39, Train Loss: 0.1354, Train RMSE: 0.3493, Test RMSE: 0.3489, Train MAE: 0.1504, Test MAE: 0.1493, Train R²: 0.1393, Test R²: 0.1454\n",
      "2024-09-30 00:54:36,513 - INFO - Epoch 40, Train Loss: 0.1347, Train RMSE: 0.3468, Test RMSE: 0.3465, Train MAE: 0.1407, Test MAE: 0.1395, Train R²: 0.1515, Test R²: 0.1573\n",
      "2024-09-30 00:55:54,866 - INFO - Epoch 41, Train Loss: 0.1346, Train RMSE: 0.3342, Test RMSE: 0.3340, Train MAE: 0.1112, Test MAE: 0.1098, Train R²: 0.2120, Test R²: 0.2169\n",
      "2024-09-30 00:57:13,749 - INFO - Epoch 42, Train Loss: 0.1342, Train RMSE: 0.3308, Test RMSE: 0.3307, Train MAE: 0.1221, Test MAE: 0.1207, Train R²: 0.2284, Test R²: 0.2324\n",
      "2024-09-30 00:58:33,753 - INFO - Epoch 43, Train Loss: 0.1341, Train RMSE: 0.3593, Test RMSE: 0.3591, Train MAE: 0.1535, Test MAE: 0.1525, Train R²: 0.0897, Test R²: 0.0950\n",
      "2024-09-30 01:00:01,336 - INFO - Epoch 44, Train Loss: 0.1342, Train RMSE: 0.3354, Test RMSE: 0.3351, Train MAE: 0.1153, Test MAE: 0.1139, Train R²: 0.2065, Test R²: 0.2116\n",
      "2024-09-30 01:01:22,451 - INFO - Epoch 45, Train Loss: 0.1339, Train RMSE: 0.3549, Test RMSE: 0.3546, Train MAE: 0.1606, Test MAE: 0.1596, Train R²: 0.1113, Test R²: 0.1173\n",
      "2024-09-30 01:02:42,521 - INFO - Epoch 46, Train Loss: 0.1334, Train RMSE: 0.3355, Test RMSE: 0.3352, Train MAE: 0.1119, Test MAE: 0.1105, Train R²: 0.2061, Test R²: 0.2112\n",
      "2024-09-30 01:04:01,447 - INFO - Epoch 47, Train Loss: 0.1327, Train RMSE: 0.3348, Test RMSE: 0.3345, Train MAE: 0.1087, Test MAE: 0.1073, Train R²: 0.2094, Test R²: 0.2147\n",
      "2024-09-30 01:05:16,985 - INFO - Epoch 48, Train Loss: 0.1328, Train RMSE: 0.3372, Test RMSE: 0.3370, Train MAE: 0.1233, Test MAE: 0.1220, Train R²: 0.1981, Test R²: 0.2027\n",
      "2024-09-30 01:06:33,219 - INFO - Epoch 49, Train Loss: 0.1325, Train RMSE: 0.3488, Test RMSE: 0.3485, Train MAE: 0.1408, Test MAE: 0.1397, Train R²: 0.1420, Test R²: 0.1474\n",
      "2024-09-30 01:07:51,746 - INFO - Epoch 50, Train Loss: 0.1319, Train RMSE: 0.3420, Test RMSE: 0.3418, Train MAE: 0.1301, Test MAE: 0.1288, Train R²: 0.1748, Test R²: 0.1798\n",
      "2024-09-30 01:09:10,085 - INFO - Epoch 51, Train Loss: 0.1321, Train RMSE: 0.3341, Test RMSE: 0.3338, Train MAE: 0.1138, Test MAE: 0.1124, Train R²: 0.2125, Test R²: 0.2178\n",
      "2024-09-30 01:10:28,751 - INFO - Epoch 52, Train Loss: 0.1317, Train RMSE: 0.3402, Test RMSE: 0.3400, Train MAE: 0.1191, Test MAE: 0.1177, Train R²: 0.1836, Test R²: 0.1887\n",
      "2024-09-30 01:11:47,074 - INFO - Epoch 53, Train Loss: 0.1307, Train RMSE: 0.3385, Test RMSE: 0.3382, Train MAE: 0.1156, Test MAE: 0.1142, Train R²: 0.1917, Test R²: 0.1969\n",
      "2024-09-30 01:13:03,588 - INFO - Epoch 54, Train Loss: 0.1306, Train RMSE: 0.3329, Test RMSE: 0.3327, Train MAE: 0.1067, Test MAE: 0.1052, Train R²: 0.2182, Test R²: 0.2232\n",
      "2024-09-30 01:14:42,444 - INFO - Epoch 55, Train Loss: 0.1305, Train RMSE: 0.3408, Test RMSE: 0.3405, Train MAE: 0.1181, Test MAE: 0.1168, Train R²: 0.1808, Test R²: 0.1863\n",
      "2024-09-30 01:16:06,656 - INFO - Epoch 56, Train Loss: 0.1304, Train RMSE: 0.3439, Test RMSE: 0.3435, Train MAE: 0.1244, Test MAE: 0.1231, Train R²: 0.1657, Test R²: 0.1717\n",
      "2024-09-30 01:17:30,524 - INFO - Epoch 57, Train Loss: 0.1302, Train RMSE: 0.3333, Test RMSE: 0.3329, Train MAE: 0.1108, Test MAE: 0.1093, Train R²: 0.2166, Test R²: 0.2219\n",
      "2024-09-30 01:18:58,707 - INFO - Epoch 58, Train Loss: 0.1293, Train RMSE: 0.3339, Test RMSE: 0.3336, Train MAE: 0.1108, Test MAE: 0.1094, Train R²: 0.2135, Test R²: 0.2186\n",
      "2024-09-30 01:20:20,542 - INFO - Epoch 59, Train Loss: 0.1291, Train RMSE: 0.3420, Test RMSE: 0.3417, Train MAE: 0.1183, Test MAE: 0.1169, Train R²: 0.1750, Test R²: 0.1802\n",
      "2024-09-30 01:21:40,011 - INFO - Epoch 60, Train Loss: 0.1288, Train RMSE: 0.3455, Test RMSE: 0.3452, Train MAE: 0.1323, Test MAE: 0.1310, Train R²: 0.1579, Test R²: 0.1637\n",
      "2024-09-30 01:22:59,241 - INFO - Epoch 61, Train Loss: 0.1289, Train RMSE: 0.3331, Test RMSE: 0.3327, Train MAE: 0.1078, Test MAE: 0.1063, Train R²: 0.2173, Test R²: 0.2230\n"
     ]
    }
   ],
   "source": [
    "# total_rows = 100,000\n",
    "# Graph200/100,000\n",
    "# Random selection + Currect Split\n",
    "# Randomly selected 100,000 rows.\n",
    "# Selected data split into 75000 training rows and 25000 testing rows.\n",
    "!source ~/env4/bin/activate && python /u/mbanisharifdehkordi/Github/GNN_4_IO/gnn_training200.py"
   ]
  },
  {
   "cell_type": "code",
   "execution_count": null,
   "id": "779b2d2f-674c-4267-b1b1-95574683893c",
   "metadata": {},
   "outputs": [],
   "source": []
  }
 ],
 "metadata": {
  "kernelspec": {
   "display_name": "Python (env4)",
   "language": "python",
   "name": "env4"
  },
  "language_info": {
   "codemirror_mode": {
    "name": "ipython",
    "version": 3
   },
   "file_extension": ".py",
   "mimetype": "text/x-python",
   "name": "python",
   "nbconvert_exporter": "python",
   "pygments_lexer": "ipython3",
   "version": "3.9.18"
  }
 },
 "nbformat": 4,
 "nbformat_minor": 5
}
