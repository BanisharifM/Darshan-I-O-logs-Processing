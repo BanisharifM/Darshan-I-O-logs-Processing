{
 "cells": [
  {
   "cell_type": "code",
   "execution_count": null,
   "id": "8eae6f4b-ec2b-4e33-8123-a7d8af48b79d",
   "metadata": {
    "tags": []
   },
   "outputs": [
    {
     "name": "stdout",
     "output_type": "stream",
     "text": [
      "2024-06-25 08:53:25,270 - Processing chunk 1\n"
     ]
    }
   ],
   "source": [
    "!python3 correlation_full.py"
   ]
  },
  {
   "cell_type": "code",
   "execution_count": null,
   "id": "eee9fe10-36f9-434c-9142-820ffb8fd0b5",
   "metadata": {},
   "outputs": [],
   "source": []
  }
 ],
 "metadata": {
  "kernelspec": {
   "display_name": "Python 3 (ipykernel)",
   "language": "python",
   "name": "python3"
  },
  "language_info": {
   "codemirror_mode": {
    "name": "ipython",
    "version": 3
   },
   "file_extension": ".py",
   "mimetype": "text/x-python",
   "name": "python",
   "nbconvert_exporter": "python",
   "pygments_lexer": "ipython3",
   "version": "3.10.11"
  }
 },
 "nbformat": 4,
 "nbformat_minor": 5
}
