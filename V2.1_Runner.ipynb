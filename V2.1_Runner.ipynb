{
 "cells": [
  {
   "cell_type": "code",
   "execution_count": 17,
   "id": "1c7013a9-984c-4888-a9f4-dbb9cb38ae34",
   "metadata": {
    "collapsed": true,
    "jupyter": {
     "outputs_hidden": true
    },
    "tags": []
   },
   "outputs": [
    {
     "name": "stdout",
     "output_type": "stream",
     "text": [
      "2024-10-03 22:31:34,816 - INFO - Starting data processing.\n",
      "2024-10-03 22:31:34,816 - INFO - Loading graph structure from Graphs/Graph201/graph_structure.yaml\n",
      "2024-10-03 22:31:34,844 - INFO - Graph structure loaded successfully.\n",
      "2024-10-03 22:31:34,844 - INFO - Loading counter to integer mapping from Graphs/Graph201/counter_mapping.json\n",
      "2024-10-03 22:31:34,844 - INFO - Counter to integer mapping loaded successfully.\n",
      "2024-10-03 22:31:34,844 - INFO - Loading dataset from CSVs/sample_train_total.csv\n",
      "2024-10-03 22:32:02,769 - INFO - Dataset loaded successfully with 6647219 total rows.\n",
      "2024-10-03 22:32:02,769 - INFO - Randomly selecting 6000000 rows from the dataset\n",
      "2024-10-03 22:32:04,837 - INFO - Randomly selected 6000000 rows.\n",
      "2024-10-03 22:32:04,838 - INFO - Splitting selected data into training and testing sets with test size = 0.25\n",
      "2024-10-03 22:32:06,938 - INFO - Selected data split into 4500000 training rows and 1500000 testing rows.\n",
      "2024-10-03 22:32:06,938 - INFO - Processing training data with 4500000 rows.\n",
      "2024-10-03 22:32:06,940 - DEBUG - Available counter mappings (normalized): {1: 'nprocs', 2: 'posix_opens', 3: 'lustre_stripe_size', 4: 'lustre_stripe_width', 5: 'posix_filenos', 6: 'posix_mem_alignment', 7: 'posix_file_alignment', 8: 'posix_reads', 9: 'posix_writes', 10: 'posix_seeks', 11: 'posix_stats', 12: 'posix_bytes_read', 13: 'posix_bytes_written', 14: 'posix_consec_reads', 15: 'posix_consec_writes', 16: 'posix_seq_reads', 17: 'posix_seq_writes', 18: 'posix_rw_switches', 19: 'posix_mem_not_aligned', 20: 'posix_file_not_aligned', 21: 'posix_size_read_0_100', 22: 'posix_size_read_100_1k', 23: 'posix_size_read_1k_10k', 24: 'posix_size_read_100k_1m', 25: 'posix_size_write_0_100', 26: 'posix_size_write_100_1k', 27: 'posix_size_write_1k_10k', 28: 'posix_size_write_10k_100k', 29: 'posix_size_write_100k_1m', 30: 'posix_stride1_stride', 31: 'posix_stride2_stride', 32: 'posix_stride3_stride', 33: 'posix_stride4_stride', 34: 'posix_stride1_count', 35: 'posix_stride2_count', 36: 'posix_stride3_count', 37: 'posix_stride4_count', 38: 'posix_access1_access', 39: 'posix_access2_access', 40: 'posix_access3_access', 41: 'posix_access4_access', 42: 'posix_access1_count', 43: 'posix_access2_count', 44: 'posix_access3_count', 45: 'posix_access4_count', 46: 'tag'}\n",
      "^C\n",
      "Traceback (most recent call last):\n",
      "  File \"/u/mbanisharifdehkordi/Github/GNN_4_IO/generate_graph201.py\", line 146, in <module>\n",
      "    load_and_process_data(train_file_path, total_rows, yaml_file_path, counter_mapping_file, output_dir, log_interval=1000)\n",
      "  File \"/u/mbanisharifdehkordi/Github/GNN_4_IO/generate_graph201.py\", line 126, in load_and_process_data\n",
      "    save_graph_data(output_dir, output_file, train_data, len(train_data), graph_structure, counter_mapping)\n",
      "  File \"/u/mbanisharifdehkordi/Github/GNN_4_IO/generate_graph201.py\", line 55, in save_graph_data\n",
      "    for connection in connections:\n",
      "KeyboardInterrupt\n"
     ]
    }
   ],
   "source": [
    "# total_rows = 10\n",
    "# Graph201/10\n",
    "# Node name mapping\n",
    "!source ~/env4/bin/activate && python /u/mbanisharifdehkordi/Github/GNN_4_IO/generate_graph201.py"
   ]
  },
  {
   "cell_type": "code",
   "execution_count": null,
   "id": "35c66db5-74aa-404d-9685-0e0841a2c5f8",
   "metadata": {},
   "outputs": [],
   "source": []
  }
 ],
 "metadata": {
  "kernelspec": {
   "display_name": "Python (env4)",
   "language": "python",
   "name": "env4"
  },
  "language_info": {
   "codemirror_mode": {
    "name": "ipython",
    "version": 3
   },
   "file_extension": ".py",
   "mimetype": "text/x-python",
   "name": "python",
   "nbconvert_exporter": "python",
   "pygments_lexer": "ipython3",
   "version": "3.9.18"
  }
 },
 "nbformat": 4,
 "nbformat_minor": 5
}
